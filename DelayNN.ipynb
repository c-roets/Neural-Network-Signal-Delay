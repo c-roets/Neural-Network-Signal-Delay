{
  "nbformat": 4,
  "nbformat_minor": 0,
  "metadata": {
    "colab": {
      "provenance": []
    },
    "kernelspec": {
      "name": "python3",
      "display_name": "Python 3"
    },
    "language_info": {
      "name": "python"
    }
  },
  "cells": [
    {
      "cell_type": "code",
      "execution_count": 191,
      "metadata": {
        "id": "a0_exOypAsUx"
      },
      "outputs": [],
      "source": [
        "#Imports\n",
        "import numpy as np\n",
        "import matplotlib.pyplot as plt\n",
        "import os\n",
        "import pandas as pd\n",
        "import natsort\n",
        "import re \n",
        "import sys\n",
        "from tensorflow.keras.models import Sequential\n",
        "from tensorflow.keras.layers import Dense\n",
        "from tensorflow.keras import layers\n",
        "from keras import backend as K\n",
        "from zipfile import ZipFile\n",
        "import tensorflow as tf"
      ]
    },
    {
      "cell_type": "markdown",
      "source": [
        "Eerst moet de delay_dataset.zip worden geupload naar colab, zo kan het volgende blok code dit uitpakken"
      ],
      "metadata": {
        "id": "oN1PtXsL6tmU"
      }
    },
    {
      "cell_type": "code",
      "source": [
        "#Eerst delay_dataset uploaden naar google colab en wachten tot upload compleet is\n",
        "standaarddirectory = os.getcwd()                  #standaarddirectory van google colab opslaan zodat we altijd terug kunnen keren naar deze\n",
        "file_name = \"delay_dataset.zip\"                   \n",
        "if not os.path.exists(\"stud_train\"):              #Als de data nog niet uitgepakt is en deze folder dus nog niet bestaat, gaan we dit doen\n",
        "  try:\n",
        "    with ZipFile(file_name,'r') as zipper:\n",
        "      zipper.extractall()\n",
        "      print(\"extractie data klaar\")\n",
        "  except:\n",
        "    sys.exit(\"Fout bij extractie data, zeker dat deze goed is geupload?\")\n",
        "\n",
        "if not os.path.exists(\"stud_train_combined_ASDR\"):    #Een folder waarin we de gecombineerde ASDR train signalen van 1024 samples zullen opslaan\n",
        "  os.makedirs(\"stud_train_combined_ASDR\")\n",
        "if not os.path.exists(\"stud_train_combined_GAUSS\"):   #Een folder waarin we de gecombineerde GAUSS train signalen van 1024 samples zullen opslaan\n",
        "  os.makedirs(\"stud_train_combined_GAUSS\")\n",
        "if not os.path.exists(\"stud_train_combined_SBOX\"):    #Een folder waarin we de gecombineerde SBOX train signalen van 1024 samples zullen opslaan\n",
        "  os.makedirs(\"stud_train_combined_SBOX\")\n",
        "\n",
        "if not os.path.exists(\"stud_test_combined_ASDR\"):    #Een folder waarin we de gecombineerde ASDR test signalen van 1024 samples zullen opslaan\n",
        "  os.makedirs(\"stud_test_combined_ASDR\")\n",
        "if not os.path.exists(\"stud_test_combined_GAUSS\"):   #Een folder waarin we de gecombineerde GAUSS test signalen van 1024 samples zullen opslaan\n",
        "  os.makedirs(\"stud_test_combined_GAUSS\")\n",
        "if not os.path.exists(\"stud_test_combined_SBOX\"):    #Een folder waarin we de gecombineerde SBOX test signalen van 1024 samples zullen opslaan\n",
        "  os.makedirs(\"stud_test_combined_SBOX\")"
      ],
      "metadata": {
        "id": "wNoaRK8yCcZ9"
      },
      "execution_count": 192,
      "outputs": []
    },
    {
      "cell_type": "code",
      "source": [
        "# variable declaration\n",
        "train_set = 'stud_train'  #een string voor de folder met de trainsamples\n",
        "test_set = 'stud_test'    #testsamples\n",
        "delaypiekASDR = []    #array met werkelijke delays tussen de pieken (validatiecijfers voor training)\n",
        "delaypiekGAUSS = []\n",
        "delaypiekSBOX = []\n",
        "delaypiekASDRtest = []    #array met werkelijke delays tussen de pieken (cijfers voor testing)\n",
        "delaypiekGAUSStest = []\n",
        "delaypiekSBOXtest = []\n",
        "grafieknummer = 0 #variabele voor grafieknummers"
      ],
      "metadata": {
        "id": "TkRDCfkQA0vF"
      },
      "execution_count": 193,
      "outputs": []
    },
    {
      "cell_type": "code",
      "source": [
        "#Geeft een array met strings weer waarin de namen van de files in die map staan\n",
        "def laadarraymetfilenamenuitmap(map):\n",
        "    filenames = os.listdir(map)  # array met alle filenames van in folder\n",
        "    filenames.sort()\n",
        "    return filenames"
      ],
      "metadata": {
        "id": "HlMfzklhA7La"
      },
      "execution_count": 194,
      "outputs": []
    },
    {
      "cell_type": "code",
      "source": [
        "#plot het signaal van een numpy array aan de hand van een megegeven signaalbestandsnaam\n",
        "#Functie werd enkel gebruikt in het begin voor de twee verschillende signalen van 512 samples te visualiseren op 1 grafiek, niet meer nodig verder\n",
        "def plotsignaal(signaal, evencheck, nummer, x = np.arange(0,512)): #signaal is naam bestand tussen aanhalingstekens\n",
        "    if evencheck % 2 == 0:                                        #evencheck wordt gebruikt om elke keer twee signalen samen op 1 grafiek te zetten met elk een verschillend kleur\n",
        "        kleur = \"red\"         #paar van signalen respectievelijk rood en blauw weergeven zodat het verschil duidelijk is\n",
        "    else:\n",
        "        kleur = \"blue\"\n",
        "    plot = plt.figure(nummer)\n",
        "    plt.xlabel(\"samples\")\n",
        "    plt.ylabel(\"amplitude\")\n",
        "    plt.plot(x,np.load(signaal), color=kleur)"
      ],
      "metadata": {
        "id": "y-1GWcDqA9eQ"
      },
      "execution_count": 195,
      "outputs": []
    },
    {
      "cell_type": "code",
      "source": [
        "#Geeft de waarde van de positie van die piek terug aan de hand van de bestandsnaam\n",
        "def geefpositiepiek(signaal):\n",
        "  truncatedsignaal = (signaal.split(\"P_\",1)[1]) #alles voor de xxx wegdoen dus BV ASDR0_P_ wegdoen\n",
        "  piek = ''.join(x for x in truncatedsignaal[0:3] if x.isdigit()) #drie eerstvolgende karakters overlopen en als deze een cijfer is, maakt deze deel uit van de piek bv: 211_SNR20 wordt 211, 8_SNR26 wordt 8\n",
        "  return piek"
      ],
      "metadata": {
        "id": "Qky7IDJIEWfr"
      },
      "execution_count": 196,
      "outputs": []
    },
    {
      "cell_type": "code",
      "source": [
        "#voegt de array van twee signalen samen om 1 vector van 1024 samples te bekomen\n",
        "def voegsamen(signaal1, signaal2):\n",
        "  return np.concatenate([np.load(signaal1), np.load(signaal2)])"
      ],
      "metadata": {
        "id": "SDrzjHGyYQYE"
      },
      "execution_count": 197,
      "outputs": []
    },
    {
      "cell_type": "code",
      "source": [
        "#wordt gebruikt om de lijst met de files te sorten op numerische orde ipv alfabetische orde om sortering van 0 1 10 11 ... 19 2 20 21 ... 29 3 30 31 etc te voorkomen maar 0 1 2 3 4 ... 99\n",
        "#outsourced functies\n",
        "def atoi(text):\n",
        "    return int(text) if text.isdigit() else text\n",
        "\n",
        "def natural_keys(text):\n",
        "    return [ atoi(c) for c in re.split(r'(\\d+)', text) ]"
      ],
      "metadata": {
        "id": "xRZb5WOyC0UC"
      },
      "execution_count": 198,
      "outputs": []
    },
    {
      "cell_type": "code",
      "source": [
        "#wordt gebruikt om een 200 signalen van 512 te combineren naar 100 van 1024\n",
        "def combinedata(folder, dir, delayarray, typesignaal = \"\", testoftrain = \"\", aantalgrafiekenplotten = 0):\n",
        "  nummer, evencheck, k = 1, 0, 0\n",
        "  for data in folder:\n",
        "    evencheck += 1\n",
        "    if k != 0 and evencheck % 2 == 0:\n",
        "      os.chdir(f\"stud_{testoftrain}\")\n",
        "      masterfile = voegsamen(previous, data)\n",
        "      os.chdir(standaarddirectory)\n",
        "      os.chdir(dir)\n",
        "      savename = f\"{nummer}{typesignaal}.npy\"\n",
        "      np.save(savename,masterfile)\n",
        "      os.chdir(standaarddirectory)\n",
        "      nummer += 1\n",
        "      delayarray.append(512-int(geefpositiepiek(previous))+int(geefpositiepiek(data)))    #512-piek1+piek2 is waarde van delay\n",
        "\n",
        "      #plotten voor eerste paar grafieken, mooie visualisatie als controle\n",
        "      if evencheck < ((aantalgrafiekenplotten*2)+1):  #evencheck > aantal grafieken*2, max 41 vanwege memory limiet -> 20 grafieken, zet op 1 indien je geen grafieken wil zien\n",
        "        plot= plt.figure(nummer)\n",
        "        plt.plot(np.arange(0, 1024),masterfile, color=\"red\")\n",
        "\n",
        "    k += 1\n",
        "    previous = data"
      ],
      "metadata": {
        "id": "5oEbfVnL4mUX"
      },
      "execution_count": 199,
      "outputs": []
    },
    {
      "cell_type": "code",
      "source": [
        "def plotpredictieerrors(predictionslist, delaypiek, titel = '', typesign = 'test'):\n",
        "  global grafieknummer\n",
        "\n",
        "  #x zorgt voor een juiste dimensionering van de x as in de grafiek\n",
        "  if typesign == 'test':\n",
        "    x = 101\n",
        "  elif typesign == 'train':\n",
        "    x = 91\n",
        "  elif typesign == 'validation':\n",
        "    x = 11\n",
        "  elif typesign == 'totaltest':\n",
        "    x = 3*100+1\n",
        "  elif typesign == 'totaltrain':\n",
        "    x = 3*90+1\n",
        "  elif typesign == 'totalvalidation':\n",
        "    x = 3*10+1\n",
        "\n",
        "  error_list = []   #absolute waarde van de fout van predictie \n",
        "  for error1, error2 in zip(predictionslist, delaypiek):\n",
        "    error_list.append(round(abs(error1 - error2)))\n",
        "\n",
        "  print(\"De errors zijn (afgerond tot gehele waarden):\")\n",
        "  print(error_list)\n",
        "  print(\"De predicties zijn:\")\n",
        "  print(predictionslist)\n",
        "  print(\"De werkelijke waarden zijn:\")\n",
        "  print(delaypiek)\n",
        "\n",
        "  #visualiseren error\n",
        "  bar = plt.figure(grafieknummer)\n",
        "  grafieknummer += 1\n",
        "  plt.bar(np.arange(1, x), error_list)\n",
        "  plt.ylim(0, 1024)\n",
        "  plt.title(titel)\n",
        "  plt.show()"
      ],
      "metadata": {
        "id": "RffKkPUQOuOk"
      },
      "execution_count": 263,
      "outputs": []
    },
    {
      "cell_type": "markdown",
      "source": [
        "END OF FUNCTIONS"
      ],
      "metadata": {
        "id": "de6GAjWs9PuT"
      }
    },
    {
      "cell_type": "code",
      "source": [
        "#main\n",
        "#filenames inlezen\n",
        "filenames = laadarraymetfilenamenuitmap(train_set)\n",
        "filenamesASDR = filenames[0:200]\n",
        "filenamesGAUSS = filenames[200:400]\n",
        "filenamesSBOX = filenames[400:600]\n",
        "\n",
        "filenamestest = laadarraymetfilenamenuitmap(test_set)\n",
        "filenamesASDRtest = filenamestest[0:200]\n",
        "filenamesGAUSStest = filenamestest[200:400]\n",
        "filenamesSBOXtest = filenamestest[400:600]\n",
        "\n",
        "#sorteren op numerische wijze ipv alfabetische wijze\n",
        "filenamesASDR.sort(key=natural_keys)\n",
        "filenamesGAUSS.sort(key=natural_keys)\n",
        "filenamesSBOX.sort(key=natural_keys)\n",
        "filenamesASDRtest.sort(key=natural_keys)\n",
        "filenamesGAUSStest.sort(key=natural_keys)\n",
        "filenamesSBOXtest.sort(key=natural_keys)"
      ],
      "metadata": {
        "id": "LN-a76MlCbmP"
      },
      "execution_count": 201,
      "outputs": []
    },
    {
      "cell_type": "code",
      "source": [
        "os.chdir(standaarddirectory)\n",
        "#Nu gaan we de 6 folders opvullen waarin de files gecombineerd worden tot 100 signalen van 1024 samples\n",
        "combinedata(filenamesASDR, \"stud_train_combined_ASDR\", delaypiekASDR, \"ASDR\", \"train\")\n",
        "combinedata(filenamesGAUSS, \"stud_train_combined_GAUSS\", delaypiekGAUSS, \"GAUSS\", \"train\")\n",
        "combinedata(filenamesSBOX, \"stud_train_combined_SBOX\", delaypiekSBOX, \"SBOX\", \"train\")\n",
        "\n",
        "combinedata(filenamesASDRtest, \"stud_test_combined_ASDR\", delaypiekASDRtest, \"ASDR\", \"test\")\n",
        "combinedata(filenamesGAUSStest, \"stud_test_combined_GAUSS\", delaypiekGAUSStest, \"GAUSS\", \"test\")\n",
        "combinedata(filenamesSBOXtest, \"stud_test_combined_SBOX\", delaypiekSBOXtest, \"SBOX\", \"test\")"
      ],
      "metadata": {
        "id": "MI2zmrZkA_mK"
      },
      "execution_count": 202,
      "outputs": []
    },
    {
      "cell_type": "markdown",
      "source": [
        "MODEL ASDR"
      ],
      "metadata": {
        "id": "T3g1moR7FEk9"
      }
    },
    {
      "cell_type": "code",
      "source": [
        "#TENSOR Object maken voor x waarden NN training\n",
        "os.chdir(standaarddirectory)\n",
        "os.chdir(\"stud_train_combined_ASDR\")\n",
        "\n",
        "#Traindata\n",
        "#We gebruiken deze traindata om het NN te trainen\n",
        "samplesASDR = [np.load(f\"{x}ASDR.npy\") for x in range(1, 91)]\n",
        "samplesASDR = tf.convert_to_tensor(samplesASDR)\n",
        "\n",
        "#Validatiedata\n",
        "#We gebruiken de laatste 10% als validatiedata, deze data gebruiken we om de performantie van het NN te evalueren TIJDENS het trainen en zo de hyperparameters aan te passen. Het nn ziet validatiedata NIET op voorhand, in tegenstelling tot trainingsdata\n",
        "samplesASDRvalidation = [np.load(f\"{x}ASDR.npy\") for x in range(91, 101)]\n",
        "samplesASDRvalidation = tf.convert_to_tensor(samplesASDRvalidation)\n",
        "\n",
        "os.chdir(standaarddirectory)"
      ],
      "metadata": {
        "id": "pEB_ObxXCH-T"
      },
      "execution_count": 203,
      "outputs": []
    },
    {
      "cell_type": "code",
      "source": [
        "#TENSOR Object maken voor x waarden NN testing\n",
        "os.chdir(standaarddirectory)\n",
        "os.chdir(\"stud_test_combined_ASDR\")\n",
        "\n",
        "#Testdata\n",
        "#We gebruiken deze testdata om het NN te evalueren\n",
        "samplesASDRtest = [np.load(f\"{x}ASDR.npy\") for x in range(1, 101)]\n",
        "samplesASDRtest = tf.convert_to_tensor(samplesASDRtest)\n",
        "\n",
        "os.chdir(standaarddirectory)"
      ],
      "metadata": {
        "id": "sNnb4omUOH5I"
      },
      "execution_count": 204,
      "outputs": []
    },
    {
      "cell_type": "code",
      "source": [
        "#TENSOR object maken voor y waarden NN training (de delaywaarden tussen de pieken)\n",
        "\n",
        "#Traindata\n",
        "delayASDR = pd.DataFrame(data = delaypiekASDR[0:90])\n",
        "delayASDR = tf.convert_to_tensor(delayASDR)\n",
        "\n",
        "#Validatiedata\n",
        "delayASDRvalidation = pd.DataFrame(data = delaypiekASDR[90:])\n",
        "delayASDRvalidation = tf.convert_to_tensor(delayASDRvalidation)"
      ],
      "metadata": {
        "id": "m_QkwX9CCIIk"
      },
      "execution_count": 205,
      "outputs": []
    },
    {
      "cell_type": "code",
      "source": [
        "#Model aanmaken\n",
        "modelASDR = tf.keras.Sequential()\n",
        "modelASDR.add(layers.Dense(500, activation='linear', input_shape=(1024,)))\n",
        "modelASDR.add(layers.Dense(128, activation='linear'))\n",
        "modelASDR.add(layers.Dense(24, activation='linear'))\n",
        "modelASDR.add(layers.Dense(1))"
      ],
      "metadata": {
        "id": "gkLGd0BvCMCF"
      },
      "execution_count": 206,
      "outputs": []
    },
    {
      "cell_type": "code",
      "source": [
        "modelASDR.summary()"
      ],
      "metadata": {
        "id": "P2okS7ukMibe"
      },
      "execution_count": null,
      "outputs": []
    },
    {
      "cell_type": "code",
      "source": [
        "#Optimizer, loss function en metrics toevoegen aan model en compileren\n",
        "modelASDR.compile(optimizer='Adam', loss='mse', metrics=['mse'])\n",
        "K.set_value(modelASDR.optimizer.learning_rate, 0.001)"
      ],
      "metadata": {
        "id": "xeUik51hMkFH"
      },
      "execution_count": 208,
      "outputs": []
    },
    {
      "cell_type": "code",
      "source": [
        "#Model Trainen\n",
        "history1 = modelASDR.fit(samplesASDR,\n",
        "                        delayASDR,\n",
        "                        epochs=50, #epochs is het aantal iteraties die we over de data doen\n",
        "                        validation_data=(samplesASDRvalidation,delayASDRvalidation))"
      ],
      "metadata": {
        "id": "BhY1P0svMmHa"
      },
      "execution_count": null,
      "outputs": []
    },
    {
      "cell_type": "code",
      "source": [
        "predictionsASDR = modelASDR.predict(samplesASDRtest)\n",
        "predictionsASDRtrain = modelASDR.predict(samplesASDR) #Ook eens testen op traindata voor controle\n",
        "predictionsASDRval = modelASDR.predict(samplesASDRvalidation) #Ook eens testen op validatiedata voor controle"
      ],
      "metadata": {
        "id": "fyI3LAqlIhhY"
      },
      "execution_count": null,
      "outputs": []
    },
    {
      "cell_type": "code",
      "source": [
        "#Plotten van de errors op testdata\n",
        "predictionslistASDR = predictionsASDR.tolist()  #converteren naar lijst\n",
        "predictionslistASDRflat = [item for sublist in predictionslistASDR for item in sublist] #lijst plat maken\n",
        "plotpredictieerrors(predictionslistASDRflat, delaypiekASDRtest, \"ASDRtestset\")\n",
        "\n",
        "#plotten van de errors op traindata\n",
        "predictionslistASDRtrain = predictionsASDRtrain.tolist()\n",
        "predictionslistASDRtrainflat = [item for sublist in predictionslistASDRtrain for item in sublist] #lijst plat maken\n",
        "plotpredictieerrors(predictionslistASDRtrainflat, delaypiekASDR[0:90], \"ASDRtrainset\", 'train')\n",
        "\n",
        "#plotten van de errors op validatiedata\n",
        "predictionslistASDRval = predictionsASDRval.tolist()\n",
        "predictionslistASDRvalflat = [item for sublist in predictionslistASDRval for item in sublist] #lijst plat maken\n",
        "\n",
        "plotpredictieerrors(predictionslistASDRvalflat, delaypiekASDR[90:], \"ASDRvalidatieset\", 'validation')"
      ],
      "metadata": {
        "id": "Rz1F3ox3FIg8"
      },
      "execution_count": null,
      "outputs": []
    },
    {
      "cell_type": "markdown",
      "source": [
        "GAUSS MODEL"
      ],
      "metadata": {
        "id": "aweABBsuXCkZ"
      }
    },
    {
      "cell_type": "code",
      "source": [
        "#TENSOR Object maken voor x waarden NN training\n",
        "os.chdir(standaarddirectory)\n",
        "os.chdir(\"stud_train_combined_GAUSS\")\n",
        "\n",
        "#Traindata\n",
        "#We gebruiken deze traindata om het NN te trainen\n",
        "samplesGAUSS = [np.load(f\"{x}GAUSS.npy\") for x in range(1, 91)]\n",
        "samplesGAUSS = tf.convert_to_tensor(samplesGAUSS)\n",
        "\n",
        "#Validatiedata\n",
        "#We gebruiken de laatste 10% als validatiedata, deze data gebruiken we om de performantie van het NN te evalueren TIJDENS het trainen en zo de hyperparameters aan te passen. Het nn ziet validatiedata NIET op voorhand, in tegenstelling tot trainingsdata\n",
        "samplesGAUSSvalidation = [np.load(f\"{x}GAUSS.npy\") for x in range(91, 101)]\n",
        "samplesGAUSSvalidation = tf.convert_to_tensor(samplesGAUSSvalidation)\n",
        "\n",
        "os.chdir(standaarddirectory)"
      ],
      "metadata": {
        "id": "bSgRvikiXBCK"
      },
      "execution_count": 213,
      "outputs": []
    },
    {
      "cell_type": "code",
      "source": [
        "#TENSOR Object maken voor x waarden NN testing\n",
        "os.chdir(standaarddirectory)\n",
        "os.chdir(\"stud_test_combined_GAUSS\")\n",
        "\n",
        "samplesGAUSStest = [np.load(f\"{x}GAUSS.npy\") for x in range(1, 101)]\n",
        "samplesGAUSStest = tf.convert_to_tensor(samplesGAUSStest)\n",
        "\n",
        "os.chdir(standaarddirectory)"
      ],
      "metadata": {
        "id": "j4Mn8oCaXBCL"
      },
      "execution_count": 214,
      "outputs": []
    },
    {
      "cell_type": "code",
      "source": [
        "#TENSOR object maken voor y waarden NN training (de delaywaarden tussen de pieken)\n",
        "\n",
        "#Traindata\n",
        "delayGAUSS = pd.DataFrame(data = delaypiekGAUSS[0:90])\n",
        "delayGAUSS = tf.convert_to_tensor(delayGAUSS)\n",
        "\n",
        "#Validatiedata\n",
        "delayGAUSSvalidation = pd.DataFrame(data = delaypiekGAUSS[90:])\n",
        "delayGAUSSvalidation = tf.convert_to_tensor(delayGAUSSvalidation)"
      ],
      "metadata": {
        "id": "sUJsKroGXBCL"
      },
      "execution_count": 215,
      "outputs": []
    },
    {
      "cell_type": "code",
      "source": [
        "#Model aanmaken\n",
        "modelGAUSS = tf.keras.Sequential()\n",
        "modelGAUSS.add(layers.Dense(512, activation='relu', input_shape=(1024,)))\n",
        "modelGAUSS.add(layers.Dense(256, activation='relu'))\n",
        "modelGAUSS.add(layers.Dense(64, activation='relu'))\n",
        "modelGAUSS.add(layers.Dense(1))"
      ],
      "metadata": {
        "id": "tMfE6GGyXBCM"
      },
      "execution_count": 216,
      "outputs": []
    },
    {
      "cell_type": "code",
      "source": [
        "modelGAUSS.summary()"
      ],
      "metadata": {
        "id": "9HR1Ze7LXBCM"
      },
      "execution_count": null,
      "outputs": []
    },
    {
      "cell_type": "code",
      "source": [
        "#Optimizer, loss function en metrics toevoegen aan model en compileren\n",
        "modelGAUSS.compile(optimizer='adam', loss='mse', metrics=['mse'])"
      ],
      "metadata": {
        "id": "AXDMVnMyXBCN"
      },
      "execution_count": 218,
      "outputs": []
    },
    {
      "cell_type": "code",
      "source": [
        "#Model Trainen\n",
        "history2 = modelGAUSS.fit(samplesGAUSS,\n",
        "                        delayGAUSS,\n",
        "                        epochs=20,\n",
        "                        validation_data=(samplesGAUSSvalidation,delayGAUSSvalidation))"
      ],
      "metadata": {
        "id": "ubewVuKnXBCN"
      },
      "execution_count": null,
      "outputs": []
    },
    {
      "cell_type": "code",
      "source": [
        "predictionsGAUSS = modelGAUSS.predict(samplesGAUSStest)\n",
        "predictionsGAUSStrain = modelGAUSS.predict(samplesGAUSS) #Ook eens testen op traindata voor controle\n",
        "predictionsGAUSSval = modelGAUSS.predict(samplesGAUSSvalidation) #Ook eens testen op validatiedata voor controle"
      ],
      "metadata": {
        "id": "VzPdwjAsXBCO"
      },
      "execution_count": null,
      "outputs": []
    },
    {
      "cell_type": "code",
      "source": [
        "#Plotten van de errors op testdata\n",
        "predictionslistGAUSS = predictionsGAUSS.tolist()  #converteren naar lijst\n",
        "predictionslistGAUSSflat = [item for sublist in predictionslistGAUSS for item in sublist] #lijst plat maken\n",
        "plotpredictieerrors(predictionslistGAUSSflat, delaypiekGAUSStest, \"GAUSStestset\")\n",
        "\n",
        "#plotten van de errors op traindata\n",
        "predictionslistGAUSStrain = predictionsGAUSStrain.tolist()\n",
        "predictionslistGAUSStrainflat = [item for sublist in predictionslistGAUSStrain for item in sublist] #lijst plat maken\n",
        "plotpredictieerrors(predictionslistGAUSStrainflat, delaypiekGAUSS[0:90], \"GAUSStrainset\", 'train')\n",
        "\n",
        "#plotten van de errors op validatiedata\n",
        "predictionslistGAUSSval = predictionsGAUSSval.tolist()\n",
        "predictionslistGAUSSvalflat = [item for sublist in predictionslistGAUSSval for item in sublist] #lijst plat maken\n",
        "\n",
        "plotpredictieerrors(predictionslistGAUSSvalflat, delaypiekGAUSS[90:], \"GAUSSvalidatieset\", 'validation')"
      ],
      "metadata": {
        "id": "txemQjxRXBCO"
      },
      "execution_count": null,
      "outputs": []
    },
    {
      "cell_type": "markdown",
      "source": [
        "SBOX MODEL"
      ],
      "metadata": {
        "id": "ZdlwXJpsX4M1"
      }
    },
    {
      "cell_type": "code",
      "source": [
        "#TENSOR Object maken voor x waarden NN training\n",
        "os.chdir(standaarddirectory)\n",
        "os.chdir(\"stud_train_combined_SBOX\")\n",
        "\n",
        "#Traindata\n",
        "#We gebruiken deze traindata om het NN te trainen\n",
        "samplesSBOX = [np.load(f\"{x}SBOX.npy\") for x in range(1, 91)]\n",
        "samplesSBOX = tf.convert_to_tensor(samplesSBOX)\n",
        "\n",
        "#Validatiedata\n",
        "#We gebruiken de laatste 10% als validatiedata, deze data gebruiken we om de performantie van het NN te evalueren TIJDENS het trainen en zo de hyperparameters aan te passen. Het nn ziet validatiedata NIET op voorhand, in tegenstelling tot trainingsdata\n",
        "samplesSBOXvalidation = [np.load(f\"{x}SBOX.npy\") for x in range(91, 101)]\n",
        "samplesSBOXvalidation = tf.convert_to_tensor(samplesSBOXvalidation)\n",
        "\n",
        "os.chdir(standaarddirectory)"
      ],
      "metadata": {
        "id": "WRxsIlpLX2r5"
      },
      "execution_count": 222,
      "outputs": []
    },
    {
      "cell_type": "code",
      "source": [
        "#TENSOR Object maken voor x waarden NN testing\n",
        "os.chdir(standaarddirectory)\n",
        "os.chdir(\"stud_test_combined_SBOX\")\n",
        "\n",
        "samplesSBOXtest = [np.load(f\"{x}SBOX.npy\") for x in range(1, 101)]\n",
        "samplesSBOXtest = tf.convert_to_tensor(samplesSBOXtest)\n",
        "\n",
        "os.chdir(standaarddirectory)\n"
      ],
      "metadata": {
        "id": "WoiOowg-X2r6"
      },
      "execution_count": 223,
      "outputs": []
    },
    {
      "cell_type": "code",
      "source": [
        "#TENSOR object maken voor y waarden NN training (de delaywaarden tussen de pieken)\n",
        "\n",
        "#Traindata\n",
        "delaySBOX = pd.DataFrame(data = delaypiekSBOX[0:90])\n",
        "delaySBOX = tf.convert_to_tensor(delaySBOX)\n",
        "\n",
        "#Validatiedata\n",
        "delaySBOXvalidation = pd.DataFrame(data = delaypiekSBOX[90:])\n",
        "delaySBOXvalidation = tf.convert_to_tensor(delaySBOXvalidation)"
      ],
      "metadata": {
        "id": "hEbSrizMX2r6"
      },
      "execution_count": 224,
      "outputs": []
    },
    {
      "cell_type": "code",
      "source": [
        "#Model aanmaken\n",
        "modelSBOX = tf.keras.Sequential()\n",
        "modelSBOX.add(layers.Dense(512, activation='relu', input_shape=(1024,)))\n",
        "modelSBOX.add(layers.Dense(256, activation='relu'))\n",
        "modelSBOX.add(layers.Dense(64, activation='relu'))\n",
        "modelSBOX.add(layers.Dense(8, activation='relu'))\n",
        "modelSBOX.add(layers.Dense(1))"
      ],
      "metadata": {
        "id": "WyM-lYyiX2r7"
      },
      "execution_count": 225,
      "outputs": []
    },
    {
      "cell_type": "code",
      "source": [
        "modelSBOX.summary()"
      ],
      "metadata": {
        "id": "5kFzPUSVX2r7",
        "colab": {
          "base_uri": "https://localhost:8080/"
        },
        "outputId": "c1465c27-84c8-49e6-f5b1-7e93b4dc36d4"
      },
      "execution_count": 226,
      "outputs": [
        {
          "output_type": "stream",
          "name": "stdout",
          "text": [
            "Model: \"sequential_14\"\n",
            "_________________________________________________________________\n",
            " Layer (type)                Output Shape              Param #   \n",
            "=================================================================\n",
            " dense_60 (Dense)            (None, 512)               524800    \n",
            "                                                                 \n",
            " dense_61 (Dense)            (None, 256)               131328    \n",
            "                                                                 \n",
            " dense_62 (Dense)            (None, 64)                16448     \n",
            "                                                                 \n",
            " dense_63 (Dense)            (None, 8)                 520       \n",
            "                                                                 \n",
            " dense_64 (Dense)            (None, 1)                 9         \n",
            "                                                                 \n",
            "=================================================================\n",
            "Total params: 673,105\n",
            "Trainable params: 673,105\n",
            "Non-trainable params: 0\n",
            "_________________________________________________________________\n"
          ]
        }
      ]
    },
    {
      "cell_type": "code",
      "source": [
        "#Optimizer, loss function en metrics toevoegen aan model en compileren\n",
        "modelSBOX.compile(optimizer='adam', loss='mae', metrics=['mae'])"
      ],
      "metadata": {
        "id": "bXw5hevoX2r8"
      },
      "execution_count": 227,
      "outputs": []
    },
    {
      "cell_type": "code",
      "source": [
        "#Model Trainen\n",
        "history3 = modelSBOX.fit(samplesSBOX,\n",
        "                        delaySBOX,\n",
        "                        epochs=20,\n",
        "                        validation_data=(samplesSBOXvalidation,delaySBOXvalidation))"
      ],
      "metadata": {
        "id": "WB1QgES9X2r8",
        "colab": {
          "base_uri": "https://localhost:8080/"
        },
        "outputId": "f32ee1e2-a3cb-4c76-b0db-3f89505086fe"
      },
      "execution_count": 228,
      "outputs": [
        {
          "output_type": "stream",
          "name": "stdout",
          "text": [
            "Epoch 1/20\n",
            "3/3 [==============================] - 1s 80ms/step - loss: 576.3395 - mae: 576.3395 - val_loss: 576.4169 - val_mae: 576.4169\n",
            "Epoch 2/20\n",
            "3/3 [==============================] - 0s 16ms/step - loss: 561.1804 - mae: 561.1804 - val_loss: 552.0344 - val_mae: 552.0344\n",
            "Epoch 3/20\n",
            "3/3 [==============================] - 0s 17ms/step - loss: 531.2598 - mae: 531.2598 - val_loss: 507.6115 - val_mae: 507.6115\n",
            "Epoch 4/20\n",
            "3/3 [==============================] - 0s 21ms/step - loss: 478.4813 - mae: 478.4813 - val_loss: 433.3557 - val_mae: 433.3557\n",
            "Epoch 5/20\n",
            "3/3 [==============================] - 0s 17ms/step - loss: 391.5153 - mae: 391.5153 - val_loss: 315.9668 - val_mae: 315.9668\n",
            "Epoch 6/20\n",
            "3/3 [==============================] - 0s 16ms/step - loss: 257.2644 - mae: 257.2644 - val_loss: 138.5190 - val_mae: 138.5190\n",
            "Epoch 7/20\n",
            "3/3 [==============================] - 0s 15ms/step - loss: 102.2759 - mae: 102.2759 - val_loss: 102.9465 - val_mae: 102.9465\n",
            "Epoch 8/20\n",
            "3/3 [==============================] - 0s 16ms/step - loss: 122.4237 - mae: 122.4237 - val_loss: 121.5829 - val_mae: 121.5829\n",
            "Epoch 9/20\n",
            "3/3 [==============================] - 0s 16ms/step - loss: 111.2170 - mae: 111.2170 - val_loss: 79.7637 - val_mae: 79.7637\n",
            "Epoch 10/20\n",
            "3/3 [==============================] - 0s 16ms/step - loss: 68.2651 - mae: 68.2651 - val_loss: 85.1604 - val_mae: 85.1604\n",
            "Epoch 11/20\n",
            "3/3 [==============================] - 0s 17ms/step - loss: 87.4453 - mae: 87.4453 - val_loss: 100.6530 - val_mae: 100.6530\n",
            "Epoch 12/20\n",
            "3/3 [==============================] - 0s 16ms/step - loss: 84.3574 - mae: 84.3574 - val_loss: 66.0968 - val_mae: 66.0968\n",
            "Epoch 13/20\n",
            "3/3 [==============================] - 0s 21ms/step - loss: 62.7776 - mae: 62.7776 - val_loss: 67.2703 - val_mae: 67.2703\n",
            "Epoch 14/20\n",
            "3/3 [==============================] - 0s 17ms/step - loss: 66.3065 - mae: 66.3065 - val_loss: 66.7745 - val_mae: 66.7745\n",
            "Epoch 15/20\n",
            "3/3 [==============================] - 0s 16ms/step - loss: 58.7045 - mae: 58.7045 - val_loss: 52.4047 - val_mae: 52.4047\n",
            "Epoch 16/20\n",
            "3/3 [==============================] - 0s 25ms/step - loss: 54.2081 - mae: 54.2081 - val_loss: 58.3863 - val_mae: 58.3863\n",
            "Epoch 17/20\n",
            "3/3 [==============================] - 0s 16ms/step - loss: 56.1530 - mae: 56.1530 - val_loss: 50.5132 - val_mae: 50.5132\n",
            "Epoch 18/20\n",
            "3/3 [==============================] - 0s 25ms/step - loss: 46.8096 - mae: 46.8096 - val_loss: 47.6311 - val_mae: 47.6311\n",
            "Epoch 19/20\n",
            "3/3 [==============================] - 0s 16ms/step - loss: 47.8097 - mae: 47.8097 - val_loss: 45.2399 - val_mae: 45.2399\n",
            "Epoch 20/20\n",
            "3/3 [==============================] - 0s 16ms/step - loss: 42.7012 - mae: 42.7012 - val_loss: 43.5313 - val_mae: 43.5313\n"
          ]
        }
      ]
    },
    {
      "cell_type": "code",
      "source": [
        "predictionsSBOX = modelSBOX.predict(samplesSBOXtest)\n",
        "predictionsSBOXtrain = modelSBOX.predict(samplesSBOX) #Ook eens testen op traindata voor controle\n",
        "predictionsSBOXval = modelSBOX.predict(samplesSBOXvalidation) #Ook eens testen op validatiedata voor controle"
      ],
      "metadata": {
        "id": "eHYnazX3X2r8",
        "colab": {
          "base_uri": "https://localhost:8080/"
        },
        "outputId": "0d77390b-21ea-495d-fea1-2d1e26bf8c4f"
      },
      "execution_count": 229,
      "outputs": [
        {
          "output_type": "stream",
          "name": "stdout",
          "text": [
            "4/4 [==============================] - 0s 3ms/step\n",
            "3/3 [==============================] - 0s 6ms/step\n",
            "1/1 [==============================] - 0s 16ms/step\n"
          ]
        }
      ]
    },
    {
      "cell_type": "code",
      "source": [
        "#Plotten van de errors op testdata\n",
        "predictionslistSBOX = predictionsSBOX.tolist()  #converteren naar lijst\n",
        "predictionslistSBOXflat = [item for sublist in predictionslistSBOX for item in sublist] #lijst plat maken\n",
        "plotpredictieerrors(predictionslistSBOXflat, delaypiekSBOXtest, \"SBOXtestset\")\n",
        "\n",
        "#plotten van de errors op traindata\n",
        "predictionslistSBOXtrain = predictionsSBOXtrain.tolist()\n",
        "predictionslistSBOXtrainflat = [item for sublist in predictionslistSBOXtrain for item in sublist] #lijst plat maken\n",
        "plotpredictieerrors(predictionslistSBOXtrainflat, delaypiekSBOX[0:90], \"SBOXtrainset\", 'train')\n",
        "\n",
        "#plotten van de errors op validatiedata\n",
        "predictionslistSBOXval = predictionsSBOXval.tolist()\n",
        "predictionslistSBOXvalflat = [item for sublist in predictionslistSBOXval for item in sublist] #lijst plat maken\n",
        "\n",
        "plotpredictieerrors(predictionslistSBOXvalflat, delaypiekSBOX[90:], \"SBOXvalidatieset\", 'validation')"
      ],
      "metadata": {
        "id": "DJNqCyBjX2r8",
        "colab": {
          "base_uri": "https://localhost:8080/",
          "height": 1000
        },
        "outputId": "b056dd66-aa06-4b6e-a529-50a0174874c5"
      },
      "execution_count": 230,
      "outputs": [
        {
          "output_type": "stream",
          "name": "stdout",
          "text": [
            "De errors zijn (afgerond tot gehele waarden):\n",
            "[38, 116, 20, 31, 95, 124, 79, 10, 60, 37, 78, 8, 40, 49, 60, 61, 68, 58, 58, 10, 77, 79, 17, 15, 45, 99, 7, 32, 73, 56, 17, 62, 43, 80, 50, 53, 61, 62, 9, 19, 68, 38, 33, 76, 22, 30, 1, 64, 22, 19, 55, 2, 77, 22, 22, 86, 117, 8, 66, 33, 4, 28, 13, 25, 75, 39, 3, 20, 45, 40, 36, 26, 12, 37, 10, 29, 44, 71, 1, 19, 6, 50, 11, 29, 34, 8, 60, 66, 68, 15, 51, 95, 12, 43, 65, 36, 37, 63, 44, 4]\n",
            "De predicties zijn:\n",
            "[620.7521362304688, 660.9771118164062, 565.5599975585938, 517.1197509765625, 654.69140625, 672.851318359375, 652.3660278320312, 566.35205078125, 617.836181640625, 545.5444946289062, 664.2815551757812, 595.2902221679688, 598.2239379882812, 615.7284545898438, 531.4319458007812, 535.4544677734375, 610.1697387695312, 517.1930541992188, 615.864013671875, 559.4783325195312, 530.7711181640625, 630.8306884765625, 569.2481689453125, 559.41064453125, 613.3386840820312, 646.109375, 587.98388671875, 548.2008666992188, 537.2306518554688, 507.859619140625, 560.1776733398438, 484.4600830078125, 595.2406616210938, 515.0697631835938, 520.5721435546875, 635.9814453125, 540.19677734375, 603.6239013671875, 571.6783447265625, 568.3101806640625, 636.4520263671875, 618.8401489257812, 562.6769409179688, 629.4097900390625, 564.6900634765625, 551.0025634765625, 602.4429321289062, 533.4581909179688, 603.5430297851562, 606.6429443359375, 504.57305908203125, 575.992431640625, 505.24493408203125, 582.26318359375, 564.2027587890625, 472.73419189453125, 667.7360229492188, 584.0416259765625, 477.01165771484375, 641.2631225585938, 580.5147705078125, 589.9881591796875, 594.4942626953125, 557.763427734375, 501.0137634277344, 568.8184814453125, 595.9259643554688, 577.6539306640625, 609.3807373046875, 549.368896484375, 546.8880615234375, 570.0811767578125, 618.903076171875, 615.8909301757812, 584.5870971679688, 589.6419067382812, 542.9859619140625, 526.1002197265625, 567.3864135742188, 605.823974609375, 586.6053466796875, 540.55712890625, 575.5838623046875, 516.9659423828125, 601.0603637695312, 550.4998168945312, 491.24755859375, 642.5599365234375, 659.869384765625, 609.0119018554688, 640.8646850585938, 515.3792114257812, 539.7066650390625, 554.8087158203125, 502.4263610839844, 552.553955078125, 521.6688842773438, 496.046142578125, 616.293212890625, 608.6273803710938]\n",
            "De werkelijke waarden zijn:\n",
            "[583, 545, 586, 548, 560, 549, 573, 556, 558, 583, 586, 587, 558, 567, 591, 596, 542, 575, 558, 549, 608, 552, 552, 544, 568, 547, 595, 580, 610, 564, 543, 546, 552, 595, 571, 583, 601, 542, 581, 549, 568, 581, 596, 553, 587, 581, 603, 597, 582, 588, 560, 578, 582, 560, 586, 559, 551, 576, 543, 608, 577, 562, 607, 583, 576, 608, 593, 558, 564, 589, 583, 544, 607, 579, 575, 561, 587, 597, 568, 587, 593, 591, 587, 546, 567, 558, 551, 577, 592, 594, 590, 610, 552, 598, 567, 589, 559, 559, 572, 605]\n"
          ]
        },
        {
          "output_type": "display_data",
          "data": {
            "text/plain": [
              "<Figure size 432x288 with 1 Axes>"
            ],
            "image/png": "[encoded data removed]"
          },
          "metadata": {
            "needs_background": "light"
          }
        },
        {
          "output_type": "stream",
          "name": "stdout",
          "text": [
            "De errors zijn (afgerond tot gehele waarden):\n",
            "[64, 42, 20, 26, 8, 52, 17, 32, 6, 50, 6, 97, 95, 26, 87, 55, 77, 25, 0, 38, 89, 32, 14, 56, 13, 83, 11, 2, 18, 88, 30, 64, 4, 82, 25, 11, 67, 99, 54, 31, 70, 65, 5, 71, 17, 38, 14, 26, 60, 48, 12, 71, 11, 11, 10, 31, 30, 13, 3, 90, 4, 104, 43, 74, 71, 77, 27, 14, 39, 4, 69, 53, 48, 11, 52, 28, 0, 47, 76, 71, 21, 23, 82, 49, 66, 72, 12, 20, 68, 19]\n",
            "De predicties zijn:\n",
            "[529.9444580078125, 547.74267578125, 581.4140014648438, 606.7354125976562, 558.6869506835938, 525.0215454101562, 557.913330078125, 624.2074584960938, 597.6157836914062, 630.1275634765625, 549.3240966796875, 514.4620971679688, 652.179443359375, 560.5013427734375, 649.013427734375, 497.56219482421875, 465.08026123046875, 552.5810546875, 585.0153198242188, 609.4596557617188, 517.859375, 603.611328125, 579.6783447265625, 537.6849365234375, 579.8817138671875, 628.1590576171875, 590.7928466796875, 608.2437133789062, 585.804443359375, 518.9722900390625, 541.6007080078125, 546.441650390625, 590.1748657226562, 643.7965698242188, 566.4114990234375, 589.1253051757812, 635.33935546875, 506.568603515625, 526.380615234375, 523.6752319335938, 539.8406982421875, 607.65869140625, 593.689697265625, 516.1430053710938, 610.7119140625, 591.179443359375, 563.5732421875, 587.0150146484375, 631.13671875, 512.2735595703125, 561.0379638671875, 527.4591064453125, 607.23291015625, 574.6475830078125, 572.408935546875, 570.5966186523438, 598.3607788085938, 562.0659790039062, 604.9841918945312, 654.46826171875, 594.4405517578125, 654.2289428710938, 536.08740234375, 636.5150756835938, 529.6864013671875, 522.5077514648438, 568.619873046875, 623.8680419921875, 551.3806762695312, 584.928955078125, 532.855712890625, 550.3375244140625, 632.8755493164062, 562.3704223632812, 593.86962890625, 549.8640747070312, 565.7424926757812, 604.7811279296875, 473.7795104980469, 529.7648315429688, 548.734619140625, 621.23193359375, 476.51556396484375, 529.5518798828125, 531.2440185546875, 535.40087890625, 553.869140625, 555.200439453125, 509.9874572753906, 535.2496337890625]\n",
            "De werkelijke waarden zijn:\n",
            "[594, 590, 601, 581, 551, 577, 575, 592, 592, 580, 555, 611, 557, 587, 562, 553, 542, 578, 585, 571, 607, 572, 594, 594, 593, 545, 580, 610, 604, 607, 572, 610, 586, 562, 591, 600, 568, 606, 580, 555, 610, 543, 599, 587, 594, 553, 578, 561, 571, 560, 573, 598, 596, 586, 562, 602, 568, 575, 602, 564, 590, 550, 579, 563, 601, 600, 596, 610, 590, 589, 602, 603, 585, 551, 542, 578, 566, 558, 550, 601, 570, 598, 559, 579, 597, 607, 542, 575, 578, 554]\n"
          ]
        },
        {
          "output_type": "display_data",
          "data": {
            "text/plain": [
              "<Figure size 432x288 with 1 Axes>"
            ],
            "image/png": "[encoded data removed]"
          },
          "metadata": {
            "needs_background": "light"
          }
        },
        {
          "output_type": "stream",
          "name": "stdout",
          "text": [
            "De errors zijn (afgerond tot gehele waarden):\n",
            "[42, 60, 26, 73, 2, 6, 57, 89, 32, 48]\n",
            "De predicties zijn:\n",
            "[611.9065551757812, 544.7677612304688, 601.8423461914062, 535.006591796875, 595.6895141601562, 577.8804321289062, 535.9282836914062, 634.0134887695312, 571.750732421875, 560.4262084960938]\n",
            "De werkelijke waarden zijn:\n",
            "[570, 605, 576, 608, 598, 584, 593, 545, 604, 608]\n"
          ]
        },
        {
          "output_type": "display_data",
          "data": {
            "text/plain": [
              "<Figure size 432x288 with 1 Axes>"
            ],
            "image/png": "[encoded data removed]"
          },
          "metadata": {
            "needs_background": "light"
          }
        }
      ]
    },
    {
      "cell_type": "markdown",
      "source": [
        "MODEL VOOR ALLE DRIE DE SIGNALEN"
      ],
      "metadata": {
        "id": "UfCqTpDTYfPK"
      }
    },
    {
      "cell_type": "code",
      "source": [
        "#TENSOR VAN 300X1024\n",
        "samplestotal = tf.concat([samplesASDR, tf.concat([samplesGAUSS, samplesSBOX], axis=0)], axis=0)\n",
        "samplestotalvalidation = tf.concat([samplesASDRvalidation, tf.concat([samplesGAUSSvalidation, samplesSBOXvalidation], axis=0)], axis=0)\n",
        "samplestotaltest = tf.concat([samplesASDRtest, tf.concat([samplesGAUSStest, samplesSBOXtest], axis=0)], axis=0)\n",
        "\n",
        "delaytotal = tf.concat([delayASDR, tf.concat([delayGAUSS, delaySBOX], axis=0)], axis=0)\n",
        "delaytotalvalidation = tf.concat([delayASDRvalidation, tf.concat([delayGAUSSvalidation, delaySBOXvalidation], axis=0)], axis=0)"
      ],
      "metadata": {
        "id": "HK64A3McZzLu"
      },
      "execution_count": 231,
      "outputs": []
    },
    {
      "cell_type": "code",
      "source": [
        "#Model aanmaken\n",
        "modeltotal = tf.keras.Sequential()\n",
        "modeltotal.add(layers.Dense(512, activation='linear', input_shape=(1024,)))\n",
        "modeltotal.add(layers.Dense(256, activation='linear'))\n",
        "modeltotal.add(layers.Dense(64, activation='linear'))\n",
        "modeltotal.add(layers.Dense(8, activation='linear'))\n",
        "modeltotal.add(layers.Dense(1))"
      ],
      "metadata": {
        "id": "cf7VfJk-axqc"
      },
      "execution_count": 232,
      "outputs": []
    },
    {
      "cell_type": "code",
      "source": [
        "modeltotal.summary()"
      ],
      "metadata": {
        "id": "CX_0LyMdbNDG",
        "colab": {
          "base_uri": "https://localhost:8080/"
        },
        "outputId": "fac351f9-f931-435b-8c16-24241c091d37"
      },
      "execution_count": 233,
      "outputs": [
        {
          "output_type": "stream",
          "name": "stdout",
          "text": [
            "Model: \"sequential_15\"\n",
            "_________________________________________________________________\n",
            " Layer (type)                Output Shape              Param #   \n",
            "=================================================================\n",
            " dense_65 (Dense)            (None, 512)               524800    \n",
            "                                                                 \n",
            " dense_66 (Dense)            (None, 256)               131328    \n",
            "                                                                 \n",
            " dense_67 (Dense)            (None, 64)                16448     \n",
            "                                                                 \n",
            " dense_68 (Dense)            (None, 8)                 520       \n",
            "                                                                 \n",
            " dense_69 (Dense)            (None, 1)                 9         \n",
            "                                                                 \n",
            "=================================================================\n",
            "Total params: 673,105\n",
            "Trainable params: 673,105\n",
            "Non-trainable params: 0\n",
            "_________________________________________________________________\n"
          ]
        }
      ]
    },
    {
      "cell_type": "code",
      "source": [
        "#Optimizer, loss function en metrics toevoegen aan model en compileren\n",
        "modeltotal.compile(optimizer='Adam', loss='mse', metrics=['mse'])"
      ],
      "metadata": {
        "id": "ZVbGfx-dbSlk"
      },
      "execution_count": 235,
      "outputs": []
    },
    {
      "cell_type": "code",
      "source": [
        "#Model Trainen\n",
        "history4 = modelSBOX.fit(samplestotal,\n",
        "                        delaytotal,\n",
        "                        epochs=20,\n",
        "                        validation_data=(samplestotalvalidation,delaytotalvalidation))"
      ],
      "metadata": {
        "id": "9wgBPe50bUbi",
        "colab": {
          "base_uri": "https://localhost:8080/"
        },
        "outputId": "4916028b-f558-440a-88e6-0732ddfd17be"
      },
      "execution_count": 236,
      "outputs": [
        {
          "output_type": "stream",
          "name": "stdout",
          "text": [
            "Epoch 1/20\n",
            "9/9 [==============================] - 0s 12ms/step - loss: 404.1777 - mae: 404.1777 - val_loss: 306.1068 - val_mae: 306.1068\n",
            "Epoch 2/20\n",
            "9/9 [==============================] - 0s 8ms/step - loss: 331.7841 - mae: 331.7841 - val_loss: 300.3277 - val_mae: 300.3277\n",
            "Epoch 3/20\n",
            "9/9 [==============================] - 0s 8ms/step - loss: 304.3963 - mae: 304.3963 - val_loss: 340.8024 - val_mae: 340.8024\n",
            "Epoch 4/20\n",
            "9/9 [==============================] - 0s 11ms/step - loss: 295.4172 - mae: 295.4172 - val_loss: 312.1465 - val_mae: 312.1465\n",
            "Epoch 5/20\n",
            "9/9 [==============================] - 0s 8ms/step - loss: 283.5435 - mae: 283.5435 - val_loss: 285.9481 - val_mae: 285.9481\n",
            "Epoch 6/20\n",
            "9/9 [==============================] - 0s 8ms/step - loss: 281.6559 - mae: 281.6559 - val_loss: 280.2610 - val_mae: 280.2610\n",
            "Epoch 7/20\n",
            "9/9 [==============================] - 0s 8ms/step - loss: 274.6533 - mae: 274.6533 - val_loss: 284.3983 - val_mae: 284.3983\n",
            "Epoch 8/20\n",
            "9/9 [==============================] - 0s 8ms/step - loss: 270.3352 - mae: 270.3352 - val_loss: 265.8405 - val_mae: 265.8405\n",
            "Epoch 9/20\n",
            "9/9 [==============================] - 0s 10ms/step - loss: 267.4257 - mae: 267.4257 - val_loss: 264.7770 - val_mae: 264.7770\n",
            "Epoch 10/20\n",
            "9/9 [==============================] - 0s 8ms/step - loss: 258.9557 - mae: 258.9557 - val_loss: 262.5130 - val_mae: 262.5130\n",
            "Epoch 11/20\n",
            "9/9 [==============================] - 0s 9ms/step - loss: 248.3391 - mae: 248.3391 - val_loss: 242.9590 - val_mae: 242.9590\n",
            "Epoch 12/20\n",
            "9/9 [==============================] - 0s 8ms/step - loss: 248.1656 - mae: 248.1656 - val_loss: 229.0048 - val_mae: 229.0048\n",
            "Epoch 13/20\n",
            "9/9 [==============================] - 0s 8ms/step - loss: 232.1080 - mae: 232.1080 - val_loss: 228.8883 - val_mae: 228.8883\n",
            "Epoch 14/20\n",
            "9/9 [==============================] - 0s 8ms/step - loss: 227.3559 - mae: 227.3559 - val_loss: 234.0966 - val_mae: 234.0966\n",
            "Epoch 15/20\n",
            "9/9 [==============================] - 0s 8ms/step - loss: 227.3539 - mae: 227.3539 - val_loss: 217.5767 - val_mae: 217.5767\n",
            "Epoch 16/20\n",
            "9/9 [==============================] - 0s 10ms/step - loss: 214.7267 - mae: 214.7267 - val_loss: 220.4692 - val_mae: 220.4692\n",
            "Epoch 17/20\n",
            "9/9 [==============================] - 0s 8ms/step - loss: 207.4550 - mae: 207.4550 - val_loss: 214.4116 - val_mae: 214.4116\n",
            "Epoch 18/20\n",
            "9/9 [==============================] - 0s 10ms/step - loss: 202.3891 - mae: 202.3891 - val_loss: 207.5889 - val_mae: 207.5889\n",
            "Epoch 19/20\n",
            "9/9 [==============================] - 0s 8ms/step - loss: 193.8347 - mae: 193.8347 - val_loss: 204.8209 - val_mae: 204.8209\n",
            "Epoch 20/20\n",
            "9/9 [==============================] - 0s 8ms/step - loss: 184.4423 - mae: 184.4423 - val_loss: 197.8797 - val_mae: 197.8797\n"
          ]
        }
      ]
    },
    {
      "cell_type": "code",
      "source": [
        "predictionstotal = modeltotal.predict(samplestotaltest)\n",
        "predictionstotaltrain = modeltotal.predict(samplestotal) #Ook eens testen op traindata voor controle\n",
        "predictionstotalval = modeltotal.predict(samplestotalvalidation) #Ook eens testen op validatiedata voor controle"
      ],
      "metadata": {
        "id": "u_GOQH8GbczI",
        "colab": {
          "base_uri": "https://localhost:8080/"
        },
        "outputId": "f80fb400-aa96-47c8-ec91-a9b52ba6572a"
      },
      "execution_count": 237,
      "outputs": [
        {
          "output_type": "stream",
          "name": "stdout",
          "text": [
            "10/10 [==============================] - 0s 3ms/step\n",
            "9/9 [==============================] - 0s 3ms/step\n",
            "1/1 [==============================] - 0s 17ms/step\n"
          ]
        }
      ]
    },
    {
      "cell_type": "code",
      "source": [
        "#Plotten van de errors op testdata\n",
        "predictionslisttotal = predictionstotal.tolist()  #converteren naar lijst\n",
        "predictionslisttotalflat = [item for sublist in predictionslisttotal for item in sublist] #lijst plat maken\n",
        "\n",
        "delaypiektotaltest = delaypiekASDRtest + delaypiekGAUSStest + delaypiekSBOXtest\n",
        "plotpredictieerrors(predictionslisttotalflat, delaypiektotaltest, \"totaltestset\", \"totaltest\")\n",
        "\n",
        "\n",
        "#plotten van de errors op traindata\n",
        "predictionslisttotaltrain = predictionstotaltrain.tolist()\n",
        "predictionslisttotaltrainflat = [item for sublist in predictionslisttotaltrain for item in sublist] #lijst plat maken\n",
        "\n",
        "delaytotal = delaypiekASDR[0:90] + delaypiekGAUSS[0:90] + delaypiekSBOX[0:90]\n",
        "plotpredictieerrors(predictionslisttotaltrainflat, delaytotal, \"totaltrainset\", 'totaltrain')\n",
        "\n",
        "\n",
        "#plotten van de errors op validatiedata\n",
        "predictionslisttotalval = predictionstotalval.tolist()\n",
        "predictionslisttotalvalflat = [item for sublist in predictionslisttotalval for item in sublist] #lijst plat maken\n",
        "\n",
        "delaytotalvalidation = delaypiekASDR[90:] + delaypiekGAUSS[90:] + delaypiekSBOX[90:]\n",
        "\n",
        "plotpredictieerrors(predictionslisttotalvalflat, delaytotalvalidation, \"totalvalidatieset\", 'totalvalidation')\n",
        "\n"
      ],
      "metadata": {
        "id": "3P9EX6WRbtKH",
        "colab": {
          "base_uri": "https://localhost:8080/",
          "height": 1000
        },
        "outputId": "8aea31c0-0257-4b2b-e307-1c7e8d434a51"
      },
      "execution_count": 264,
      "outputs": [
        {
          "output_type": "stream",
          "name": "stdout",
          "text": [
            "De errors zijn (afgerond tot gehele waarden):\n",
            "[597, 607, 553, 600, 559, 561, 563, 543, 560, 542, 612, 568, 572, 574, 557, 543, 608, 548, 587, 577, 590, 600, 608, 598, 548, 548, 612, 566, 549, 549, 547, 580, 545, 581, 553, 613, 571, 554, 582, 610, 601, 557, 556, 609, 584, 590, 599, 554, 555, 600, 559, 600, 577, 571, 586, 587, 563, 575, 597, 545, 568, 583, 542, 559, 552, 584, 568, 597, 547, 594, 593, 609, 560, 549, 563, 609, 560, 593, 563, 570, 609, 556, 564, 551, 583, 570, 553, 590, 605, 569, 558, 593, 559, 587, 599, 606, 575, 588, 565, 601, 553, 592, 562, 607, 557, 558, 602, 556, 616, 586, 581, 577, 590, 610, 611, 592, 591, 549, 557, 613, 608, 611, 565, 560, 557, 558, 605, 601, 614, 561, 548, 566, 608, 561, 585, 613, 601, 619, 612, 577, 595, 575, 598, 600, 603, 607, 558, 574, 645, 614, 548, 561, 611, 575, 651, 593, 599, 583, 564, 585, 604, 609, 577, 574, 569, 611, 588, 604, 603, 581, 595, 547, 580, 557, 576, 555, 585, 609, 597, 609, 613, 563, 549, 601, 597, 559, 616, 546, 542, 577, 546, 557, 615, 573, 593, 616, 551, 578, 597, 577, 585, 546, 588, 549, 562, 550, 575, 558, 560, 584, 588, 589, 559, 568, 593, 598, 543, 576, 559, 550, 609, 553, 553, 545, 570, 548, 596, 581, 612, 565, 544, 547, 553, 597, 572, 585, 602, 543, 583, 550, 570, 583, 597, 555, 589, 583, 605, 598, 584, 590, 561, 580, 584, 561, 587, 560, 552, 578, 544, 610, 579, 564, 609, 585, 577, 610, 595, 559, 566, 590, 584, 545, 609, 581, 577, 563, 589, 599, 570, 589, 595, 593, 589, 547, 569, 559, 552, 579, 594, 596, 592, 611, 553, 600, 568, 590, 560, 560, 573, 607]\n",
            "De predicties zijn:\n",
            "[-0.4477302134037018, -0.6535604000091553, -0.6003641486167908, -0.743980884552002, -0.4184572994709015, -0.8261576890945435, 0.02670493721961975, 0.09622901678085327, 0.24822285771369934, -0.4455225169658661, -0.934382438659668, -0.03741574287414551, -0.5663069486618042, 0.2067083716392517, -0.12950897216796875, -1.0355253219604492, -1.3162312507629395, -0.6628178358078003, -0.22121262550354004, -0.9708846211433411, -0.6785821914672852, -0.6443081498146057, -0.3641354739665985, 0.2974993586540222, -0.4516313076019287, -0.9706838726997375, 0.23569244146347046, -1.0398406982421875, 0.06055411696434021, -0.23330123722553253, -1.2430696487426758, -0.45181626081466675, -0.397958904504776, -0.5135616064071655, -0.5912919640541077, -0.9069436192512512, 0.2109040468931198, 0.34455060958862305, -0.5487051606178284, 0.8561590909957886, -0.20243558287620544, -0.23831260204315186, -0.32197311520576477, 0.1829042136669159, -0.6543253660202026, 0.023380517959594727, -1.1512136459350586, -0.8060548305511475, -0.19556309282779694, -1.0395574569702148, -0.22273795306682587, -0.8503254055976868, -0.2184637486934662, -0.8002740144729614, -0.4544207453727722, -0.08821338415145874, -0.18223537504673004, -0.2921653687953949, 0.37797242403030396, -0.8640761375427246, -0.31528350710868835, -1.306594729423523, -0.06782317161560059, -0.539801836013794, 0.030949771404266357, -0.97083580493927, -0.8379777073860168, -0.7103831171989441, -0.4782021641731262, -0.6981972455978394, -0.736942708492279, -0.8267366886138916, -0.27398234605789185, -0.6961194276809692, -0.6426624059677124, -0.6020572781562805, -0.6477246284484863, -0.1488569974899292, -1.1723508834838867, -0.8194853067398071, -0.6939073204994202, 0.023580819368362427, -0.22291463613510132, -0.49330103397369385, -0.028603453189134598, -0.6750237941741943, -0.3361837565898895, -1.0352386236190796, -1.0579124689102173, -0.9527723789215088, -0.15663602948188782, -0.22720512747764587, 0.16621655225753784, 0.6028149127960205, 0.4358402490615845, -0.3870817720890045, -1.119670033454895, -0.015229925513267517, -0.6832728981971741, -0.9611311554908752, -0.5508956909179688, -2.9424149990081787, -9.233298301696777, -3.3143677711486816, -3.463151216506958, -1.7530473470687866, -5.305569648742676, -2.079617738723755, -4.621262550354004, -0.47628772258758545, -2.200357437133789, -1.6824235916137695, -0.7130076885223389, -4.539615631103516, -6.200410842895508, -4.478372573852539, -3.9615225791931152, -0.9234169125556946, -2.0661516189575195, -3.878035068511963, -4.45710563659668, -5.916259765625, -2.189401149749756, -0.8669730424880981, 0.5293974876403809, -11.036035537719727, -3.6073033809661865, 4.551051616668701, -6.803101539611816, -6.122973918914795, -2.7271788120269775, -0.2387230396270752, -4.037464141845703, -2.1047654151916504, -2.42085599899292, -3.942094087600708, -3.781243085861206, -8.150014877319336, -4.2418012619018555, -0.6747584342956543, -4.41954231262207, -1.7885552644729614, -3.3573338985443115, -0.19301378726959229, -4.404228687286377, -3.293480634689331, -1.104729413986206, -13.179460525512695, -83.49469757080078, -15.073582649230957, -4.430875778198242, -0.5367002487182617, -5.833260536193848, -0.5873970985412598, -39.74640655517578, -3.176259994506836, -3.165309429168701, -2.9559919834136963, -12.763385772705078, -6.021817207336426, -5.443780899047852, -13.431734085083008, -6.85739803314209, -2.1544113159179688, -3.6090855598449707, -6.366018295288086, 0.9995307922363281, 1.8495452404022217, -5.836216449737549, 15.02061939239502, -3.2622263431549072, -0.9041910171508789, -15.34805679321289, -0.8777658939361572, 3.8543410301208496, -5.813412666320801, -20.22638702392578, -4.142906188964844, -0.36530256271362305, -3.7425684928894043, -6.299049377441406, 3.6364598274230957, 1.005665898323059, -4.66782808303833, -6.120780944824219, -0.1512622833251953, -7.276966094970703, -2.9165194034576416, -0.45575010776519775, 1.0903916358947754, -3.6913251876831055, -0.8843033313751221, -3.4822635650634766, -2.180665969848633, -7.364171981811523, -11.66624641418457, -2.696150302886963, 0.36840248107910156, -2.94915771484375, -5.954831123352051, -2.007404327392578, -1.4855411052703857, -1.6064679622650146, -1.1709175109863281, -1.5612249374389648, -1.4880844354629517, -1.5586718320846558, -1.5848474502563477, -1.5662477016448975, -1.4781243801116943, -2.029878616333008, -1.6738255023956299, -1.4153800010681152, -1.496056318283081, -1.6648815870285034, -1.5097143650054932, -1.236990213394165, -1.2112951278686523, -1.434892177581787, -1.2910997867584229, -1.394801139831543, -1.4133176803588867, -1.3587620258331299, -1.2054821252822876, -1.7743666172027588, -1.2465639114379883, -1.4630870819091797, -1.4293380975723267, -1.7671911716461182, -1.478471040725708, -1.3553953170776367, -0.9633365869522095, -1.414021611213684, -1.6429295539855957, -1.3652173280715942, -1.8963898420333862, -1.1291069984436035, -1.0422991514205933, -1.6936699151992798, -1.276464819908142, -1.6194216012954712, -1.8456156253814697, -1.3786847591400146, -1.6917310953140259, -1.7511045932769775, -1.5372273921966553, -1.6641473770141602, -1.4135103225708008, -1.574284315109253, -1.60725998878479, -1.0498812198638916, -1.5888454914093018, -1.5610849857330322, -1.4369804859161377, -1.495527982711792, -1.3302642107009888, -1.4880015850067139, -1.784980058670044, -1.1153345108032227, -2.115347146987915, -1.6848238706588745, -1.5452837944030762, -1.8404395580291748, -1.5064611434936523, -1.4601020812988281, -1.7635433673858643, -1.7474722862243652, -1.4970802068710327, -1.540363073348999, -1.4936459064483643, -1.2400381565093994, -1.2292662858963013, -1.5525867938995361, -1.8321785926818848, -1.7480356693267822, -1.5924042463302612, -1.533276081085205, -1.6197874546051025, -1.6146382093429565, -1.953472375869751, -1.7886171340942383, -1.695011019706726, -1.5459996461868286, -1.1787936687469482, -1.7425520420074463, -1.2622365951538086, -1.390016794204712, -1.7530937194824219, -2.3388352394104004, -2.0701510906219482, -2.1636621952056885, -1.2560075521469116, -1.4174299240112305, -1.750678539276123, -1.421224594116211, -1.112614393234253, -1.2967150211334229, -1.318880558013916, -1.4604642391204834, -2.0239293575286865]\n",
            "De werkelijke waarden zijn:\n",
            "[597, 606, 552, 599, 559, 560, 563, 543, 560, 542, 611, 568, 571, 574, 557, 542, 607, 547, 587, 576, 589, 599, 608, 598, 548, 547, 612, 565, 549, 549, 546, 580, 545, 580, 552, 612, 571, 554, 581, 611, 601, 557, 556, 609, 583, 590, 598, 553, 555, 599, 559, 599, 577, 570, 586, 587, 563, 575, 597, 544, 568, 582, 542, 558, 552, 583, 567, 596, 547, 593, 592, 608, 560, 548, 562, 608, 559, 593, 562, 569, 608, 556, 564, 551, 583, 569, 553, 589, 604, 568, 558, 593, 559, 588, 599, 606, 574, 588, 564, 600, 552, 589, 553, 604, 554, 556, 597, 554, 611, 586, 579, 575, 589, 605, 605, 588, 587, 548, 555, 609, 604, 605, 563, 559, 558, 547, 601, 606, 607, 555, 545, 566, 604, 559, 583, 609, 597, 611, 608, 576, 591, 573, 595, 600, 599, 604, 557, 561, 562, 599, 544, 560, 605, 574, 611, 590, 596, 580, 551, 579, 599, 596, 570, 572, 565, 605, 589, 606, 597, 596, 592, 546, 565, 556, 580, 549, 565, 605, 597, 605, 607, 567, 550, 596, 591, 559, 609, 543, 542, 578, 542, 556, 612, 571, 586, 604, 548, 578, 594, 571, 583, 545, 586, 548, 560, 549, 573, 556, 558, 583, 586, 587, 558, 567, 591, 596, 542, 575, 558, 549, 608, 552, 552, 544, 568, 547, 595, 580, 610, 564, 543, 546, 552, 595, 571, 583, 601, 542, 581, 549, 568, 581, 596, 553, 587, 581, 603, 597, 582, 588, 560, 578, 582, 560, 586, 559, 551, 576, 543, 608, 577, 562, 607, 583, 576, 608, 593, 558, 564, 589, 583, 544, 607, 579, 575, 561, 587, 597, 568, 587, 593, 591, 587, 546, 567, 558, 551, 577, 592, 594, 590, 610, 552, 598, 567, 589, 559, 559, 572, 605]\n"
          ]
        },
        {
          "output_type": "display_data",
          "data": {
            "text/plain": [
              "<Figure size 432x288 with 1 Axes>"
            ],
            "image/png": "[encoded data removed]"
          },
          "metadata": {
            "needs_background": "light"
          }
        },
        {
          "output_type": "stream",
          "name": "stdout",
          "text": [
            "De errors zijn (afgerond tot gehele waarden):\n",
            "[573, 558, 589, 560, 563, 610, 606, 568, 557, 579, 606, 565, 551, 566, 606, 599, 573, 577, 591, 570, 551, 566, 584, 589, 604, 550, 606, 543, 557, 547, 555, 558, 552, 599, 577, 599, 561, 556, 585, 585, 574, 554, 557, 600, 606, 551, 558, 582, 584, 567, 601, 553, 546, 557, 598, 611, 586, 603, 588, 543, 556, 547, 610, 543, 603, 604, 562, 581, 600, 585, 554, 570, 603, 585, 549, 570, 572, 582, 597, 604, 563, 596, 613, 584, 575, 574, 605, 598, 546, 589, 531, 586, 561, 560, 595, 591, 595, 592, 590, 545, 568, 568, 609, 598, 571, 597, 613, 606, 557, 614, 585, 540, 599, 544, 574, 589, 559, 611, 550, 554, 569, 613, 588, 536, 595, 590, 612, 603, 578, 588, 609, 605, 607, 550, 615, 563, 593, 588, 586, 550, 558, 589, 568, 603, 560, 611, 571, 609, 562, 562, 550, 549, 561, 596, 600, 592, 587, 584, 613, 608, 606, 614, 586, 564, 613, 611, 547, 564, 569, 582, 596, 555, 558, 566, 563, 599, 558, 611, 615, 616, 595, 591, 603, 583, 553, 579, 577, 594, 594, 582, 556, 613, 559, 589, 564, 554, 543, 580, 587, 573, 609, 574, 596, 596, 595, 546, 582, 612, 606, 609, 573, 612, 588, 564, 593, 601, 570, 608, 582, 556, 612, 544, 601, 588, 596, 554, 580, 562, 573, 561, 575, 600, 598, 587, 563, 604, 570, 577, 604, 566, 592, 551, 580, 565, 603, 602, 598, 612, 592, 591, 604, 604, 587, 552, 543, 580, 568, 559, 551, 603, 572, 600, 560, 581, 598, 609, 543, 577, 580, 556]\n",
            "De predicties zijn:\n",
            "[-0.2194170206785202, -0.16352170705795288, -0.9643545150756836, -0.8803714513778687, -0.8343778848648071, -1.1813585758209229, -0.9287749528884888, -0.6951154470443726, -0.23357799649238586, -0.6807924509048462, -0.6714348196983337, -0.4758526682853699, 0.13115067780017853, -0.46775496006011963, -0.25591814517974854, -0.4282272160053253, -0.8192349672317505, -0.05650106072425842, -0.5549623370170593, -0.23426076769828796, -0.23042608797550201, -0.4048793315887451, -0.13729894161224365, 0.75520920753479, 0.08901548385620117, -0.890227198600769, -0.47158607840538025, -0.13638481497764587, -0.19255270063877106, -0.27776655554771423, -0.9538730382919312, -0.08257472515106201, -0.7438163161277771, 0.23042058944702148, -0.9302599430084229, -1.1998317241668701, -0.8579379320144653, -0.789059042930603, -0.9705950617790222, -0.4852610230445862, -0.3061883747577667, -1.082859992980957, -0.01057364046573639, 0.009895473718643188, -0.5730617046356201, -0.41004031896591187, -0.7045016884803772, 0.05812862515449524, -0.9351595044136047, -0.025706440210342407, 0.020892560482025146, -0.390078604221344, -1.0214624404907227, -0.7766482830047607, -0.49064400792121887, -0.761579155921936, -0.6204127669334412, -0.35797521471977234, -0.5589643716812134, -0.4649490416049957, 0.03227241337299347, 0.34611719846725464, 0.02113017439842224, -0.02098827064037323, -0.4541834592819214, -0.38982412219047546, -0.17978952825069427, 0.19567789137363434, -1.2619049549102783, -0.9244997501373291, 0.24381668865680695, -0.8252887725830078, -0.01671844720840454, -0.9616848826408386, -0.9352802634239197, 0.07072454690933228, -1.0024445056915283, -0.653850257396698, -0.4447118639945984, -1.1448438167572021, -0.8697682619094849, -0.7384092211723328, -0.9845465421676636, 0.6001551151275635, -1.0396153926849365, 0.281928688287735, -1.4006741046905518, -0.14808866381645203, -0.1397189199924469, -0.4438605010509491, 12.457738876342773, -2.900519847869873, -7.214389324188232, -0.9834520220756531, -6.473269939422607, -1.9353562593460083, -6.938831329345703, -2.339461326599121, -5.006080627441406, -1.13873291015625, 2.3432250022888184, -2.763183116912842, -3.752176284790039, 4.035697937011719, -2.6615986824035645, -5.240896701812744, -18.19095802307129, 2.8467483520507812, -2.40942645072937, -3.3311305046081543, 0.5129762887954712, 1.662280797958374, -6.988422393798828, -1.538360357284546, -5.614139556884766, -2.6135551929473877, -3.5953238010406494, -3.337618827819824, -1.2321456670761108, -5.1828765869140625, -0.6721844673156738, -7.730389595031738, -17.69857406616211, 9.481647491455078, -1.8439215421676636, -7.7049431800842285, -4.628393173217773, -10.311576843261719, 0.34946298599243164, 0.7240093946456909, -5.726761341094971, -4.866455554962158, 0.128728985786438, 0.9642541408538818, -4.713291168212891, -6.019733905792236, -7.0960259437561035, -4.488927841186523, -4.122330665588379, -1.6935195922851562, -4.108491897583008, -6.519979476928711, -9.869162559509277, -4.223154067993164, -4.775884628295898, -2.3022494316101074, -5.976231575012207, 2.012836456298828, -3.2497711181640625, -5.365047454833984, -1.6477642059326172, -0.6230695247650146, -6.35523796081543, -7.348231315612793, 9.359150886535645, -1.8347777128219604, -1.348973274230957, -2.9044785499572754, -4.912192344665527, 4.178224563598633, -14.666841506958008, -3.9548611640930176, -3.1732993125915527, -2.1735243797302246, -4.410741806030273, -6.561714172363281, 32.13070297241211, -2.071012496948242, -4.002540588378906, -1.810770034790039, -3.4734585285186768, -4.247598171234131, -2.3593058586120605, -1.9732909202575684, -5.837533950805664, -3.5382204055786133, -9.156521797180176, -2.152890205383301, -5.7844743728637695, -5.375293731689453, -1.4778798818588257, -1.384674310684204, -1.8535363674163818, -2.1965534687042236, -1.5018963813781738, -1.5127919912338257, -1.5254275798797607, -2.1780550479888916, -1.8732402324676514, -1.962580680847168, -1.4091238975524902, -1.6274367570877075, -1.580061674118042, -1.9544696807861328, -1.5687899589538574, -1.3319090604782104, -1.3696181774139404, -1.6856036186218262, -1.8874576091766357, -1.6221115589141846, -1.5374490022659302, -1.769331932067871, -1.9252502918243408, -1.6485977172851562, -1.6858134269714355, -1.269744634628296, -1.6783344745635986, -2.0065672397613525, -1.5813204050064087, -1.7185044288635254, -1.456800937652588, -1.8010153770446777, -1.8471053838729858, -1.9960426092147827, -1.5430786609649658, -1.4402997493743896, -1.833664894104004, -1.5465362071990967, -1.5984439849853516, -1.2846627235412598, -1.8583720922470093, -0.7036316394805908, -1.9371098279953003, -1.495025873184204, -2.02978515625, -1.145026683807373, -1.7249754667282104, -1.4676222801208496, -1.5730443000793457, -1.4763442277908325, -1.5663056373596191, -1.7963192462921143, -2.0113635063171387, -1.482496738433838, -1.237809658050537, -1.9122390747070312, -1.563320517539978, -1.5798662900924683, -2.034687042236328, -1.6479647159576416, -1.7028944492340088, -1.3949886560440063, -1.453822135925293, -1.8948349952697754, -1.7199428081512451, -1.5889689922332764, -1.8112525939941406, -1.9492290019989014, -1.8253034353256226, -1.752824068069458, -1.7911158800125122, -1.2730364799499512, -2.2837791442871094, -1.038562297821045, -1.3251147270202637, -1.7932229042053223, -1.5277963876724243, -1.4806135892868042, -1.2994989156723022, -1.5271252393722534, -1.5470492839813232, -2.438708543777466, -1.3614909648895264, -1.5352091789245605, -1.1353325843811035, -2.2792084217071533, -1.3817808628082275, -1.6207678318023682, -1.5955986976623535, -1.6167902946472168]\n",
            "De werkelijke waarden zijn:\n",
            "[573, 558, 588, 559, 562, 609, 605, 567, 557, 578, 605, 565, 551, 566, 606, 599, 572, 577, 590, 570, 551, 566, 584, 590, 604, 549, 606, 543, 557, 547, 554, 558, 551, 599, 576, 598, 560, 555, 584, 585, 574, 553, 557, 600, 605, 551, 557, 582, 583, 567, 601, 553, 545, 556, 598, 610, 585, 603, 587, 543, 556, 547, 610, 543, 603, 604, 562, 581, 599, 584, 554, 569, 603, 584, 548, 570, 571, 581, 597, 603, 562, 595, 612, 585, 574, 574, 604, 598, 546, 589, 543, 583, 554, 559, 589, 589, 588, 590, 585, 544, 570, 565, 605, 602, 568, 592, 595, 609, 555, 611, 586, 542, 592, 542, 568, 586, 555, 608, 549, 549, 568, 605, 570, 545, 593, 582, 607, 593, 578, 589, 603, 600, 607, 551, 610, 557, 586, 584, 582, 548, 554, 582, 558, 599, 555, 609, 565, 611, 559, 557, 548, 548, 555, 589, 609, 590, 586, 581, 608, 612, 591, 610, 583, 562, 609, 604, 579, 562, 565, 580, 593, 551, 556, 564, 557, 595, 549, 609, 609, 611, 594, 590, 601, 581, 551, 577, 575, 592, 592, 580, 555, 611, 557, 587, 562, 553, 542, 578, 585, 571, 607, 572, 594, 594, 593, 545, 580, 610, 604, 607, 572, 610, 586, 562, 591, 600, 568, 606, 580, 555, 610, 543, 599, 587, 594, 553, 578, 561, 571, 560, 573, 598, 596, 586, 562, 602, 568, 575, 602, 564, 590, 550, 579, 563, 601, 600, 596, 610, 590, 589, 602, 603, 585, 551, 542, 578, 566, 558, 550, 601, 570, 598, 559, 579, 597, 607, 542, 575, 578, 554]\n"
          ]
        },
        {
          "output_type": "display_data",
          "data": {
            "text/plain": [
              "<Figure size 432x288 with 1 Axes>"
            ],
            "image/png": "[encoded data removed]"
          },
          "metadata": {
            "needs_background": "light"
          }
        },
        {
          "output_type": "stream",
          "name": "stdout",
          "text": [
            "De errors zijn (afgerond tot gehele waarden):\n",
            "[576, 607, 543, 597, 574, 564, 564, 567, 575, 564, 575, 550, 574, 601, 585, 603, 576, 579, 599, 551, 572, 607, 578, 610, 600, 586, 595, 546, 606, 609]\n",
            "De predicties zijn:\n",
            "[-0.06976991891860962, -0.7935749888420105, -0.768473744392395, -0.4268518090248108, -0.6716452836990356, -0.21755102276802063, -0.4221649169921875, -0.21375808119773865, -0.22385701537132263, -0.27699917554855347, 6.469950199127197, -1.8118171691894531, 18.708999633789062, -5.3840837478637695, -2.461388111114502, 1.1258068084716797, -0.2353132963180542, -4.5065765380859375, -3.245262384414673, -1.3548887968063354, -1.6049330234527588, -2.088618278503418, -1.7916030883789062, -1.7820167541503906, -1.5008563995361328, -1.7390856742858887, -1.766819953918457, -1.3657993078231812, -1.7099964618682861, -1.0756027698516846]\n",
            "De werkelijke waarden zijn:\n",
            "[576, 606, 542, 597, 573, 564, 564, 567, 575, 564, 581, 548, 593, 596, 583, 604, 576, 574, 596, 550, 570, 605, 576, 608, 598, 584, 593, 545, 604, 608]\n"
          ]
        },
        {
          "output_type": "display_data",
          "data": {
            "text/plain": [
              "<Figure size 432x288 with 1 Axes>"
            ],
            "image/png": "[encoded data removed]"
          },
          "metadata": {
            "needs_background": "light"
          }
        }
      ]
    },
    {
      "cell_type": "markdown",
      "source": [
        "https://stackoverflow.com/questions/59737875/keras-change-learning-rate "
      ],
      "metadata": {
        "id": "kxSNRQujiHo7"
      }
    }
  ]
}