{
  "nbformat": 4,
  "nbformat_minor": 0,
  "metadata": {
    "colab": {
      "provenance": [],
      "collapsed_sections": []
    },
    "kernelspec": {
      "name": "python3",
      "display_name": "Python 3"
    },
    "language_info": {
      "name": "python"
    }
  },
  "cells": [
    {
      "cell_type": "code",
      "execution_count": 162,
      "metadata": {
        "id": "a0_exOypAsUx"
      },
      "outputs": [],
      "source": [
        "#Imports\n",
        "import numpy as np\n",
        "import matplotlib.pyplot as plt\n",
        "import os\n",
        "import pandas as pd\n",
        "import natsort\n",
        "import re\n",
        "#We gebruiken de from ... import voor commando's die we veel gebruiken om repititie te verminderen \n",
        "from tensorflow.keras.models import Sequential\n",
        "from tensorflow.keras.layers import Dense\n",
        "from tensorflow.keras import layers\n",
        "from zipfile import ZipFile\n",
        "import tensorflow as tf"
      ]
    },
    {
      "cell_type": "markdown",
      "source": [
        "UPLOAD EERST DE DATA ZIP in COLAB, ANDERS KAN HET VOLGENDE BLOK CODE DEZE NIET UITPAKKEN"
      ],
      "metadata": {
        "id": "oN1PtXsL6tmU"
      }
    },
    {
      "cell_type": "code",
      "source": [
        "standaarddirectory = os.getcwd()                  #standaarddirectory van google colab opslaan zodat we altijd terug kunnen keren naar deze\n",
        "file_name = \"delay_dataset.zip\"                   \n",
        "if not os.path.exists(\"stud_train\"):              #Als de data nog niet uitgepakt is en deze folder dus nog niet bestaat, gaan we dit doen\n",
        "  with ZipFile(file_name,'r') as zipper:\n",
        "    zipper.extractall()\n",
        "    print(\"extractie data klaar\")\n",
        "\n",
        "if not os.path.exists(\"stud_train_combined_ASDR\"):    #Een folder waarin we de gecombineerde ASDR train signalen van 1024 samples zullen opslaan\n",
        "  os.makedirs(\"stud_train_combined_ASDR\")\n",
        "if not os.path.exists(\"stud_train_combined_GAUSS\"):   #Een folder waarin we de gecombineerde GAUSS train signalen van 1024 samples zullen opslaan\n",
        "  os.makedirs(\"stud_train_combined_GAUSS\")\n",
        "if not os.path.exists(\"stud_train_combined_SBOX\"):    #Een folder waarin we de gecombineerde SBOX train signalen van 1024 samples zullen opslaan\n",
        "  os.makedirs(\"stud_train_combined_SBOX\")\n",
        "\n",
        "if not os.path.exists(\"stud_test_combined_ASDR\"):    #Een folder waarin we de gecombineerde ASDR test signalen van 1024 samples zullen opslaan\n",
        "  os.makedirs(\"stud_test_combined_ASDR\")\n",
        "if not os.path.exists(\"stud_test_combined_GAUSS\"):   #Een folder waarin we de gecombineerde GAUSS test signalen van 1024 samples zullen opslaan\n",
        "  os.makedirs(\"stud_test_combined_GAUSS\")\n",
        "if not os.path.exists(\"stud_test_combined_SBOX\"):    #Een folder waarin we de gecombineerde SBOX test signalen van 1024 samples zullen opslaan\n",
        "  os.makedirs(\"stud_test_combined_SBOX\")"
      ],
      "metadata": {
        "id": "wNoaRK8yCcZ9"
      },
      "execution_count": 163,
      "outputs": []
    },
    {
      "cell_type": "code",
      "source": [
        "# variable declaration\n",
        "train_set = 'stud_train'\n",
        "test_set = 'stud_test'\n",
        "delaypiekASDR = []    #array met actuele delays tussen de pieken (validatiecijfers voor training)\n",
        "delaypiekGAUSS = []\n",
        "delaypiekSBOX = []\n",
        "delaypiekASDRtest = []    #array met actuele delays tussen de pieken (cijfers voor testing)\n",
        "delaypiekGAUSStest = []\n",
        "delaypiekSBOXtest = []"
      ],
      "metadata": {
        "id": "TkRDCfkQA0vF"
      },
      "execution_count": 164,
      "outputs": []
    },
    {
      "cell_type": "code",
      "source": [
        "#Geeft een array met strings weer waarin de namen van de files in die map staan\n",
        "def laadarraymetfilenamenuitmap(map):\n",
        "    filenames = os.listdir(map)  # array met alle filenames van in folder\n",
        "    filenames.sort()\n",
        "    return filenames"
      ],
      "metadata": {
        "id": "HlMfzklhA7La"
      },
      "execution_count": 165,
      "outputs": []
    },
    {
      "cell_type": "code",
      "source": [
        "#plot het signaal van een numpy array aan de hand van een megegeven signaalbestandsnaam\n",
        "#Functie werd enkel gebruikt in het begin, niet meer relevant op het einde\n",
        "def plotsignaal(signaal, evencheck, nummer, x = np.arange(0,512)): #signaal is naam bestand tussen aanhalingstekens\n",
        "    if evencheck % 2 == 0:\n",
        "        kleur = \"red\"         #paar van signalen respectievelijk rood en blauw weergeven zodat het verschil duidelijk is\n",
        "    else:\n",
        "        kleur = \"blue\"\n",
        "    plot = plt.figure(nummer)\n",
        "    plt.xlabel(\"X axis\")\n",
        "    plt.ylabel(\"Y axis\")\n",
        "    plt.plot(x,np.load(signaal), color=kleur)"
      ],
      "metadata": {
        "id": "y-1GWcDqA9eQ"
      },
      "execution_count": 166,
      "outputs": []
    },
    {
      "cell_type": "code",
      "source": [
        "#Geeft de waarde van de positie van die piek terug aan de hand van de bestandsnaam\n",
        "def geefpositiepiek(signaal):\n",
        "  truncatedsignaal = (signaal.split(\"P_\",1)[1]) #alles voor de xxx wegdoen dus BV ASDR_P_ wegdoen\n",
        "  piek = ''.join(x for x in truncatedsignaal[0:3] if x.isdigit()) \n",
        "  return piek"
      ],
      "metadata": {
        "id": "Qky7IDJIEWfr"
      },
      "execution_count": 167,
      "outputs": []
    },
    {
      "cell_type": "code",
      "source": [
        "#voegt de array van twee signalen samen om 1 vector van 1024 samples te bekomen\n",
        "def voegsamen(signaal1, signaal2):\n",
        "  return np.concatenate([np.load(signaal1), np.load(signaal2)])"
      ],
      "metadata": {
        "id": "SDrzjHGyYQYE"
      },
      "execution_count": 168,
      "outputs": []
    },
    {
      "cell_type": "code",
      "source": [
        "#wordt gebruikt om de lijst met de files te sorten op numerische orde ipv alfabetische orde om sortering van 0 1 10 11 ... 19 2 20 21 ... 29 3 30 31 etc te voorkomen maar 0 1 2 3 4 ... 99\n",
        "def atoi(text):\n",
        "    return int(text) if text.isdigit() else text\n",
        "\n",
        "def natural_keys(text):\n",
        "    return [ atoi(c) for c in re.split(r'(\\d+)', text) ]"
      ],
      "metadata": {
        "id": "xRZb5WOyC0UC"
      },
      "execution_count": 169,
      "outputs": []
    },
    {
      "cell_type": "code",
      "source": [
        "def combinedata(folder, dir, delayarray, typesignaal = \"\", testoftrain = \"\", aantalgrafiekenplotten = 0):\n",
        "  i = 0\n",
        "  nummer = 1\n",
        "  evencheck = 0\n",
        "  x = np.arange(0, 1024)\n",
        "  k = 0\n",
        "  for data in folder:\n",
        "    evencheck += 1\n",
        "    if k != 0 and evencheck % 2 == 0:\n",
        "      os.chdir(f\"stud_{testoftrain}\")\n",
        "      masterfile = voegsamen(previous, data)\n",
        "      os.chdir(standaarddirectory)\n",
        "\n",
        "      os.chdir(dir)\n",
        "      savename = f\"{nummer}{typesignaal}.npy\"\n",
        "      np.save(savename,masterfile)\n",
        "      os.chdir(standaarddirectory)\n",
        "      nummer += 1\n",
        "      delayarray.append(512-int(geefpositiepiek(previous))+int(geefpositiepiek(data)))\n",
        "\n",
        "      #plotten voor eerste paar grafieken, mooie visualisatie als controle\n",
        "      if evencheck < ((aantalgrafiekenplotten*2)+1):  #evencheck > aantal grafieken*2, max 41 vanwege memory limiet -> 20 grafieken, zet op 1 indien je geen grafieken wil zien\n",
        "        plot= plt.figure(nummer)\n",
        "        plt.plot(x,masterfile, color=\"red\")\n",
        "\n",
        "    k += 1\n",
        "    previous = data"
      ],
      "metadata": {
        "id": "5oEbfVnL4mUX"
      },
      "execution_count": 170,
      "outputs": []
    },
    {
      "cell_type": "markdown",
      "source": [
        "END OF FUNCTIONS"
      ],
      "metadata": {
        "id": "de6GAjWs9PuT"
      }
    },
    {
      "cell_type": "code",
      "source": [
        "#main\n",
        "#filenames inlezen\n",
        "filenames = laadarraymetfilenamenuitmap(train_set)\n",
        "filenamesASDR = filenames[0:200]\n",
        "filenamesGAUSS = filenames[200:400]\n",
        "filenamesSBOX = filenames[400:600]\n",
        "\n",
        "filenamestest = laadarraymetfilenamenuitmap(test_set)\n",
        "filenamesASDRtest = filenamestest[0:200]\n",
        "filenamesGAUSStest = filenamestest[200:400]\n",
        "filenamesSBOXtest = filenamestest[400:600]\n",
        "\n",
        "#sorteren\n",
        "filenamesASDR.sort(key=natural_keys)\n",
        "filenamesGAUSS.sort(key=natural_keys)\n",
        "filenamesSBOX.sort(key=natural_keys)\n",
        "filenamesASDRtest.sort(key=natural_keys)\n",
        "filenamesGAUSStest.sort(key=natural_keys)\n",
        "filenamesSBOXtest.sort(key=natural_keys)"
      ],
      "metadata": {
        "id": "LN-a76MlCbmP"
      },
      "execution_count": 171,
      "outputs": []
    },
    {
      "cell_type": "code",
      "source": [
        "os.chdir(standaarddirectory)\n",
        "combinedata(filenamesASDR, \"stud_train_combined_ASDR\", delaypiekASDR, \"ASDR\", \"train\")\n",
        "combinedata(filenamesGAUSS, \"stud_train_combined_GAUSS\", delaypiekGAUSS, \"GAUSS\", \"train\")\n",
        "combinedata(filenamesSBOX, \"stud_train_combined_SBOX\", delaypiekSBOX, \"SBOX\", \"train\")\n",
        "\n",
        "combinedata(filenamesASDRtest, \"stud_test_combined_ASDR\", delaypiekASDRtest, \"ASDR\", \"test\")\n",
        "combinedata(filenamesGAUSStest, \"stud_test_combined_GAUSS\", delaypiekGAUSStest, \"GAUSS\", \"test\")\n",
        "combinedata(filenamesSBOXtest, \"stud_test_combined_SBOX\", delaypiekSBOXtest, \"SBOX\", \"test\")"
      ],
      "metadata": {
        "id": "MI2zmrZkA_mK"
      },
      "execution_count": 172,
      "outputs": []
    },
    {
      "cell_type": "code",
      "source": [
        "#TENSOR Object maken voor x waarden NN training\n",
        "os.chdir(standaarddirectory)\n",
        "os.chdir(\"stud_train_combined_ASDR\")\n",
        "\n",
        "samplesASDR = [np.load(f\"{x}ASDR.npy\") for x in range(1, 101)]\n",
        "samplesASDR = tf.convert_to_tensor(samplesASDR)\n",
        "\n",
        "os.chdir(standaarddirectory)"
      ],
      "metadata": {
        "id": "pEB_ObxXCH-T"
      },
      "execution_count": 173,
      "outputs": []
    },
    {
      "cell_type": "code",
      "source": [
        "#TENSOR Object maken voor x waarden NN testing\n",
        "os.chdir(standaarddirectory)\n",
        "os.chdir(\"stud_test_combined_ASDR\")\n",
        "\n",
        "samplesASDRtest = [np.load(f\"{x}ASDR.npy\") for x in range(1, 101)]\n",
        "samplesASDRtest = tf.convert_to_tensor(samplesASDRtest)\n",
        "\n",
        "os.chdir(standaarddirectory)"
      ],
      "metadata": {
        "id": "sNnb4omUOH5I"
      },
      "execution_count": 174,
      "outputs": []
    },
    {
      "cell_type": "code",
      "source": [
        "#TENSOR object maken voor y waarden NN training\n",
        "delayASDR = pd.DataFrame(data = delaypiekASDR)\n",
        "delayASDR = tf.convert_to_tensor(delayASDR)"
      ],
      "metadata": {
        "id": "m_QkwX9CCIIk"
      },
      "execution_count": 175,
      "outputs": []
    },
    {
      "cell_type": "code",
      "source": [
        "#Model aanmaken\n",
        "modelASDR = tf.keras.Sequential()\n",
        "modelASDR.add(layers.Dense(512, activation='relu', input_shape=(1024,)))\n",
        "modelASDR.add(layers.Dense(256, activation='relu'))\n",
        "modelASDR.add(layers.Dense(64, activation='relu'))\n",
        "modelASDR.add(layers.Dense(8, activation='relu'))\n",
        "modelASDR.add(layers.Dense(1))"
      ],
      "metadata": {
        "id": "gkLGd0BvCMCF"
      },
      "execution_count": 176,
      "outputs": []
    },
    {
      "cell_type": "code",
      "source": [
        "modelASDR.summary()"
      ],
      "metadata": {
        "colab": {
          "base_uri": "https://localhost:8080/"
        },
        "id": "P2okS7ukMibe",
        "outputId": "81c96cfb-4c95-4a1a-afc2-7818a1f429c1"
      },
      "execution_count": 177,
      "outputs": [
        {
          "output_type": "stream",
          "name": "stdout",
          "text": [
            "Model: \"sequential_6\"\n",
            "_________________________________________________________________\n",
            " Layer (type)                Output Shape              Param #   \n",
            "=================================================================\n",
            " dense_30 (Dense)            (None, 512)               524800    \n",
            "                                                                 \n",
            " dense_31 (Dense)            (None, 256)               131328    \n",
            "                                                                 \n",
            " dense_32 (Dense)            (None, 64)                16448     \n",
            "                                                                 \n",
            " dense_33 (Dense)            (None, 8)                 520       \n",
            "                                                                 \n",
            " dense_34 (Dense)            (None, 1)                 9         \n",
            "                                                                 \n",
            "=================================================================\n",
            "Total params: 673,105\n",
            "Trainable params: 673,105\n",
            "Non-trainable params: 0\n",
            "_________________________________________________________________\n"
          ]
        }
      ]
    },
    {
      "cell_type": "code",
      "source": [
        "#Optimizer, loss function en metrics toevoegen aan model en compileren\n",
        "modelASDR.compile(optimizer='adam', loss='mae', metrics=['mae'])"
      ],
      "metadata": {
        "id": "xeUik51hMkFH"
      },
      "execution_count": 178,
      "outputs": []
    },
    {
      "cell_type": "code",
      "source": [
        "#Model Trainen\n",
        "history = modelASDR.fit(samplesASDR,\n",
        "                        delayASDR,\n",
        "                        epochs=20)"
      ],
      "metadata": {
        "colab": {
          "base_uri": "https://localhost:8080/"
        },
        "id": "BhY1P0svMmHa",
        "outputId": "3f25beb6-aa1a-4a81-93fd-879a4cecb4cd"
      },
      "execution_count": 179,
      "outputs": [
        {
          "output_type": "stream",
          "name": "stdout",
          "text": [
            "Epoch 1/20\n",
            "4/4 [==============================] - 1s 9ms/step - loss: 573.5174 - mae: 573.5174\n",
            "Epoch 2/20\n",
            "4/4 [==============================] - 0s 12ms/step - loss: 557.1340 - mae: 557.1340\n",
            "Epoch 3/20\n",
            "4/4 [==============================] - 0s 9ms/step - loss: 514.1002 - mae: 514.1002\n",
            "Epoch 4/20\n",
            "4/4 [==============================] - 0s 9ms/step - loss: 420.6487 - mae: 420.6487\n",
            "Epoch 5/20\n",
            "4/4 [==============================] - 0s 11ms/step - loss: 241.7795 - mae: 241.7795\n",
            "Epoch 6/20\n",
            "4/4 [==============================] - 0s 9ms/step - loss: 100.5261 - mae: 100.5261\n",
            "Epoch 7/20\n",
            "4/4 [==============================] - 0s 8ms/step - loss: 154.0433 - mae: 154.0433\n",
            "Epoch 8/20\n",
            "4/4 [==============================] - 0s 11ms/step - loss: 71.3509 - mae: 71.3509\n",
            "Epoch 9/20\n",
            "4/4 [==============================] - 0s 12ms/step - loss: 103.4953 - mae: 103.4953\n",
            "Epoch 10/20\n",
            "4/4 [==============================] - 0s 8ms/step - loss: 78.3817 - mae: 78.3817\n",
            "Epoch 11/20\n",
            "4/4 [==============================] - 0s 9ms/step - loss: 78.7849 - mae: 78.7849\n",
            "Epoch 12/20\n",
            "4/4 [==============================] - 0s 9ms/step - loss: 79.6463 - mae: 79.6463\n",
            "Epoch 13/20\n",
            "4/4 [==============================] - 0s 9ms/step - loss: 63.7588 - mae: 63.7588\n",
            "Epoch 14/20\n",
            "4/4 [==============================] - 0s 9ms/step - loss: 77.5117 - mae: 77.5117\n",
            "Epoch 15/20\n",
            "4/4 [==============================] - 0s 10ms/step - loss: 61.9613 - mae: 61.9613\n",
            "Epoch 16/20\n",
            "4/4 [==============================] - 0s 9ms/step - loss: 71.3119 - mae: 71.3119\n",
            "Epoch 17/20\n",
            "4/4 [==============================] - 0s 9ms/step - loss: 61.6296 - mae: 61.6296\n",
            "Epoch 18/20\n",
            "4/4 [==============================] - 0s 15ms/step - loss: 63.4443 - mae: 63.4443\n",
            "Epoch 19/20\n",
            "4/4 [==============================] - 0s 9ms/step - loss: 57.8431 - mae: 57.8431\n",
            "Epoch 20/20\n",
            "4/4 [==============================] - 0s 9ms/step - loss: 56.7253 - mae: 56.7253\n"
          ]
        }
      ]
    },
    {
      "cell_type": "code",
      "source": [
        "predictionsASDR = modelASDR.predict(samplesASDRtest)"
      ],
      "metadata": {
        "colab": {
          "base_uri": "https://localhost:8080/"
        },
        "id": "fyI3LAqlIhhY",
        "outputId": "2097c7a1-718f-4267-deeb-97ba9453ca8b"
      },
      "execution_count": 180,
      "outputs": [
        {
          "output_type": "stream",
          "name": "stdout",
          "text": [
            "4/4 [==============================] - 0s 5ms/step\n"
          ]
        }
      ]
    },
    {
      "cell_type": "code",
      "source": [
        "predictionslistASDR = predictionsASDR.tolist()\n",
        "predictionslistASDRflat = [item for sublist in predictionslistASDR for item in sublist]\n",
        "\n",
        "error_list_ASDR = []   #absolute waarde van de fout van predictie \n",
        "for error1, error2 in zip(predictionslistASDRflat, delaypiekASDRtest):\n",
        "  error_list_ASDR.append(round(abs(error1 - error2)))\n",
        "\n",
        "print(error_list_ASDR)\n",
        "print(predictionslistASDRflat)\n",
        "print(delaypiekASDRtest)\n",
        "#visualiseren error\n",
        "bar = plt.figure(1)\n",
        "plt.bar(np.arange(0, 100), error_list_ASDR)\n",
        "plt.ylim(0, 512)\n",
        "plt.show()\n"
      ],
      "metadata": {
        "colab": {
          "base_uri": "https://localhost:8080/",
          "height": 337
        },
        "id": "Rz1F3ox3FIg8",
        "outputId": "6eab3896-0190-4003-a52c-464484aeb7a1"
      },
      "execution_count": 181,
      "outputs": [
        {
          "output_type": "stream",
          "name": "stdout",
          "text": [
            "[114, 31, 79, 24, 12, 76, 138, 71, 24, 81, 82, 86, 14, 144, 17, 207, 138, 14, 44, 69, 20, 218, 53, 133, 5, 34, 62, 168, 151, 52, 12, 32, 56, 52, 48, 20, 47, 71, 46, 91, 12, 14, 21, 31, 74, 34, 15, 42, 33, 50, 61, 57, 140, 26, 140, 45, 64, 42, 94, 24, 23, 127, 79, 58, 7, 121, 37, 128, 25, 46, 134, 89, 47, 191, 90, 56, 127, 26, 88, 3, 159, 106, 2, 41, 72, 58, 137, 57, 76, 20, 11, 9, 83, 104, 90, 147, 44, 176, 161, 44]\n",
            "[482.5005187988281, 636.6365356445312, 472.7707214355469, 623.0552368164062, 571.3115844726562, 484.3056945800781, 701.2522583007812, 613.8311157226562, 536.4218139648438, 461.1441955566406, 529.4033813476562, 653.6182250976562, 556.6815795898438, 430.1792297363281, 574.4596557617188, 749.2724609375, 468.8686828613281, 532.8651123046875, 543.4305419921875, 644.5924072265625, 569.173095703125, 380.7334289550781, 660.6589965820312, 464.5780944824219, 552.5106811523438, 513.1600952148438, 550.308837890625, 732.5596313476562, 699.8977661132812, 600.6491088867188, 557.6405639648438, 548.4949951171875, 489.1925964355469, 632.0075073242188, 503.6534118652344, 631.82861328125, 523.7626342773438, 625.0009765625, 627.1487426757812, 520.4684448242188, 613.3409423828125, 570.9347534179688, 535.3841552734375, 577.6639404296875, 657.1404418945312, 556.2784423828125, 612.57470703125, 594.6491088867188, 587.8516235351562, 548.8722534179688, 620.207275390625, 541.6127319335938, 716.7694702148438, 595.6781005859375, 725.8953247070312, 542.0875854492188, 499.2832336425781, 532.5457763671875, 502.97491455078125, 568.2359619140625, 545.1700439453125, 709.23828125, 620.8701171875, 499.9600524902344, 558.5387573242188, 703.9463500976562, 529.6319580078125, 467.9423828125, 572.1149291992188, 546.8048095703125, 458.2363586425781, 696.5897827148438, 607.4990844726562, 356.5081481933594, 652.315673828125, 664.1129760742188, 686.4445190429688, 619.2380981445312, 650.1633911132812, 571.8829956054688, 448.5608825683594, 662.2838745117188, 562.0001831054688, 510.1566162109375, 511.449951171875, 627.0987548828125, 690.1235961914062, 646.171142578125, 527.9646606445312, 588.0346069335938, 546.7332153320312, 602.4230346679688, 476.0520324707031, 484.3933410644531, 509.0938415527344, 753.2933959960938, 618.4013671875, 763.7848510742188, 403.2812805175781, 555.7030639648438]\n",
            "[597, 606, 552, 599, 559, 560, 563, 543, 560, 542, 611, 568, 571, 574, 557, 542, 607, 547, 587, 576, 589, 599, 608, 598, 548, 547, 612, 565, 549, 549, 546, 580, 545, 580, 552, 612, 571, 554, 581, 611, 601, 557, 556, 609, 583, 590, 598, 553, 555, 599, 559, 599, 577, 570, 586, 587, 563, 575, 597, 544, 568, 582, 542, 558, 552, 583, 567, 596, 547, 593, 592, 608, 560, 548, 562, 608, 559, 593, 562, 569, 608, 556, 564, 551, 583, 569, 553, 589, 604, 568, 558, 593, 559, 588, 599, 606, 574, 588, 564, 600]\n"
          ]
        },
        {
          "output_type": "display_data",
          "data": {
            "text/plain": [
              "<Figure size 432x288 with 1 Axes>"
            ],
            "image/png": "[encoded data removed]"
          },
          "metadata": {
            "needs_background": "light"
          }
        }
      ]
    },
    {
      "cell_type": "markdown",
      "source": [
        "MODEL VOOR GAUSS"
      ],
      "metadata": {
        "id": "VfVdPoAiVxc0"
      }
    }
  ]
}