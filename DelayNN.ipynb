{
  "nbformat": 4,
  "nbformat_minor": 0,
  "metadata": {
    "colab": {
      "provenance": [],
      "collapsed_sections": [],
      "authorship_tag": "ABX9TyOZDRFBc+hjT+2Z/Ful/AF6",
      "include_colab_link": true
    },
    "kernelspec": {
      "name": "python3",
      "display_name": "Python 3"
    },
    "language_info": {
      "name": "python"
    }
  },
  "cells": [
    {
      "cell_type": "markdown",
      "metadata": {
        "id": "view-in-github",
        "colab_type": "text"
      },
      "source": [
        "<a href=\"https://colab.research.google.com/github/c-roets/delayNN/blob/main/DelayNN.ipynb\" target=\"_parent\"><img src=\"https://colab.research.google.com/assets/colab-badge.svg\" alt=\"Open In Colab\"/></a>"
      ]
    },
    {
      "cell_type": "markdown",
      "source": [
        "Smart Instrumentation Delay between peaks - Neural Network (Calvin Roets)"
      ],
      "metadata": {
        "id": "raUlzKUm1YC7"
      }
    },
    {
      "cell_type": "code",
      "execution_count": 135,
      "metadata": {
        "id": "a0_exOypAsUx"
      },
      "outputs": [],
      "source": [
        "import numpy as np\n",
        "import scipy\n",
        "import matplotlib.pyplot as plt\n",
        "import math\n",
        "import os\n",
        "import tensorflow as tf\n",
        "import pandas as pd\n",
        "import natsort\n",
        "\n",
        "from numpy import loadtxt\n",
        "from tensorflow.keras.models import Sequential\n",
        "from tensorflow.keras.layers import Dense\n",
        "from tensorflow.keras import layers\n",
        "from zipfile import ZipFile"
      ]
    },
    {
      "cell_type": "code",
      "source": [
        "standaarddirectory = os.getcwd()\n",
        "file_name = \"delay_dataset.zip\"\n",
        "if not os.path.exists(\"stud_train\"):\n",
        "  with ZipFile(file_name,'r') as zip:\n",
        "    zip.extractall()\n",
        "    print(\"extractie data klaar\")\n",
        "\n",
        "if not os.path.exists(\"stud_train_combinedASDR\"):\n",
        "  os.makedirs(\"stud_train_combinedASDR\")\n",
        "\n"
      ],
      "metadata": {
        "id": "wNoaRK8yCcZ9"
      },
      "execution_count": 136,
      "outputs": []
    },
    {
      "cell_type": "code",
      "source": [
        "# constants\n",
        "train_set = 'stud_train'\n",
        "test_set = 'stud_test'\n",
        "i = 0\n",
        "nummer = 1\n",
        "evencheck = 0\n",
        "x = np.arange(0, 1024)\n",
        "k = 0"
      ],
      "metadata": {
        "id": "TkRDCfkQA0vF"
      },
      "execution_count": 137,
      "outputs": []
    },
    {
      "cell_type": "code",
      "source": [
        "#Geeft een array met strings weer waarin de namen van de files in die map staan\n",
        "def laadarraymetfilenamenuitmap(map):\n",
        "    j = 0\n",
        "    filenames = [None] * 600  # array met alle filenames van in folder\n",
        "    # iterate over files in that directory\n",
        "    for filename in os.listdir(train_set):\n",
        "        f = os.path.join(train_set, filename)\n",
        "        # checking if it is a file\n",
        "        if os.path.isfile(f):\n",
        "            filenames[j] = f\n",
        "            j += 1\n",
        "    filenames.sort()\n",
        "    return filenames"
      ],
      "metadata": {
        "id": "HlMfzklhA7La"
      },
      "execution_count": 138,
      "outputs": []
    },
    {
      "cell_type": "code",
      "source": [
        "#plot het signaal van een numpy array aan de hand van een megegeven signaalbestandsnaam\n",
        "def plotsignaal(signaal): #signaal is naam bestand tussen aanhalingstekens\n",
        "    if evencheck % 2 == 0:\n",
        "        kleur = \"red\"\n",
        "    else:\n",
        "        kleur = \"blue\"\n",
        "    plot = plt.figure(nummer)\n",
        "    plt.xlabel(\"X axis\")\n",
        "    plt.ylabel(\"Y axis\")\n",
        "    plt.plot(x,np.load(signaal), color=kleur)"
      ],
      "metadata": {
        "id": "y-1GWcDqA9eQ"
      },
      "execution_count": 139,
      "outputs": []
    },
    {
      "cell_type": "code",
      "source": [
        "#Geeft de waarde van de positie van die piek terug aan de hand van de bestandsnaam\n",
        "def geefpositiepiek(signaal):\n",
        "  truncatedsignaal = (signaal.split(\"P_\",1)[1]) #alles voor de xxx wegdoen dus BV ASDR_P_ wegdoen\n",
        "  piek = ''.join(x for x in truncatedsignaal[0:3] if x.isdigit()) \n",
        "  return piek\n"
      ],
      "metadata": {
        "id": "Qky7IDJIEWfr"
      },
      "execution_count": 140,
      "outputs": []
    },
    {
      "cell_type": "code",
      "source": [
        "#voegt de array van twee signalen samen om 1 vector van 1024 samples te bekomen\n",
        "def voegsamen(signaal1, signaal2):\n",
        "  return np.concatenate([np.load(signaal1), np.load(signaal2)])"
      ],
      "metadata": {
        "id": "SDrzjHGyYQYE"
      },
      "execution_count": 141,
      "outputs": []
    },
    {
      "cell_type": "code",
      "source": [
        "#main\n",
        "filenames = laadarraymetfilenamenuitmap(train_set)\n",
        "\n",
        "filenamesASDR = filenames[0:200]\n",
        "filenamesGAUSS = filenames[200:400]\n",
        "filenamesSBOX = filenames[400:600]\n",
        "trainingdata = np.empty   #array met arrays van 1024 samples\n",
        "delaypiek = []    #array met actuele delays tussen de pieken (validatiecijfers voor training)\n",
        "\n",
        "for data in filenamesASDR:\n",
        "  evencheck += 1\n",
        "  if k != 0 and evencheck % 2 == 0:\n",
        "    masterfile = voegsamen(previous, data)            #MASTERFILE IS DE ARRAY VAN 1024 SAMPLES VAN DE TWEE SIGNALEN SAMEN\n",
        "    os.chdir(\"stud_train_combinedASDR\")\n",
        "    savename = f\"{nummer}.npy\"\n",
        "    np.save(savename,masterfile)\n",
        "    os.chdir(standaarddirectory)\n",
        "    #trainingdata = np.append((trainingdata, masterfile)) #array in array maar werkt niet, voegt alle arrays na elkaar in plaats van in elkaar\n",
        "    nummer += 1\n",
        "    delaypiek.append(512-int(geefpositiepiek(previous))+int(geefpositiepiek(data)))\n",
        "\n",
        "    #plotten voor eerste paar grafieken, mooie visualisatie als controle\n",
        "    if evencheck < 1:  #evencheck > aantal grafieken*2, max 41 vanwege memory limiet\n",
        "      plot= plt.figure(nummer)\n",
        "      plt.plot(x,masterfile, color=\"red\")\n",
        "\n",
        "  k += 1\n",
        "  previous = data\n",
        "\n",
        "ASDRCOMBINEDFILES = os.listdir(\"stud_train_combinedASDR\")\n",
        "natsort.natsorted(ASDRCOMBINEDFILES)"
      ],
      "metadata": {
        "colab": {
          "base_uri": "https://localhost:8080/"
        },
        "id": "MI2zmrZkA_mK",
        "outputId": "907e1756-cf18-4258-dbb9-ef28cc056724"
      },
      "execution_count": 142,
      "outputs": [
        {
          "output_type": "execute_result",
          "data": {
            "text/plain": [
              "['1.npy',\n",
              " '2.npy',\n",
              " '3.npy',\n",
              " '4.npy',\n",
              " '5.npy',\n",
              " '6.npy',\n",
              " '7.npy',\n",
              " '8.npy',\n",
              " '9.npy',\n",
              " '10.npy',\n",
              " '11.npy',\n",
              " '12.npy',\n",
              " '13.npy',\n",
              " '14.npy',\n",
              " '15.npy',\n",
              " '16.npy',\n",
              " '17.npy',\n",
              " '18.npy',\n",
              " '19.npy',\n",
              " '20.npy',\n",
              " '21.npy',\n",
              " '22.npy',\n",
              " '23.npy',\n",
              " '24.npy',\n",
              " '25.npy',\n",
              " '26.npy',\n",
              " '27.npy',\n",
              " '28.npy',\n",
              " '29.npy',\n",
              " '30.npy',\n",
              " '31.npy',\n",
              " '32.npy',\n",
              " '33.npy',\n",
              " '34.npy',\n",
              " '35.npy',\n",
              " '36.npy',\n",
              " '37.npy',\n",
              " '38.npy',\n",
              " '39.npy',\n",
              " '40.npy',\n",
              " '41.npy',\n",
              " '42.npy',\n",
              " '43.npy',\n",
              " '44.npy',\n",
              " '45.npy',\n",
              " '46.npy',\n",
              " '47.npy',\n",
              " '48.npy',\n",
              " '49.npy',\n",
              " '50.npy',\n",
              " '51.npy',\n",
              " '52.npy',\n",
              " '53.npy',\n",
              " '54.npy',\n",
              " '55.npy',\n",
              " '56.npy',\n",
              " '57.npy',\n",
              " '58.npy',\n",
              " '59.npy',\n",
              " '60.npy',\n",
              " '61.npy',\n",
              " '62.npy',\n",
              " '63.npy',\n",
              " '64.npy',\n",
              " '65.npy',\n",
              " '66.npy',\n",
              " '67.npy',\n",
              " '68.npy',\n",
              " '69.npy',\n",
              " '70.npy',\n",
              " '71.npy',\n",
              " '72.npy',\n",
              " '73.npy',\n",
              " '74.npy',\n",
              " '75.npy',\n",
              " '76.npy',\n",
              " '77.npy',\n",
              " '78.npy',\n",
              " '79.npy',\n",
              " '80.npy',\n",
              " '81.npy',\n",
              " '82.npy',\n",
              " '83.npy',\n",
              " '84.npy',\n",
              " '85.npy',\n",
              " '86.npy',\n",
              " '87.npy',\n",
              " '88.npy',\n",
              " '89.npy',\n",
              " '90.npy',\n",
              " '91.npy',\n",
              " '92.npy',\n",
              " '93.npy',\n",
              " '94.npy',\n",
              " '95.npy',\n",
              " '96.npy',\n",
              " '97.npy',\n",
              " '98.npy',\n",
              " '99.npy',\n",
              " '100.npy']"
            ]
          },
          "metadata": {},
          "execution_count": 142
        }
      ]
    },
    {
      "cell_type": "code",
      "source": [
        "print(filenamesASDR)\n",
        "print(len(filenamesASDR))\n",
        "print(delaypiek)\n",
        "print(len(delaypiek))"
      ],
      "metadata": {
        "colab": {
          "base_uri": "https://localhost:8080/"
        },
        "id": "_2PmqVQ2T68t",
        "outputId": "7b23d144-b850-440a-a18c-42e4e2d95f5a"
      },
      "execution_count": 143,
      "outputs": [
        {
          "output_type": "stream",
          "name": "stdout",
          "text": [
            "['stud_train/ADSR0_P_282_SNR20DB.npy', 'stud_train/ADSR0_P_343_SNR20DB.npy', 'stud_train/ADSR10_P_184_SNR10DB.npy', 'stud_train/ADSR10_P_277_SNR10DB.npy', 'stud_train/ADSR11_P_101_SNR11DB.npy', 'stud_train/ADSR11_P_154_SNR11DB.npy', 'stud_train/ADSR12_P_226_SNR10DB.npy', 'stud_train/ADSR12_P_265_SNR10DB.npy', 'stud_train/ADSR13_P_279_SNR16DB.npy', 'stud_train/ADSR13_P_333_SNR16DB.npy', 'stud_train/ADSR14_P_231_SNR33DB.npy', 'stud_train/ADSR14_P_325_SNR33DB.npy', 'stud_train/ADSR15_P_188_SNR27DB.npy', 'stud_train/ADSR15_P_275_SNR27DB.npy', 'stud_train/ADSR16_P_104_SNR11DB.npy', 'stud_train/ADSR16_P_164_SNR11DB.npy', 'stud_train/ADSR17_P_257_SNR18DB.npy', 'stud_train/ADSR17_P_322_SNR18DB.npy', 'stud_train/ADSR18_P_215_SNR10DB.npy', 'stud_train/ADSR18_P_293_SNR10DB.npy', 'stud_train/ADSR19_P_202_SNR27DB.npy', 'stud_train/ADSR19_P_260_SNR27DB.npy', 'stud_train/ADSR1_P_295_SNR12DB.npy', 'stud_train/ADSR1_P_341_SNR12DB.npy', 'stud_train/ADSR20_P_271_SNR16DB.npy', 'stud_train/ADSR20_P_310_SNR16DB.npy', 'stud_train/ADSR21_P_142_SNR23DB.npy', 'stud_train/ADSR21_P_88_SNR23DB.npy', 'stud_train/ADSR22_P_308_SNR10DB.npy', 'stud_train/ADSR22_P_380_SNR10DB.npy', 'stud_train/ADSR23_P_327_SNR15DB.npy', 'stud_train/ADSR23_P_405_SNR15DB.npy', 'stud_train/ADSR24_P_172_SNR13DB.npy', 'stud_train/ADSR24_P_80_SNR13DB.npy', 'stud_train/ADSR25_P_160_SNR23DB.npy', 'stud_train/ADSR25_P_197_SNR23DB.npy', 'stud_train/ADSR26_P_233_SNR10DB.npy', 'stud_train/ADSR26_P_327_SNR10DB.npy', 'stud_train/ADSR27_P_323_SNR12DB.npy', 'stud_train/ADSR27_P_354_SNR12DB.npy', 'stud_train/ADSR28_P_288_SNR17DB.npy', 'stud_train/ADSR28_P_333_SNR17DB.npy', 'stud_train/ADSR29_P_257_SNR22DB.npy', 'stud_train/ADSR29_P_292_SNR22DB.npy', 'stud_train/ADSR2_P_153_SNR38DB.npy', 'stud_train/ADSR2_P_229_SNR38DB.npy', 'stud_train/ADSR30_P_102_SNR12DB.npy', 'stud_train/ADSR30_P_144_SNR12DB.npy', 'stud_train/ADSR31_P_229_SNR28DB.npy', 'stud_train/ADSR31_P_275_SNR28DB.npy', 'stud_train/ADSR32_P_176_SNR19DB.npy', 'stud_train/ADSR32_P_215_SNR19DB.npy', 'stud_train/ADSR33_P_294_SNR16DB.npy', 'stud_train/ADSR33_P_381_SNR16DB.npy', 'stud_train/ADSR34_P_192_SNR25DB.npy', 'stud_train/ADSR34_P_256_SNR25DB.npy', 'stud_train/ADSR35_P_126_SNR24DB.npy', 'stud_train/ADSR35_P_212_SNR24DB.npy', 'stud_train/ADSR36_P_144_SNR19DB.npy', 'stud_train/ADSR36_P_96_SNR19DB.npy', 'stud_train/ADSR37_P_155_SNR19DB.npy', 'stud_train/ADSR37_P_198_SNR19DB.npy', 'stud_train/ADSR38_P_163_SNR12DB.npy', 'stud_train/ADSR38_P_235_SNR12DB.npy', 'stud_train/ADSR39_P_207_SNR20DB.npy', 'stud_train/ADSR39_P_280_SNR20DB.npy', 'stud_train/ADSR3_P_135_SNR10DB.npy', 'stud_train/ADSR3_P_182_SNR10DB.npy', 'stud_train/ADSR40_P_212_SNR29DB.npy', 'stud_train/ADSR40_P_274_SNR29DB.npy', 'stud_train/ADSR41_P_117_SNR13DB.npy', 'stud_train/ADSR41_P_158_SNR13DB.npy', 'stud_train/ADSR42_P_341_SNR13DB.npy', 'stud_train/ADSR42_P_386_SNR13DB.npy', 'stud_train/ADSR43_P_290_SNR33DB.npy', 'stud_train/ADSR43_P_378_SNR33DB.npy', 'stud_train/ADSR44_P_181_SNR16DB.npy', 'stud_train/ADSR44_P_88_SNR16DB.npy', 'stud_train/ADSR45_P_298_SNR19DB.npy', 'stud_train/ADSR45_P_337_SNR19DB.npy', 'stud_train/ADSR46_P_157_SNR29DB.npy', 'stud_train/ADSR46_P_202_SNR29DB.npy', 'stud_train/ADSR47_P_289_SNR12DB.npy', 'stud_train/ADSR47_P_359_SNR12DB.npy', 'stud_train/ADSR48_P_117_SNR12DB.npy', 'stud_train/ADSR48_P_188_SNR12DB.npy', 'stud_train/ADSR49_P_262_SNR13DB.npy', 'stud_train/ADSR49_P_317_SNR13DB.npy', 'stud_train/ADSR4_P_146_SNR22DB.npy', 'stud_train/ADSR4_P_196_SNR22DB.npy', 'stud_train/ADSR50_P_271_SNR13DB.npy', 'stud_train/ADSR50_P_360_SNR13DB.npy', 'stud_train/ADSR51_P_143_SNR13DB.npy', 'stud_train/ADSR51_P_184_SNR13DB.npy', 'stud_train/ADSR52_P_162_SNR14DB.npy', 'stud_train/ADSR52_P_195_SNR14DB.npy', 'stud_train/ADSR53_P_240_SNR10DB.npy', 'stud_train/ADSR53_P_284_SNR10DB.npy', 'stud_train/ADSR54_P_211_SNR33DB.npy', 'stud_train/ADSR54_P_297_SNR33DB.npy', 'stud_train/ADSR55_P_188_SNR12DB.npy', 'stud_train/ADSR55_P_286_SNR12DB.npy', 'stud_train/ADSR56_P_212_SNR10DB.npy', 'stud_train/ADSR56_P_285_SNR10DB.npy', 'stud_train/ADSR57_P_230_SNR12DB.npy', 'stud_train/ADSR57_P_321_SNR12DB.npy', 'stud_train/ADSR58_P_209_SNR29DB.npy', 'stud_train/ADSR58_P_284_SNR29DB.npy', 'stud_train/ADSR59_P_155_SNR21DB.npy', 'stud_train/ADSR59_P_186_SNR21DB.npy', 'stud_train/ADSR5_P_131_SNR19DB.npy', 'stud_train/ADSR5_P_228_SNR19DB.npy', 'stud_train/ADSR60_P_233_SNR16DB.npy', 'stud_train/ADSR60_P_277_SNR16DB.npy', 'stud_train/ADSR61_P_62_SNR10DB.npy', 'stud_train/ADSR61_P_97_SNR10DB.npy', 'stud_train/ADSR62_P_180_SNR30DB.npy', 'stud_train/ADSR62_P_82_SNR30DB.npy', 'stud_train/ADSR63_P_266_SNR16DB.npy', 'stud_train/ADSR63_P_297_SNR16DB.npy', 'stud_train/ADSR64_P_222_SNR26DB.npy', 'stud_train/ADSR64_P_313_SNR26DB.npy', 'stud_train/ADSR65_P_193_SNR12DB.npy', 'stud_train/ADSR65_P_285_SNR12DB.npy', 'stud_train/ADSR66_P_249_SNR20DB.npy', 'stud_train/ADSR66_P_299_SNR20DB.npy', 'stud_train/ADSR67_P_314_SNR22DB.npy', 'stud_train/ADSR67_P_383_SNR22DB.npy', 'stud_train/ADSR68_P_146_SNR15DB.npy', 'stud_train/ADSR68_P_233_SNR15DB.npy', 'stud_train/ADSR69_P_126_SNR14DB.npy', 'stud_train/ADSR69_P_198_SNR14DB.npy', 'stud_train/ADSR6_P_146_SNR21DB.npy', 'stud_train/ADSR6_P_239_SNR21DB.npy', 'stud_train/ADSR70_P_325_SNR38DB.npy', 'stud_train/ADSR70_P_367_SNR38DB.npy', 'stud_train/ADSR71_P_147_SNR21DB.npy', 'stud_train/ADSR71_P_204_SNR21DB.npy', 'stud_train/ADSR72_P_268_SNR25DB.npy', 'stud_train/ADSR72_P_359_SNR25DB.npy', 'stud_train/ADSR73_P_186_SNR15DB.npy', 'stud_train/ADSR73_P_258_SNR15DB.npy', 'stud_train/ADSR74_P_196_SNR30DB.npy', 'stud_train/ADSR74_P_232_SNR30DB.npy', 'stud_train/ADSR75_P_319_SNR21DB.npy', 'stud_train/ADSR75_P_377_SNR21DB.npy', 'stud_train/ADSR76_P_200_SNR23DB.npy', 'stud_train/ADSR76_P_259_SNR23DB.npy', 'stud_train/ADSR77_P_169_SNR10DB.npy', 'stud_train/ADSR77_P_238_SNR10DB.npy', 'stud_train/ADSR78_P_185_SNR21DB.npy', 'stud_train/ADSR78_P_270_SNR21DB.npy', 'stud_train/ADSR79_P_133_SNR15DB.npy', 'stud_train/ADSR79_P_224_SNR15DB.npy', 'stud_train/ADSR7_P_150_SNR27DB.npy', 'stud_train/ADSR7_P_205_SNR27DB.npy', 'stud_train/ADSR80_P_137_SNR11DB.npy', 'stud_train/ADSR80_P_187_SNR11DB.npy', 'stud_train/ADSR81_P_197_SNR17DB.npy', 'stud_train/ADSR81_P_280_SNR17DB.npy', 'stud_train/ADSR82_P_108_SNR21DB.npy', 'stud_train/ADSR82_P_208_SNR21DB.npy', 'stud_train/ADSR83_P_332_SNR11DB.npy', 'stud_train/ADSR83_P_405_SNR11DB.npy', 'stud_train/ADSR84_P_169_SNR10DB.npy', 'stud_train/ADSR84_P_231_SNR10DB.npy', 'stud_train/ADSR85_P_307_SNR10DB.npy', 'stud_train/ADSR85_P_369_SNR10DB.npy', 'stud_train/ADSR86_P_132_SNR19DB.npy', 'stud_train/ADSR86_P_224_SNR19DB.npy', 'stud_train/ADSR87_P_261_SNR35DB.npy', 'stud_train/ADSR87_P_347_SNR35DB.npy', 'stud_train/ADSR88_P_258_SNR18DB.npy', 'stud_train/ADSR88_P_292_SNR18DB.npy', 'stud_train/ADSR89_P_256_SNR15DB.npy', 'stud_train/ADSR89_P_333_SNR15DB.npy', 'stud_train/ADSR8_P_251_SNR17DB.npy', 'stud_train/ADSR8_P_296_SNR17DB.npy', 'stud_train/ADSR90_P_258_SNR13DB.npy', 'stud_train/ADSR90_P_322_SNR13DB.npy', 'stud_train/ADSR91_P_119_SNR17DB.npy', 'stud_train/ADSR91_P_213_SNR17DB.npy', 'stud_train/ADSR92_P_194_SNR20DB.npy', 'stud_train/ADSR92_P_224_SNR20DB.npy', 'stud_train/ADSR93_P_195_SNR10DB.npy', 'stud_train/ADSR93_P_280_SNR10DB.npy', 'stud_train/ADSR94_P_230_SNR10DB.npy', 'stud_train/ADSR94_P_291_SNR10DB.npy', 'stud_train/ADSR95_P_219_SNR66DB.npy', 'stud_train/ADSR95_P_271_SNR66DB.npy', 'stud_train/ADSR96_P_261_SNR12DB.npy', 'stud_train/ADSR96_P_313_SNR12DB.npy', 'stud_train/ADSR97_P_250_SNR13DB.npy', 'stud_train/ADSR97_P_305_SNR13DB.npy', 'stud_train/ADSR98_P_259_SNR23DB.npy', 'stud_train/ADSR98_P_322_SNR23DB.npy', 'stud_train/ADSR99_P_301_SNR12DB.npy', 'stud_train/ADSR99_P_353_SNR12DB.npy', 'stud_train/ADSR9_P_105_SNR17DB.npy', 'stud_train/ADSR9_P_171_SNR17DB.npy']\n",
            "200\n",
            "[573, 605, 565, 551, 566, 606, 599, 572, 577, 590, 570, 558, 551, 458, 584, 590, 420, 549, 606, 543, 557, 547, 588, 554, 558, 551, 599, 576, 598, 464, 555, 584, 585, 559, 574, 553, 557, 600, 419, 551, 557, 582, 583, 567, 562, 601, 553, 545, 556, 598, 610, 585, 603, 587, 543, 609, 556, 547, 414, 543, 603, 604, 562, 581, 599, 584, 605, 554, 569, 603, 584, 548, 570, 571, 581, 597, 603, 567, 562, 595, 612, 585, 574, 574, 604, 598, 546, 589, 557, 576, 606, 542, 597, 573, 564, 564, 567, 575, 564, 578]\n",
            "100\n"
          ]
        }
      ]
    },
    {
      "cell_type": "code",
      "source": [
        "os.chdir(standaarddirectory)\n",
        "os.chdir(\"stud_train_combinedASDR\")\n",
        "#dfASDR = pd.DataFrame(data = np.load(\"1.npy\"))\n",
        "#dfASDR = pd.DataFrame(data = np.load(\"2.npy\"))\n",
        "\n",
        "df = pd.DataFrame(np.load(f\"{x}.npy\") for x in range(1, 101))\n",
        "#for combinedfile in ASDRCOMBINEDFILES:\n",
        "\n",
        "#df = df.T Transponeren van het dataframe\n",
        "#print(dfASDR)\n",
        "print(df)\n",
        "os.chdir(standaarddirectory)"
      ],
      "metadata": {
        "colab": {
          "base_uri": "https://localhost:8080/"
        },
        "id": "8tsFc-NVoF1i",
        "outputId": "0e345203-1c84-4c25-823b-3801de1eed9a"
      },
      "execution_count": 144,
      "outputs": [
        {
          "output_type": "stream",
          "name": "stdout",
          "text": [
            "        0         1         2         3         4         5         6     \\\n",
            "0   0.005852 -0.019865 -0.042075 -0.041071 -0.018101 -0.027462  0.036881   \n",
            "1   0.056715  0.132339  0.135539  0.049227  0.065208 -0.077982  0.018259   \n",
            "2   0.027773  0.005639 -0.002636 -0.167840  0.038056  0.023487  0.007777   \n",
            "3  -0.026466  0.008621 -0.161340 -0.012341 -0.080992 -0.166868 -0.102965   \n",
            "4   0.013772 -0.008582 -0.079611 -0.002194 -0.036131 -0.035800  0.019848   \n",
            "..       ...       ...       ...       ...       ...       ...       ...   \n",
            "95  0.151431 -0.043660  0.028297  0.002026 -0.098621  0.052707 -0.026667   \n",
            "96  0.005700 -0.042164  0.003313 -0.028427 -0.041338  0.066976  0.014467   \n",
            "97  0.014818  0.002778  0.014760 -0.012460 -0.015580 -0.018382  0.006778   \n",
            "98 -0.006699  0.019235 -0.052493 -0.053116  0.046434  0.116708 -0.173489   \n",
            "99 -0.005460 -0.031761 -0.049384  0.026614  0.045476 -0.008789  0.021138   \n",
            "\n",
            "        7         8         9     ...      1014      1015      1016      1017  \\\n",
            "0  -0.002050  0.038207 -0.006311  ...  0.000122 -0.000400  0.028335  0.026633   \n",
            "1   0.087572  0.130049  0.049116  ...  0.024885  0.052389  0.161868  0.003820   \n",
            "2  -0.009063 -0.028876  0.046371  ... -0.029174  0.090122  0.021397  0.020627   \n",
            "3   0.192413 -0.026073  0.127031  ...  0.084655  0.000276  0.028559 -0.054707   \n",
            "4   0.037898 -0.056160  0.013851  ... -0.037066 -0.041523  0.030753  0.058897   \n",
            "..       ...       ...       ...  ...       ...       ...       ...       ...   \n",
            "95 -0.041400 -0.027815 -0.015924  ... -0.010910  0.084541  0.027342 -0.055243   \n",
            "96 -0.052282 -0.019556 -0.009626  ... -0.078797 -0.047104 -0.071497  0.053523   \n",
            "97 -0.000780 -0.024827  0.012520  ...  0.008470  0.005153 -0.008371  0.001865   \n",
            "98 -0.084586 -0.030956 -0.015777  ... -0.076676 -0.038569  0.047295  0.156397   \n",
            "99  0.028804  0.061364 -0.048079  ...  0.019669 -0.015857  0.036991  0.051873   \n",
            "\n",
            "        1018      1019      1020      1021      1022      1023  \n",
            "0   0.003970 -0.013432 -0.056558 -0.057415 -0.008298 -0.004528  \n",
            "1   0.010872 -0.011098  0.105402 -0.140554  0.046524 -0.020029  \n",
            "2   0.018094 -0.032089 -0.126042  0.017376 -0.046555  0.100969  \n",
            "3   0.079195 -0.064856  0.077468  0.009812 -0.091462  0.089315  \n",
            "4   0.002894 -0.057976  0.039496 -0.038745  0.031730 -0.004806  \n",
            "..       ...       ...       ...       ...       ...       ...  \n",
            "95 -0.001616 -0.040254 -0.067822 -0.041906 -0.017538 -0.009465  \n",
            "96  0.045112  0.031064  0.062015 -0.085545 -0.093260  0.023097  \n",
            "97 -0.010258  0.010094  0.027520  0.005053  0.018013 -0.009737  \n",
            "98  0.131563 -0.098264 -0.047461  0.052005 -0.071165  0.073532  \n",
            "99 -0.024754 -0.043956  0.020499  0.095777 -0.049457 -0.099933  \n",
            "\n",
            "[100 rows x 1024 columns]\n"
          ]
        }
      ]
    },
    {
      "cell_type": "code",
      "source": [
        "dfdelay = pd.DataFrame(data = delaypiek)\n",
        "print(dfdelay)"
      ],
      "metadata": {
        "colab": {
          "base_uri": "https://localhost:8080/"
        },
        "id": "AvpbboBAlxG6",
        "outputId": "f6c85685-740d-42c8-a318-c2c5624132d0"
      },
      "execution_count": 145,
      "outputs": [
        {
          "output_type": "stream",
          "name": "stdout",
          "text": [
            "      0\n",
            "0   573\n",
            "1   605\n",
            "2   565\n",
            "3   551\n",
            "4   566\n",
            "..  ...\n",
            "95  564\n",
            "96  567\n",
            "97  575\n",
            "98  564\n",
            "99  578\n",
            "\n",
            "[100 rows x 1 columns]\n"
          ]
        }
      ]
    },
    {
      "cell_type": "code",
      "source": [
        "# Create a model\n",
        "model = tf.keras.Sequential()\n",
        "model.add(layers.Dense(16, activation='relu', input_shape=(1,)))\n",
        "model.add(layers.Dense(16, activation='relu'))\n",
        "model.add(layers.Dense(16, activation='relu'))\n",
        "model.add(layers.Dense(16, activation='relu'))\n",
        "model.add(layers.Dense(1))"
      ],
      "metadata": {
        "id": "VXGxqQOoMhRm"
      },
      "execution_count": 146,
      "outputs": []
    },
    {
      "cell_type": "code",
      "source": [
        "model.summary()"
      ],
      "metadata": {
        "colab": {
          "base_uri": "https://localhost:8080/"
        },
        "id": "P2okS7ukMibe",
        "outputId": "fffeb161-40dd-43ed-c77b-573c118c5f9f"
      },
      "execution_count": 147,
      "outputs": [
        {
          "output_type": "stream",
          "name": "stdout",
          "text": [
            "Model: \"sequential_6\"\n",
            "_________________________________________________________________\n",
            " Layer (type)                Output Shape              Param #   \n",
            "=================================================================\n",
            " dense_30 (Dense)            (None, 16)                32        \n",
            "                                                                 \n",
            " dense_31 (Dense)            (None, 16)                272       \n",
            "                                                                 \n",
            " dense_32 (Dense)            (None, 16)                272       \n",
            "                                                                 \n",
            " dense_33 (Dense)            (None, 16)                272       \n",
            "                                                                 \n",
            " dense_34 (Dense)            (None, 1)                 17        \n",
            "                                                                 \n",
            "=================================================================\n",
            "Total params: 865\n",
            "Trainable params: 865\n",
            "Non-trainable params: 0\n",
            "_________________________________________________________________\n"
          ]
        }
      ]
    },
    {
      "cell_type": "code",
      "source": [
        "# Add optimizer, loss function, and metrics to model and compile it\n",
        "model.compile(optimizer='adam', loss='mae', metrics=['mae'])"
      ],
      "metadata": {
        "id": "xeUik51hMkFH"
      },
      "execution_count": 148,
      "outputs": []
    },
    {
      "cell_type": "code",
      "source": [
        "# Train model\n",
        "history = model.fit(df.values,\n",
        "                    epochs=500,\n",
        "                    batch_size=64,\n",
        "                    validation_data=(dfdelay.values))"
      ],
      "metadata": {
        "colab": {
          "base_uri": "https://localhost:8080/",
          "height": 363
        },
        "id": "BhY1P0svMmHa",
        "outputId": "4bc7f404-3410-46f4-c83e-09dd96de5994"
      },
      "execution_count": 149,
      "outputs": [
        {
          "output_type": "error",
          "ename": "ValueError",
          "evalue": "ignored",
          "traceback": [
            "\u001b[0;31m---------------------------------------------------------------------------\u001b[0m",
            "\u001b[0;31mValueError\u001b[0m                                Traceback (most recent call last)",
            "\u001b[0;32m<ipython-input-149-796ba0a5c4fa>\u001b[0m in \u001b[0;36m<module>\u001b[0;34m\u001b[0m\n\u001b[1;32m      3\u001b[0m                     \u001b[0mepochs\u001b[0m\u001b[0;34m=\u001b[0m\u001b[0;36m500\u001b[0m\u001b[0;34m,\u001b[0m\u001b[0;34m\u001b[0m\u001b[0;34m\u001b[0m\u001b[0m\n\u001b[1;32m      4\u001b[0m                     \u001b[0mbatch_size\u001b[0m\u001b[0;34m=\u001b[0m\u001b[0;36m64\u001b[0m\u001b[0;34m,\u001b[0m\u001b[0;34m\u001b[0m\u001b[0;34m\u001b[0m\u001b[0m\n\u001b[0;32m----> 5\u001b[0;31m                     validation_data=(dfdelay.values))\n\u001b[0m",
            "\u001b[0;32m/usr/local/lib/python3.7/dist-packages/keras/utils/traceback_utils.py\u001b[0m in \u001b[0;36merror_handler\u001b[0;34m(*args, **kwargs)\u001b[0m\n\u001b[1;32m     65\u001b[0m     \u001b[0;32mexcept\u001b[0m \u001b[0mException\u001b[0m \u001b[0;32mas\u001b[0m \u001b[0me\u001b[0m\u001b[0;34m:\u001b[0m  \u001b[0;31m# pylint: disable=broad-except\u001b[0m\u001b[0;34m\u001b[0m\u001b[0;34m\u001b[0m\u001b[0m\n\u001b[1;32m     66\u001b[0m       \u001b[0mfiltered_tb\u001b[0m \u001b[0;34m=\u001b[0m \u001b[0m_process_traceback_frames\u001b[0m\u001b[0;34m(\u001b[0m\u001b[0me\u001b[0m\u001b[0;34m.\u001b[0m\u001b[0m__traceback__\u001b[0m\u001b[0;34m)\u001b[0m\u001b[0;34m\u001b[0m\u001b[0;34m\u001b[0m\u001b[0m\n\u001b[0;32m---> 67\u001b[0;31m       \u001b[0;32mraise\u001b[0m \u001b[0me\u001b[0m\u001b[0;34m.\u001b[0m\u001b[0mwith_traceback\u001b[0m\u001b[0;34m(\u001b[0m\u001b[0mfiltered_tb\u001b[0m\u001b[0;34m)\u001b[0m \u001b[0;32mfrom\u001b[0m \u001b[0;32mNone\u001b[0m\u001b[0;34m\u001b[0m\u001b[0;34m\u001b[0m\u001b[0m\n\u001b[0m\u001b[1;32m     68\u001b[0m     \u001b[0;32mfinally\u001b[0m\u001b[0;34m:\u001b[0m\u001b[0;34m\u001b[0m\u001b[0;34m\u001b[0m\u001b[0m\n\u001b[1;32m     69\u001b[0m       \u001b[0;32mdel\u001b[0m \u001b[0mfiltered_tb\u001b[0m\u001b[0;34m\u001b[0m\u001b[0;34m\u001b[0m\u001b[0m\n",
            "\u001b[0;32m/usr/local/lib/python3.7/dist-packages/keras/engine/training.py\u001b[0m in \u001b[0;36mfit\u001b[0;34m(self, x, y, batch_size, epochs, verbose, callbacks, validation_split, validation_data, shuffle, class_weight, sample_weight, initial_epoch, steps_per_epoch, validation_steps, validation_batch_size, validation_freq, max_queue_size, workers, use_multiprocessing)\u001b[0m\n\u001b[1;32m   1345\u001b[0m               (x, y, sample_weight), validation_split=validation_split))\n\u001b[1;32m   1346\u001b[0m \u001b[0;34m\u001b[0m\u001b[0m\n\u001b[0;32m-> 1347\u001b[0;31m     \u001b[0;32mif\u001b[0m \u001b[0mvalidation_data\u001b[0m\u001b[0;34m:\u001b[0m\u001b[0;34m\u001b[0m\u001b[0;34m\u001b[0m\u001b[0m\n\u001b[0m\u001b[1;32m   1348\u001b[0m       val_x, val_y, val_sample_weight = (\n\u001b[1;32m   1349\u001b[0m           data_adapter.unpack_x_y_sample_weight(validation_data))\n",
            "\u001b[0;31mValueError\u001b[0m: The truth value of an array with more than one element is ambiguous. Use a.any() or a.all()"
          ]
        }
      ]
    },
    {
      "cell_type": "code",
      "source": [
        "#reset"
      ],
      "metadata": {
        "id": "TWZvrLXDfceQ"
      },
      "execution_count": null,
      "outputs": []
    }
  ]
}