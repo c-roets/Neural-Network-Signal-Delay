{
  "nbformat": 4,
  "nbformat_minor": 0,
  "metadata": {
    "colab": {
      "provenance": [],
      "collapsed_sections": []
    },
    "kernelspec": {
      "name": "python3",
      "display_name": "Python 3"
    },
    "language_info": {
      "name": "python"
    }
  },
  "cells": [
    {
      "cell_type": "code",
      "execution_count": 1,
      "metadata": {
        "id": "a0_exOypAsUx"
      },
      "outputs": [],
      "source": [
        "#Imports\n",
        "import numpy as np\n",
        "import matplotlib.pyplot as plt\n",
        "import os\n",
        "import pandas as pd\n",
        "import natsort\n",
        "import re\n",
        "#We gebruiken de from ... import voor commando's die we veel gebruiken om repititie te verminderen \n",
        "from tensorflow.keras.models import Sequential\n",
        "from tensorflow.keras.layers import Dense\n",
        "from tensorflow.keras import layers\n",
        "from keras import backend as K\n",
        "from zipfile import ZipFile\n",
        "import tensorflow as tf"
      ]
    },
    {
      "cell_type": "markdown",
      "source": [
        "UPLOAD EERST DE DATA ZIP in COLAB, ANDERS KAN HET VOLGENDE BLOK CODE DEZE NIET UITPAKKEN"
      ],
      "metadata": {
        "id": "oN1PtXsL6tmU"
      }
    },
    {
      "cell_type": "code",
      "source": [
        "standaarddirectory = os.getcwd()                  #standaarddirectory van google colab opslaan zodat we altijd terug kunnen keren naar deze\n",
        "file_name = \"delay_dataset.zip\"                   \n",
        "if not os.path.exists(\"stud_train\"):              #Als de data nog niet uitgepakt is en deze folder dus nog niet bestaat, gaan we dit doen\n",
        "  with ZipFile(file_name,'r') as zipper:\n",
        "    zipper.extractall()\n",
        "    print(\"extractie data klaar\")\n",
        "\n",
        "if not os.path.exists(\"stud_train_combined_ASDR\"):    #Een folder waarin we de gecombineerde ASDR train signalen van 1024 samples zullen opslaan\n",
        "  os.makedirs(\"stud_train_combined_ASDR\")\n",
        "if not os.path.exists(\"stud_train_combined_GAUSS\"):   #Een folder waarin we de gecombineerde GAUSS train signalen van 1024 samples zullen opslaan\n",
        "  os.makedirs(\"stud_train_combined_GAUSS\")\n",
        "if not os.path.exists(\"stud_train_combined_SBOX\"):    #Een folder waarin we de gecombineerde SBOX train signalen van 1024 samples zullen opslaan\n",
        "  os.makedirs(\"stud_train_combined_SBOX\")\n",
        "\n",
        "if not os.path.exists(\"stud_test_combined_ASDR\"):    #Een folder waarin we de gecombineerde ASDR test signalen van 1024 samples zullen opslaan\n",
        "  os.makedirs(\"stud_test_combined_ASDR\")\n",
        "if not os.path.exists(\"stud_test_combined_GAUSS\"):   #Een folder waarin we de gecombineerde GAUSS test signalen van 1024 samples zullen opslaan\n",
        "  os.makedirs(\"stud_test_combined_GAUSS\")\n",
        "if not os.path.exists(\"stud_test_combined_SBOX\"):    #Een folder waarin we de gecombineerde SBOX test signalen van 1024 samples zullen opslaan\n",
        "  os.makedirs(\"stud_test_combined_SBOX\")"
      ],
      "metadata": {
        "id": "wNoaRK8yCcZ9",
        "colab": {
          "base_uri": "https://localhost:8080/"
        },
        "outputId": "4777e942-2a42-4668-c364-84126a3677b7"
      },
      "execution_count": 2,
      "outputs": [
        {
          "output_type": "stream",
          "name": "stdout",
          "text": [
            "extractie data klaar\n"
          ]
        }
      ]
    },
    {
      "cell_type": "code",
      "source": [
        "# variable declaration\n",
        "train_set = 'stud_train'\n",
        "test_set = 'stud_test'\n",
        "delaypiekASDR = []    #array met actuele delays tussen de pieken (validatiecijfers voor training)\n",
        "delaypiekGAUSS = []\n",
        "delaypiekSBOX = []\n",
        "delaypiekASDRtest = []    #array met actuele delays tussen de pieken (cijfers voor testing)\n",
        "delaypiekGAUSStest = []\n",
        "delaypiekSBOXtest = []"
      ],
      "metadata": {
        "id": "TkRDCfkQA0vF"
      },
      "execution_count": 3,
      "outputs": []
    },
    {
      "cell_type": "code",
      "source": [
        "#Geeft een array met strings weer waarin de namen van de files in die map staan\n",
        "def laadarraymetfilenamenuitmap(map):\n",
        "    filenames = os.listdir(map)  # array met alle filenames van in folder\n",
        "    filenames.sort()\n",
        "    return filenames"
      ],
      "metadata": {
        "id": "HlMfzklhA7La"
      },
      "execution_count": 4,
      "outputs": []
    },
    {
      "cell_type": "code",
      "source": [
        "#plot het signaal van een numpy array aan de hand van een megegeven signaalbestandsnaam\n",
        "#Functie werd enkel gebruikt in het begin, niet meer relevant op het einde\n",
        "def plotsignaal(signaal, evencheck, nummer, x = np.arange(0,512)): #signaal is naam bestand tussen aanhalingstekens\n",
        "    if evencheck % 2 == 0:\n",
        "        kleur = \"red\"         #paar van signalen respectievelijk rood en blauw weergeven zodat het verschil duidelijk is\n",
        "    else:\n",
        "        kleur = \"blue\"\n",
        "    plot = plt.figure(nummer)\n",
        "    plt.xlabel(\"X axis\")\n",
        "    plt.ylabel(\"Y axis\")\n",
        "    plt.plot(x,np.load(signaal), color=kleur)"
      ],
      "metadata": {
        "id": "y-1GWcDqA9eQ"
      },
      "execution_count": 5,
      "outputs": []
    },
    {
      "cell_type": "code",
      "source": [
        "#Geeft de waarde van de positie van die piek terug aan de hand van de bestandsnaam\n",
        "def geefpositiepiek(signaal):\n",
        "  truncatedsignaal = (signaal.split(\"P_\",1)[1]) #alles voor de xxx wegdoen dus BV ASDR_P_ wegdoen\n",
        "  piek = ''.join(x for x in truncatedsignaal[0:3] if x.isdigit()) \n",
        "  return piek"
      ],
      "metadata": {
        "id": "Qky7IDJIEWfr"
      },
      "execution_count": 6,
      "outputs": []
    },
    {
      "cell_type": "code",
      "source": [
        "#voegt de array van twee signalen samen om 1 vector van 1024 samples te bekomen\n",
        "def voegsamen(signaal1, signaal2):\n",
        "  return np.concatenate([np.load(signaal1), np.load(signaal2)])"
      ],
      "metadata": {
        "id": "SDrzjHGyYQYE"
      },
      "execution_count": 7,
      "outputs": []
    },
    {
      "cell_type": "code",
      "source": [
        "#wordt gebruikt om de lijst met de files te sorten op numerische orde ipv alfabetische orde om sortering van 0 1 10 11 ... 19 2 20 21 ... 29 3 30 31 etc te voorkomen maar 0 1 2 3 4 ... 99\n",
        "def atoi(text):\n",
        "    return int(text) if text.isdigit() else text\n",
        "\n",
        "def natural_keys(text):\n",
        "    return [ atoi(c) for c in re.split(r'(\\d+)', text) ]"
      ],
      "metadata": {
        "id": "xRZb5WOyC0UC"
      },
      "execution_count": 8,
      "outputs": []
    },
    {
      "cell_type": "code",
      "source": [
        "def combinedata(folder, dir, delayarray, typesignaal = \"\", testoftrain = \"\", aantalgrafiekenplotten = 0):\n",
        "  i = 0\n",
        "  nummer = 1\n",
        "  evencheck = 0\n",
        "  x = np.arange(0, 1024)\n",
        "  k = 0\n",
        "  for data in folder:\n",
        "    evencheck += 1\n",
        "    if k != 0 and evencheck % 2 == 0:\n",
        "      os.chdir(f\"stud_{testoftrain}\")\n",
        "      masterfile = voegsamen(previous, data)\n",
        "      os.chdir(standaarddirectory)\n",
        "\n",
        "      os.chdir(dir)\n",
        "      savename = f\"{nummer}{typesignaal}.npy\"\n",
        "      np.save(savename,masterfile)\n",
        "      os.chdir(standaarddirectory)\n",
        "      nummer += 1\n",
        "      delayarray.append(512-int(geefpositiepiek(previous))+int(geefpositiepiek(data)))\n",
        "\n",
        "      #plotten voor eerste paar grafieken, mooie visualisatie als controle\n",
        "      if evencheck < ((aantalgrafiekenplotten*2)+1):  #evencheck > aantal grafieken*2, max 41 vanwege memory limiet -> 20 grafieken, zet op 1 indien je geen grafieken wil zien\n",
        "        plot= plt.figure(nummer)\n",
        "        plt.plot(x,masterfile, color=\"red\")\n",
        "\n",
        "    k += 1\n",
        "    previous = data"
      ],
      "metadata": {
        "id": "5oEbfVnL4mUX"
      },
      "execution_count": 9,
      "outputs": []
    },
    {
      "cell_type": "markdown",
      "source": [
        "END OF FUNCTIONS"
      ],
      "metadata": {
        "id": "de6GAjWs9PuT"
      }
    },
    {
      "cell_type": "code",
      "source": [
        "#main\n",
        "#filenames inlezen\n",
        "filenames = laadarraymetfilenamenuitmap(train_set)\n",
        "filenamesASDR = filenames[0:200]\n",
        "filenamesGAUSS = filenames[200:400]\n",
        "filenamesSBOX = filenames[400:600]\n",
        "\n",
        "filenamestest = laadarraymetfilenamenuitmap(test_set)\n",
        "filenamesASDRtest = filenamestest[0:200]\n",
        "filenamesGAUSStest = filenamestest[200:400]\n",
        "filenamesSBOXtest = filenamestest[400:600]\n",
        "\n",
        "#sorteren\n",
        "filenamesASDR.sort(key=natural_keys)\n",
        "filenamesGAUSS.sort(key=natural_keys)\n",
        "filenamesSBOX.sort(key=natural_keys)\n",
        "filenamesASDRtest.sort(key=natural_keys)\n",
        "filenamesGAUSStest.sort(key=natural_keys)\n",
        "filenamesSBOXtest.sort(key=natural_keys)"
      ],
      "metadata": {
        "id": "LN-a76MlCbmP"
      },
      "execution_count": 10,
      "outputs": []
    },
    {
      "cell_type": "code",
      "source": [
        "os.chdir(standaarddirectory)\n",
        "combinedata(filenamesASDR, \"stud_train_combined_ASDR\", delaypiekASDR, \"ASDR\", \"train\")\n",
        "combinedata(filenamesGAUSS, \"stud_train_combined_GAUSS\", delaypiekGAUSS, \"GAUSS\", \"train\")\n",
        "combinedata(filenamesSBOX, \"stud_train_combined_SBOX\", delaypiekSBOX, \"SBOX\", \"train\")\n",
        "\n",
        "combinedata(filenamesASDRtest, \"stud_test_combined_ASDR\", delaypiekASDRtest, \"ASDR\", \"test\")\n",
        "combinedata(filenamesGAUSStest, \"stud_test_combined_GAUSS\", delaypiekGAUSStest, \"GAUSS\", \"test\")\n",
        "combinedata(filenamesSBOXtest, \"stud_test_combined_SBOX\", delaypiekSBOXtest, \"SBOX\", \"test\")"
      ],
      "metadata": {
        "id": "MI2zmrZkA_mK"
      },
      "execution_count": 11,
      "outputs": []
    },
    {
      "cell_type": "markdown",
      "source": [
        "MODEL ASDR"
      ],
      "metadata": {
        "id": "T3g1moR7FEk9"
      }
    },
    {
      "cell_type": "code",
      "source": [
        "#TENSOR Object maken voor x waarden NN training\n",
        "os.chdir(standaarddirectory)\n",
        "os.chdir(\"stud_train_combined_ASDR\")\n",
        "\n",
        "samplesASDR = [np.load(f\"{x}ASDR.npy\") for x in range(1, 101)]\n",
        "samplesASDR = tf.convert_to_tensor(samplesASDR)\n",
        "\n",
        "os.chdir(standaarddirectory)"
      ],
      "metadata": {
        "id": "pEB_ObxXCH-T"
      },
      "execution_count": 12,
      "outputs": []
    },
    {
      "cell_type": "code",
      "source": [
        "#TENSOR Object maken voor x waarden NN testing\n",
        "os.chdir(standaarddirectory)\n",
        "os.chdir(\"stud_test_combined_ASDR\")\n",
        "\n",
        "samplesASDRtest = [np.load(f\"{x}ASDR.npy\") for x in range(1, 101)]\n",
        "samplesASDRtest = tf.convert_to_tensor(samplesASDRtest)\n",
        "\n",
        "os.chdir(standaarddirectory)"
      ],
      "metadata": {
        "id": "sNnb4omUOH5I"
      },
      "execution_count": 13,
      "outputs": []
    },
    {
      "cell_type": "code",
      "source": [
        "#TENSOR object maken voor y waarden NN training\n",
        "delayASDR = pd.DataFrame(data = delaypiekASDR)\n",
        "delayASDR = tf.convert_to_tensor(delayASDR)"
      ],
      "metadata": {
        "id": "m_QkwX9CCIIk"
      },
      "execution_count": 14,
      "outputs": []
    },
    {
      "cell_type": "code",
      "source": [
        "#Model aanmaken\n",
        "modelASDR = tf.keras.Sequential()\n",
        "modelASDR.add(layers.Dense(512, activation='relu', input_shape=(1024,)))\n",
        "modelASDR.add(layers.Dense(256, activation='relu'))\n",
        "modelASDR.add(layers.Dense(128, activation='relu'))\n",
        "modelASDR.add(layers.Dense(64, activation='relu'))\n",
        "modelASDR.add(layers.Dense(32, activation='relu'))\n",
        "modelASDR.add(layers.Dense(16, activation='relu'))\n",
        "modelASDR.add(layers.Dense(8, activation='relu'))\n",
        "modelASDR.add(layers.Dense(4, activation='relu'))\n",
        "modelASDR.add(layers.Dense(2, activation='relu'))\n",
        "modelASDR.add(layers.Dense(1))"
      ],
      "metadata": {
        "id": "gkLGd0BvCMCF"
      },
      "execution_count": 142,
      "outputs": []
    },
    {
      "cell_type": "code",
      "source": [
        "modelASDR.summary()"
      ],
      "metadata": {
        "colab": {
          "base_uri": "https://localhost:8080/"
        },
        "id": "P2okS7ukMibe",
        "outputId": "edda02af-acc4-4ccd-e7ba-9d19c1582564"
      },
      "execution_count": 143,
      "outputs": [
        {
          "output_type": "stream",
          "name": "stdout",
          "text": [
            "Model: \"sequential_19\"\n",
            "_________________________________________________________________\n",
            " Layer (type)                Output Shape              Param #   \n",
            "=================================================================\n",
            " dense_107 (Dense)           (None, 512)               524800    \n",
            "                                                                 \n",
            " dense_108 (Dense)           (None, 256)               131328    \n",
            "                                                                 \n",
            " dense_109 (Dense)           (None, 128)               32896     \n",
            "                                                                 \n",
            " dense_110 (Dense)           (None, 64)                8256      \n",
            "                                                                 \n",
            " dense_111 (Dense)           (None, 32)                2080      \n",
            "                                                                 \n",
            " dense_112 (Dense)           (None, 16)                528       \n",
            "                                                                 \n",
            " dense_113 (Dense)           (None, 8)                 136       \n",
            "                                                                 \n",
            " dense_114 (Dense)           (None, 4)                 36        \n",
            "                                                                 \n",
            " dense_115 (Dense)           (None, 2)                 10        \n",
            "                                                                 \n",
            " dense_116 (Dense)           (None, 1)                 3         \n",
            "                                                                 \n",
            "=================================================================\n",
            "Total params: 700,073\n",
            "Trainable params: 700,073\n",
            "Non-trainable params: 0\n",
            "_________________________________________________________________\n"
          ]
        }
      ]
    },
    {
      "cell_type": "code",
      "source": [
        "#Optimizer, loss function en metrics toevoegen aan model en compileren\n",
        "modelASDR.compile(optimizer='Adam', loss='mae', metrics=['mae'])\n",
        "K.set_value(modelASDR.optimizer.learning_rate, 0.002)"
      ],
      "metadata": {
        "id": "xeUik51hMkFH"
      },
      "execution_count": 144,
      "outputs": []
    },
    {
      "cell_type": "markdown",
      "source": [
        "Optimizer algoritmes: https://www.tensorflow.org/api_docs/python/tf/keras/optimizers "
      ],
      "metadata": {
        "id": "0LZ06nPxG51u"
      }
    },
    {
      "cell_type": "code",
      "source": [
        "#Model Trainen\n",
        "history1 = modelASDR.fit(samplesASDR,\n",
        "                        delayASDR,\n",
        "                        epochs=20)"
      ],
      "metadata": {
        "colab": {
          "base_uri": "https://localhost:8080/"
        },
        "id": "BhY1P0svMmHa",
        "outputId": "fd1f919c-0f79-4438-ddf6-301ab92096f9"
      },
      "execution_count": 145,
      "outputs": [
        {
          "output_type": "stream",
          "name": "stdout",
          "text": [
            "Epoch 1/20\n",
            "4/4 [==============================] - 1s 13ms/step - loss: 567.2111 - mae: 567.2111\n",
            "Epoch 2/20\n",
            "4/4 [==============================] - 0s 19ms/step - loss: 353.2617 - mae: 353.2617\n",
            "Epoch 3/20\n",
            "4/4 [==============================] - 0s 20ms/step - loss: 224.5114 - mae: 224.5114\n",
            "Epoch 4/20\n",
            "4/4 [==============================] - 0s 15ms/step - loss: 192.4515 - mae: 192.4515\n",
            "Epoch 5/20\n",
            "4/4 [==============================] - 0s 13ms/step - loss: 89.5617 - mae: 89.5617\n",
            "Epoch 6/20\n",
            "4/4 [==============================] - 0s 21ms/step - loss: 76.1970 - mae: 76.1970\n",
            "Epoch 7/20\n",
            "4/4 [==============================] - 0s 13ms/step - loss: 95.1212 - mae: 95.1212\n",
            "Epoch 8/20\n",
            "4/4 [==============================] - 0s 11ms/step - loss: 74.6308 - mae: 74.6308\n",
            "Epoch 9/20\n",
            "4/4 [==============================] - 0s 11ms/step - loss: 62.8494 - mae: 62.8494\n",
            "Epoch 10/20\n",
            "4/4 [==============================] - 0s 12ms/step - loss: 76.6544 - mae: 76.6544\n",
            "Epoch 11/20\n",
            "4/4 [==============================] - 0s 11ms/step - loss: 75.6829 - mae: 75.6829\n",
            "Epoch 12/20\n",
            "4/4 [==============================] - 0s 11ms/step - loss: 59.8403 - mae: 59.8403\n",
            "Epoch 13/20\n",
            "4/4 [==============================] - 0s 9ms/step - loss: 55.4211 - mae: 55.4211\n",
            "Epoch 14/20\n",
            "4/4 [==============================] - 0s 11ms/step - loss: 64.3807 - mae: 64.3807\n",
            "Epoch 15/20\n",
            "4/4 [==============================] - 0s 12ms/step - loss: 54.5808 - mae: 54.5808\n",
            "Epoch 16/20\n",
            "4/4 [==============================] - 0s 9ms/step - loss: 62.8457 - mae: 62.8457\n",
            "Epoch 17/20\n",
            "4/4 [==============================] - 0s 9ms/step - loss: 72.5952 - mae: 72.5952\n",
            "Epoch 18/20\n",
            "4/4 [==============================] - 0s 10ms/step - loss: 54.7431 - mae: 54.7431\n",
            "Epoch 19/20\n",
            "4/4 [==============================] - 0s 9ms/step - loss: 55.8710 - mae: 55.8710\n",
            "Epoch 20/20\n",
            "4/4 [==============================] - 0s 9ms/step - loss: 51.1551 - mae: 51.1551\n"
          ]
        }
      ]
    },
    {
      "cell_type": "code",
      "source": [
        "predictionsASDR = modelASDR.predict(samplesASDRtest)"
      ],
      "metadata": {
        "colab": {
          "base_uri": "https://localhost:8080/"
        },
        "id": "fyI3LAqlIhhY",
        "outputId": "2ed7406c-9aff-40ff-b245-c9d0c1bbb3f5"
      },
      "execution_count": 146,
      "outputs": [
        {
          "output_type": "stream",
          "name": "stdout",
          "text": [
            "4/4 [==============================] - 0s 4ms/step\n"
          ]
        }
      ]
    },
    {
      "cell_type": "code",
      "source": [
        "predictionslistASDR = predictionsASDR.tolist()\n",
        "predictionslistASDRflat = [item for sublist in predictionslistASDR for item in sublist]\n",
        "\n",
        "error_list_ASDR = []   #absolute waarde van de fout van predictie \n",
        "for error1, error2 in zip(predictionslistASDRflat, delaypiekASDRtest):\n",
        "  error_list_ASDR.append(round(abs(error1 - error2)))\n",
        "\n",
        "print(error_list_ASDR)\n",
        "print(predictionslistASDRflat)\n",
        "print(delaypiekASDRtest)\n",
        "#visualiseren error\n",
        "bar = plt.figure(1)\n",
        "plt.bar(np.arange(0, 100), error_list_ASDR)\n",
        "plt.ylim(0, 512)\n",
        "plt.show()\n"
      ],
      "metadata": {
        "colab": {
          "base_uri": "https://localhost:8080/",
          "height": 337
        },
        "id": "Rz1F3ox3FIg8",
        "outputId": "1149375c-cb3d-40ca-9a63-e684bf25fc8b"
      },
      "execution_count": 147,
      "outputs": [
        {
          "output_type": "stream",
          "name": "stdout",
          "text": [
            "[99, 46, 90, 13, 48, 90, 154, 75, 22, 114, 100, 121, 1, 121, 35, 223, 124, 54, 21, 56, 24, 209, 77, 97, 9, 41, 47, 195, 165, 64, 1, 39, 93, 72, 44, 24, 18, 120, 29, 122, 33, 8, 8, 7, 58, 1, 18, 36, 5, 41, 93, 66, 167, 42, 128, 9, 40, 36, 73, 12, 0, 128, 103, 33, 2, 116, 45, 129, 47, 52, 118, 91, 45, 187, 100, 96, 123, 47, 78, 20, 160, 134, 39, 23, 32, 30, 147, 64, 87, 39, 14, 43, 84, 127, 117, 174, 15, 209, 145, 47]\n",
            "[497.9231262207031, 651.6939697265625, 461.5903015136719, 611.549560546875, 607.0182495117188, 469.50653076171875, 717.3812866210938, 618.2510375976562, 581.676025390625, 428.0546875, 510.94891357421875, 688.7246704101562, 570.1364135742188, 452.94512939453125, 592.005126953125, 764.7855224609375, 483.3681945800781, 493.49517822265625, 565.8547973632812, 631.9396362304688, 565.2042846679688, 389.8118591308594, 684.82275390625, 501.10430908203125, 557.0731201171875, 506.3260803222656, 565.4789428710938, 760.3685913085938, 714.1625366210938, 612.6187744140625, 544.6979370117188, 540.6922607421875, 451.7318115234375, 651.9459228515625, 507.83203125, 636.1671142578125, 552.8748779296875, 673.9495849609375, 610.3287963867188, 489.1072082519531, 634.0006713867188, 565.4063720703125, 564.3938598632812, 616.4762573242188, 640.5848999023438, 591.3146362304688, 616.3257446289062, 588.6741943359375, 560.43603515625, 558.0142822265625, 651.6004028320312, 532.800048828125, 744.3756713867188, 612.2650146484375, 714.0787963867188, 578.4155883789062, 523.0086669921875, 539.2940063476562, 523.5117797851562, 555.5863037109375, 568.112548828125, 710.1525268554688, 644.7730712890625, 525.2135009765625, 549.505126953125, 699.3609008789062, 522.2979125976562, 466.5608215332031, 593.7824096679688, 541.3181762695312, 473.6463317871094, 699.0763549804688, 604.9022827148438, 360.8896789550781, 662.12939453125, 704.1703491210938, 681.5572509765625, 639.6506958007812, 640.26904296875, 588.7820434570312, 448.2264709472656, 689.7250366210938, 603.43701171875, 528.3565063476562, 551.20751953125, 599.4154052734375, 700.2498168945312, 652.7960815429688, 516.8568115234375, 607.3463134765625, 543.9439086914062, 636.1461791992188, 474.7534484863281, 461.2259216308594, 482.4776611328125, 779.6537475585938, 588.9466552734375, 796.994140625, 418.85516357421875, 552.9080810546875]\n",
            "[597, 606, 552, 599, 559, 560, 563, 543, 560, 542, 611, 568, 571, 574, 557, 542, 607, 547, 587, 576, 589, 599, 608, 598, 548, 547, 612, 565, 549, 549, 546, 580, 545, 580, 552, 612, 571, 554, 581, 611, 601, 557, 556, 609, 583, 590, 598, 553, 555, 599, 559, 599, 577, 570, 586, 587, 563, 575, 597, 544, 568, 582, 542, 558, 552, 583, 567, 596, 547, 593, 592, 608, 560, 548, 562, 608, 559, 593, 562, 569, 608, 556, 564, 551, 583, 569, 553, 589, 604, 568, 558, 593, 559, 588, 599, 606, 574, 588, 564, 600]\n"
          ]
        },
        {
          "output_type": "display_data",
          "data": {
            "text/plain": [
              "<Figure size 432x288 with 1 Axes>"
            ],
            "image/png": "[encoded data removed]"
          },
          "metadata": {
            "needs_background": "light"
          }
        }
      ]
    },
    {
      "cell_type": "markdown",
      "source": [
        "GAUSS MODEL"
      ],
      "metadata": {
        "id": "aweABBsuXCkZ"
      }
    },
    {
      "cell_type": "code",
      "source": [
        "#TENSOR Object maken voor x waarden NN training\n",
        "os.chdir(standaarddirectory)\n",
        "os.chdir(\"stud_train_combined_GAUSS\")\n",
        "\n",
        "samplesGAUSS = [np.load(f\"{x}GAUSS.npy\") for x in range(1, 101)]\n",
        "samplesGAUSS = tf.convert_to_tensor(samplesGAUSS)\n",
        "\n",
        "os.chdir(standaarddirectory)"
      ],
      "metadata": {
        "id": "bSgRvikiXBCK"
      },
      "execution_count": 21,
      "outputs": []
    },
    {
      "cell_type": "code",
      "source": [
        "#TENSOR Object maken voor x waarden NN testing\n",
        "os.chdir(standaarddirectory)\n",
        "os.chdir(\"stud_test_combined_GAUSS\")\n",
        "\n",
        "samplesGAUSStest = [np.load(f\"{x}GAUSS.npy\") for x in range(1, 101)]\n",
        "samplesGAUSStest = tf.convert_to_tensor(samplesGAUSStest)\n",
        "\n",
        "os.chdir(standaarddirectory)"
      ],
      "metadata": {
        "id": "j4Mn8oCaXBCL"
      },
      "execution_count": 22,
      "outputs": []
    },
    {
      "cell_type": "code",
      "source": [
        "#TENSOR object maken voor y waarden NN training\n",
        "delayGAUSS = pd.DataFrame(data = delaypiekGAUSS)\n",
        "delayGAUSS = tf.convert_to_tensor(delayGAUSS)"
      ],
      "metadata": {
        "id": "sUJsKroGXBCL"
      },
      "execution_count": 23,
      "outputs": []
    },
    {
      "cell_type": "code",
      "source": [
        "#Model aanmaken\n",
        "modelGAUSS = tf.keras.Sequential()\n",
        "modelGAUSS.add(layers.Dense(512, activation='relu', input_shape=(1024,)))\n",
        "modelGAUSS.add(layers.Dense(256, activation='relu'))\n",
        "modelGAUSS.add(layers.Dense(64, activation='relu'))\n",
        "modelGAUSS.add(layers.Dense(32, activation='relu'))\n",
        "modelGAUSS.add(layers.Dense(8, activation='relu'))\n",
        "modelGAUSS.add(layers.Dense(1))"
      ],
      "metadata": {
        "id": "tMfE6GGyXBCM"
      },
      "execution_count": 148,
      "outputs": []
    },
    {
      "cell_type": "code",
      "source": [
        "modelGAUSS.summary()"
      ],
      "metadata": {
        "colab": {
          "base_uri": "https://localhost:8080/"
        },
        "outputId": "16619611-7b00-4a6f-b96c-84c0d1079034",
        "id": "9HR1Ze7LXBCM"
      },
      "execution_count": 149,
      "outputs": [
        {
          "output_type": "stream",
          "name": "stdout",
          "text": [
            "Model: \"sequential_20\"\n",
            "_________________________________________________________________\n",
            " Layer (type)                Output Shape              Param #   \n",
            "=================================================================\n",
            " dense_117 (Dense)           (None, 512)               524800    \n",
            "                                                                 \n",
            " dense_118 (Dense)           (None, 256)               131328    \n",
            "                                                                 \n",
            " dense_119 (Dense)           (None, 64)                16448     \n",
            "                                                                 \n",
            " dense_120 (Dense)           (None, 32)                2080      \n",
            "                                                                 \n",
            " dense_121 (Dense)           (None, 8)                 264       \n",
            "                                                                 \n",
            " dense_122 (Dense)           (None, 1)                 9         \n",
            "                                                                 \n",
            "=================================================================\n",
            "Total params: 674,929\n",
            "Trainable params: 674,929\n",
            "Non-trainable params: 0\n",
            "_________________________________________________________________\n"
          ]
        }
      ]
    },
    {
      "cell_type": "code",
      "source": [
        "#Optimizer, loss function en metrics toevoegen aan model en compileren\n",
        "modelGAUSS.compile(optimizer='adam', loss='mae', metrics=['mae'])"
      ],
      "metadata": {
        "id": "AXDMVnMyXBCN"
      },
      "execution_count": 150,
      "outputs": []
    },
    {
      "cell_type": "code",
      "source": [
        "#Model Trainen\n",
        "history2 = modelGAUSS.fit(samplesGAUSS,\n",
        "                        delayGAUSS,\n",
        "                        epochs=20)"
      ],
      "metadata": {
        "colab": {
          "base_uri": "https://localhost:8080/"
        },
        "outputId": "f4e75012-0d88-4420-e01f-340333a02c7e",
        "id": "ubewVuKnXBCN"
      },
      "execution_count": 151,
      "outputs": [
        {
          "output_type": "stream",
          "name": "stdout",
          "text": [
            "Epoch 1/20\n",
            "4/4 [==============================] - 1s 9ms/step - loss: 574.0173 - mae: 574.0173\n",
            "Epoch 2/20\n",
            "4/4 [==============================] - 0s 9ms/step - loss: 536.2893 - mae: 536.2893\n",
            "Epoch 3/20\n",
            "4/4 [==============================] - 0s 10ms/step - loss: 430.4259 - mae: 430.4259\n",
            "Epoch 4/20\n",
            "4/4 [==============================] - 0s 9ms/step - loss: 190.2178 - mae: 190.2178\n",
            "Epoch 5/20\n",
            "4/4 [==============================] - 0s 11ms/step - loss: 121.7800 - mae: 121.7800\n",
            "Epoch 6/20\n",
            "4/4 [==============================] - 0s 9ms/step - loss: 40.7390 - mae: 40.7390\n",
            "Epoch 7/20\n",
            "4/4 [==============================] - 0s 9ms/step - loss: 57.4371 - mae: 57.4371\n",
            "Epoch 8/20\n",
            "4/4 [==============================] - 0s 9ms/step - loss: 55.9936 - mae: 55.9936\n",
            "Epoch 9/20\n",
            "4/4 [==============================] - 0s 9ms/step - loss: 27.8578 - mae: 27.8578\n",
            "Epoch 10/20\n",
            "4/4 [==============================] - 0s 11ms/step - loss: 27.8315 - mae: 27.8315\n",
            "Epoch 11/20\n",
            "4/4 [==============================] - 0s 8ms/step - loss: 23.7218 - mae: 23.7218\n",
            "Epoch 12/20\n",
            "4/4 [==============================] - 0s 9ms/step - loss: 40.0171 - mae: 40.0171\n",
            "Epoch 13/20\n",
            "4/4 [==============================] - 0s 9ms/step - loss: 22.2877 - mae: 22.2877\n",
            "Epoch 14/20\n",
            "4/4 [==============================] - 0s 8ms/step - loss: 18.5116 - mae: 18.5116\n",
            "Epoch 15/20\n",
            "4/4 [==============================] - 0s 9ms/step - loss: 20.7549 - mae: 20.7549\n",
            "Epoch 16/20\n",
            "4/4 [==============================] - 0s 9ms/step - loss: 15.6315 - mae: 15.6315\n",
            "Epoch 17/20\n",
            "4/4 [==============================] - 0s 10ms/step - loss: 14.1680 - mae: 14.1680\n",
            "Epoch 18/20\n",
            "4/4 [==============================] - 0s 8ms/step - loss: 10.6654 - mae: 10.6654\n",
            "Epoch 19/20\n",
            "4/4 [==============================] - 0s 9ms/step - loss: 10.6912 - mae: 10.6912\n",
            "Epoch 20/20\n",
            "4/4 [==============================] - 0s 8ms/step - loss: 9.8457 - mae: 9.8457\n"
          ]
        }
      ]
    },
    {
      "cell_type": "code",
      "source": [
        "predictionsGAUSS = modelGAUSS.predict(samplesGAUSStest)"
      ],
      "metadata": {
        "colab": {
          "base_uri": "https://localhost:8080/"
        },
        "outputId": "6d01232b-38d4-47c6-c9c8-eb418b227818",
        "id": "VzPdwjAsXBCO"
      },
      "execution_count": 152,
      "outputs": [
        {
          "output_type": "stream",
          "name": "stdout",
          "text": [
            "4/4 [==============================] - 0s 5ms/step\n"
          ]
        }
      ]
    },
    {
      "cell_type": "code",
      "source": [
        "predictionslistGAUSS = predictionsGAUSS.tolist()\n",
        "predictionslistGAUSSflat = [item for sublist in predictionslistGAUSS for item in sublist]\n",
        "\n",
        "error_list_GAUSS = []   #absolute waarde van de fout van predictie \n",
        "for error1, error2 in zip(predictionslistGAUSSflat, delaypiekGAUSStest):\n",
        "  error_list_GAUSS.append(round(abs(error1 - error2)))\n",
        "\n",
        "print(error_list_GAUSS)\n",
        "print(predictionslistGAUSSflat)\n",
        "print(delaypiekGAUSStest)\n",
        "#visualiseren error\n",
        "bar = plt.figure(2)\n",
        "plt.bar(np.arange(0, 100), error_list_GAUSS)\n",
        "plt.ylim(0, 512)\n",
        "plt.show()\n"
      ],
      "metadata": {
        "colab": {
          "base_uri": "https://localhost:8080/",
          "height": 337
        },
        "outputId": "4dc2e7b2-aa3e-4107-935b-f86310a699a8",
        "id": "txemQjxRXBCO"
      },
      "execution_count": 153,
      "outputs": [
        {
          "output_type": "stream",
          "name": "stdout",
          "text": [
            "[41, 2, 4, 11, 25, 11, 5, 12, 33, 15, 5, 8, 12, 1, 16, 1, 6, 2, 4, 7, 2, 4, 2, 36, 3, 14, 9, 27, 4, 1, 3, 34, 1, 36, 4, 4, 2, 20, 2, 27, 0, 18, 7, 12, 2, 13, 2, 89, 569, 14, 3, 29, 7, 31, 128, 4, 2, 3, 10, 4, 3, 27, 18, 34, 0, 2, 26, 9, 4, 13, 2, 11, 11, 27, 34, 5, 17, 0, 14, 11, 4, 14, 44, 6, 4, 28, 4, 27, 31, 31, 3, 37, 10, 19, 9, 2, 5, 19, 3, 19]\n",
            "[592.85400390625, 590.6166381835938, 549.1429443359375, 593.02490234375, 528.7376098632812, 566.6724243164062, 592.2919921875, 566.0829467773438, 578.2357788085938, 600.685302734375, 583.6779174804688, 567.4595336914062, 600.5030517578125, 604.1951293945312, 589.3495483398438, 589.4522094726562, 580.9907836914062, 546.3546142578125, 559.2014770507812, 602.3428955078125, 602.064208984375, 601.3801879882812, 565.34228515625, 595.25439453125, 561.3540649414062, 560.5036010742188, 591.7307739257812, 633.4827880859375, 602.7745361328125, 556.2977294921875, 542.3049926757812, 600.0852661132812, 602.9868774414062, 595.4631958007812, 586.7756958007812, 604.7427368164062, 598.7904052734375, 631.2621459960938, 606.4268188476562, 602.931396484375, 590.9093627929688, 591.4743041992188, 588.4990234375, 612.0957641601562, 597.1823120117188, 616.5100708007812, 559.3350219726562, 650.3887939453125, 1131.4576416015625, 612.8419189453125, 540.6375732421875, 588.91552734375, 597.5661010742188, 604.7088012695312, 739.2032470703125, 586.0689697265625, 597.8606567382812, 583.0830078125, 560.7466430664062, 575.0955200195312, 596.1529541015625, 622.799072265625, 552.0552978515625, 606.1600341796875, 564.9447631835938, 602.8477172851562, 615.3773803710938, 615.2708129882812, 593.2635498046875, 583.3815307617188, 590.3612060546875, 556.7979736328125, 575.7446899414062, 582.6538696289062, 613.9862670898438, 544.1675415039062, 581.8230590820312, 604.9466552734375, 610.6853637695312, 615.6046752929688, 602.851806640625, 581.2398681640625, 593.6580200195312, 589.7015380859375, 587.1676025390625, 586.7421264648438, 604.5541381835938, 516.3121337890625, 572.7991333007812, 608.73095703125, 544.9451293945312, 592.6871337890625, 601.7759399414062, 590.113525390625, 576.8200073242188, 601.5122680664062, 552.61279296875, 596.52001953125, 597.347412109375, 552.0184326171875]\n",
            "[552, 589, 553, 604, 554, 556, 597, 554, 611, 586, 579, 575, 589, 605, 605, 588, 587, 548, 555, 609, 604, 605, 563, 559, 558, 547, 601, 606, 607, 555, 545, 566, 604, 559, 583, 609, 597, 611, 608, 576, 591, 573, 595, 600, 599, 604, 557, 561, 562, 599, 544, 560, 605, 574, 611, 590, 596, 580, 551, 579, 599, 596, 570, 572, 565, 605, 589, 606, 597, 596, 592, 546, 565, 556, 580, 549, 565, 605, 597, 605, 607, 567, 550, 596, 591, 559, 609, 543, 542, 578, 542, 556, 612, 571, 586, 604, 548, 578, 594, 571]\n"
          ]
        },
        {
          "output_type": "display_data",
          "data": {
            "text/plain": [
              "<Figure size 432x288 with 1 Axes>"
            ],
            "image/png": "[encoded data removed]"
          },
          "metadata": {
            "needs_background": "light"
          }
        }
      ]
    },
    {
      "cell_type": "markdown",
      "source": [
        "SBOX MODEL"
      ],
      "metadata": {
        "id": "ZdlwXJpsX4M1"
      }
    },
    {
      "cell_type": "code",
      "source": [
        "#TENSOR Object maken voor x waarden NN training\n",
        "os.chdir(standaarddirectory)\n",
        "os.chdir(\"stud_train_combined_SBOX\")\n",
        "\n",
        "samplesSBOX = [np.load(f\"{x}SBOX.npy\") for x in range(1, 101)]\n",
        "samplesSBOX = tf.convert_to_tensor(samplesSBOX)\n",
        "\n",
        "os.chdir(standaarddirectory)"
      ],
      "metadata": {
        "id": "WRxsIlpLX2r5"
      },
      "execution_count": 30,
      "outputs": []
    },
    {
      "cell_type": "code",
      "source": [
        "#TENSOR Object maken voor x waarden NN testing\n",
        "os.chdir(standaarddirectory)\n",
        "os.chdir(\"stud_test_combined_SBOX\")\n",
        "\n",
        "samplesSBOXtest = [np.load(f\"{x}SBOX.npy\") for x in range(1, 101)]\n",
        "samplesSBOXtest = tf.convert_to_tensor(samplesSBOXtest)\n",
        "\n",
        "os.chdir(standaarddirectory)"
      ],
      "metadata": {
        "id": "WoiOowg-X2r6"
      },
      "execution_count": 31,
      "outputs": []
    },
    {
      "cell_type": "code",
      "source": [
        "#TENSOR object maken voor y waarden NN training\n",
        "delaySBOX = pd.DataFrame(data = delaypiekSBOX)\n",
        "delaySBOX = tf.convert_to_tensor(delaySBOX)"
      ],
      "metadata": {
        "id": "hEbSrizMX2r6"
      },
      "execution_count": 32,
      "outputs": []
    },
    {
      "cell_type": "code",
      "source": [
        "#Model aanmaken\n",
        "modelSBOX = tf.keras.Sequential()\n",
        "modelSBOX.add(layers.Dense(512, activation='relu', input_shape=(1024,)))\n",
        "modelSBOX.add(layers.Dense(256, activation='relu'))\n",
        "modelSBOX.add(layers.Dense(64, activation='relu'))\n",
        "modelSBOX.add(layers.Dense(8, activation='relu'))\n",
        "modelSBOX.add(layers.Dense(1))"
      ],
      "metadata": {
        "id": "WyM-lYyiX2r7"
      },
      "execution_count": 33,
      "outputs": []
    },
    {
      "cell_type": "code",
      "source": [
        "modelSBOX.summary()"
      ],
      "metadata": {
        "colab": {
          "base_uri": "https://localhost:8080/"
        },
        "outputId": "0ab637e6-1bd8-45a4-97c1-2a69c4ad3d4c",
        "id": "5kFzPUSVX2r7"
      },
      "execution_count": 34,
      "outputs": [
        {
          "output_type": "stream",
          "name": "stdout",
          "text": [
            "Model: \"sequential_2\"\n",
            "_________________________________________________________________\n",
            " Layer (type)                Output Shape              Param #   \n",
            "=================================================================\n",
            " dense_10 (Dense)            (None, 512)               524800    \n",
            "                                                                 \n",
            " dense_11 (Dense)            (None, 256)               131328    \n",
            "                                                                 \n",
            " dense_12 (Dense)            (None, 64)                16448     \n",
            "                                                                 \n",
            " dense_13 (Dense)            (None, 8)                 520       \n",
            "                                                                 \n",
            " dense_14 (Dense)            (None, 1)                 9         \n",
            "                                                                 \n",
            "=================================================================\n",
            "Total params: 673,105\n",
            "Trainable params: 673,105\n",
            "Non-trainable params: 0\n",
            "_________________________________________________________________\n"
          ]
        }
      ]
    },
    {
      "cell_type": "code",
      "source": [
        "#Optimizer, loss function en metrics toevoegen aan model en compileren\n",
        "modelSBOX.compile(optimizer='adam', loss='mae', metrics=['mae'])"
      ],
      "metadata": {
        "id": "bXw5hevoX2r8"
      },
      "execution_count": 35,
      "outputs": []
    },
    {
      "cell_type": "code",
      "source": [
        "#Model Trainen\n",
        "history3 = modelSBOX.fit(samplesSBOX,\n",
        "                        delaySBOX,\n",
        "                        epochs=20)"
      ],
      "metadata": {
        "colab": {
          "base_uri": "https://localhost:8080/"
        },
        "outputId": "b9c14f2c-b7b8-43fe-d4f2-d5436af85f8e",
        "id": "WB1QgES9X2r8"
      },
      "execution_count": 36,
      "outputs": [
        {
          "output_type": "stream",
          "name": "stdout",
          "text": [
            "Epoch 1/20\n",
            "4/4 [==============================] - 1s 12ms/step - loss: 580.8467 - mae: 580.8467\n",
            "Epoch 2/20\n",
            "4/4 [==============================] - 0s 9ms/step - loss: 576.2118 - mae: 576.2118\n",
            "Epoch 3/20\n",
            "4/4 [==============================] - 0s 9ms/step - loss: 564.5517 - mae: 564.5517\n",
            "Epoch 4/20\n",
            "4/4 [==============================] - 0s 9ms/step - loss: 539.2593 - mae: 539.2593\n",
            "Epoch 5/20\n",
            "4/4 [==============================] - 0s 8ms/step - loss: 491.7034 - mae: 491.7034\n",
            "Epoch 6/20\n",
            "4/4 [==============================] - 0s 8ms/step - loss: 405.3795 - mae: 405.3795\n",
            "Epoch 7/20\n",
            "4/4 [==============================] - 0s 9ms/step - loss: 264.1714 - mae: 264.1714\n",
            "Epoch 8/20\n",
            "4/4 [==============================] - 0s 8ms/step - loss: 88.6293 - mae: 88.6293\n",
            "Epoch 9/20\n",
            "4/4 [==============================] - 0s 8ms/step - loss: 138.9597 - mae: 138.9597\n",
            "Epoch 10/20\n",
            "4/4 [==============================] - 0s 14ms/step - loss: 85.2798 - mae: 85.2798\n",
            "Epoch 11/20\n",
            "4/4 [==============================] - 0s 8ms/step - loss: 74.1063 - mae: 74.1063\n",
            "Epoch 12/20\n",
            "4/4 [==============================] - 0s 8ms/step - loss: 75.5291 - mae: 75.5291\n",
            "Epoch 13/20\n",
            "4/4 [==============================] - 0s 8ms/step - loss: 63.1317 - mae: 63.1317\n",
            "Epoch 14/20\n",
            "4/4 [==============================] - 0s 9ms/step - loss: 58.8260 - mae: 58.8260\n",
            "Epoch 15/20\n",
            "4/4 [==============================] - 0s 9ms/step - loss: 56.8361 - mae: 56.8361\n",
            "Epoch 16/20\n",
            "4/4 [==============================] - 0s 10ms/step - loss: 52.8928 - mae: 52.8928\n",
            "Epoch 17/20\n",
            "4/4 [==============================] - 0s 9ms/step - loss: 51.5100 - mae: 51.5100\n",
            "Epoch 18/20\n",
            "4/4 [==============================] - 0s 8ms/step - loss: 48.4760 - mae: 48.4760\n",
            "Epoch 19/20\n",
            "4/4 [==============================] - 0s 9ms/step - loss: 45.3175 - mae: 45.3175\n",
            "Epoch 20/20\n",
            "4/4 [==============================] - 0s 8ms/step - loss: 44.0562 - mae: 44.0562\n"
          ]
        }
      ]
    },
    {
      "cell_type": "code",
      "source": [
        "predictionsSBOX = modelSBOX.predict(samplesSBOXtest)"
      ],
      "metadata": {
        "colab": {
          "base_uri": "https://localhost:8080/"
        },
        "outputId": "c946d4c1-c732-46ae-9c23-af67a0e7aa4c",
        "id": "eHYnazX3X2r8"
      },
      "execution_count": 37,
      "outputs": [
        {
          "output_type": "stream",
          "name": "stdout",
          "text": [
            "4/4 [==============================] - 0s 4ms/step\n"
          ]
        }
      ]
    },
    {
      "cell_type": "code",
      "source": [
        "predictionslistSBOX = predictionsSBOX.tolist()\n",
        "predictionslistSBOXflat = [item for sublist in predictionslistSBOX for item in sublist]\n",
        "\n",
        "error_list_SBOX = []   #absolute waarde van de fout van predictie \n",
        "for error1, error2 in zip(predictionslistSBOXflat, delaypiekSBOXtest):\n",
        "  error_list_SBOX.append(round(abs(error1 - error2)))\n",
        "\n",
        "print(error_list_SBOX)\n",
        "print(predictionslistSBOXflat)\n",
        "print(delaypiekSBOXtest)\n",
        "#visualiseren error\n",
        "bar = plt.figure(3)\n",
        "plt.bar(np.arange(0, 100), error_list_SBOX)\n",
        "plt.ylim(0, 512)\n",
        "plt.show()\n"
      ],
      "metadata": {
        "colab": {
          "base_uri": "https://localhost:8080/",
          "height": 337
        },
        "outputId": "4a591a9e-4964-4247-ca26-e2beb8f8f8ca",
        "id": "DJNqCyBjX2r8"
      },
      "execution_count": 38,
      "outputs": [
        {
          "output_type": "stream",
          "name": "stdout",
          "text": [
            "[59, 135, 11, 15, 111, 146, 98, 22, 77, 16, 95, 16, 49, 58, 39, 43, 85, 36, 73, 26, 70, 94, 34, 32, 63, 116, 2, 24, 51, 39, 35, 45, 55, 62, 32, 69, 53, 77, 0, 36, 87, 58, 26, 95, 11, 21, 9, 55, 38, 36, 37, 15, 59, 33, 13, 69, 138, 21, 49, 49, 20, 46, 5, 17, 58, 31, 17, 36, 59, 31, 19, 40, 19, 51, 29, 47, 35, 63, 11, 35, 11, 31, 7, 14, 53, 10, 43, 86, 83, 35, 65, 88, 5, 35, 48, 21, 22, 48, 64, 15]\n",
            "[641.6822509765625, 680.341064453125, 574.5376586914062, 533.1082153320312, 670.9737548828125, 694.6710815429688, 671.3783569335938, 578.4204711914062, 635.1826782226562, 567.0735473632812, 681.1510009765625, 602.5057373046875, 606.84423828125, 625.4973754882812, 552.3169555664062, 553.4160766601562, 627.4780883789062, 539.3361206054688, 631.3999633789062, 574.9536743164062, 537.8152465820312, 645.8220825195312, 586.3814086914062, 575.564697265625, 631.0289306640625, 662.9046630859375, 597.1792602539062, 556.159423828125, 558.8778686523438, 524.7240600585938, 577.7182006835938, 500.9439697265625, 606.9127807617188, 533.1430053710938, 539.0951538085938, 651.880615234375, 547.853515625, 619.2734985351562, 580.7296142578125, 584.5630493164062, 654.5538330078125, 638.6287231445312, 570.3534545898438, 648.4735717773438, 575.8264770507812, 560.2987670898438, 611.6878051757812, 541.9635620117188, 619.9985961914062, 624.1259155273438, 522.7119140625, 592.6985473632812, 522.7176513671875, 593.0385131835938, 572.6751708984375, 489.9292297363281, 689.1123046875, 596.5694580078125, 494.0685119628906, 657.2184448242188, 596.7742919921875, 607.990966796875, 602.2964477539062, 565.8450927734375, 518.4332885742188, 577.1619262695312, 609.7808227539062, 594.1204223632812, 623.4916381835938, 558.4782104492188, 564.0971069335938, 584.2604370117188, 626.0748901367188, 630.0222778320312, 604.310546875, 608.3265991210938, 552.2269897460938, 534.4445190429688, 579.4396362304688, 622.2588500976562, 603.8347778320312, 560.4589233398438, 593.7351684570312, 532.412353515625, 620.3078002929688, 567.5546875, 508.42694091796875, 663.2539672851562, 674.9662475585938, 628.8624877929688, 654.8516235351562, 521.536376953125, 556.8933715820312, 563.4855346679688, 519.3414306640625, 567.5628662109375, 537.3880615234375, 511.46044921875, 636.2913208007812, 620.4041748046875]\n",
            "[583, 545, 586, 548, 560, 549, 573, 556, 558, 583, 586, 587, 558, 567, 591, 596, 542, 575, 558, 549, 608, 552, 552, 544, 568, 547, 595, 580, 610, 564, 543, 546, 552, 595, 571, 583, 601, 542, 581, 549, 568, 581, 596, 553, 587, 581, 603, 597, 582, 588, 560, 578, 582, 560, 586, 559, 551, 576, 543, 608, 577, 562, 607, 583, 576, 608, 593, 558, 564, 589, 583, 544, 607, 579, 575, 561, 587, 597, 568, 587, 593, 591, 587, 546, 567, 558, 551, 577, 592, 594, 590, 610, 552, 598, 567, 589, 559, 559, 572, 605]\n"
          ]
        },
        {
          "output_type": "display_data",
          "data": {
            "text/plain": [
              "<Figure size 432x288 with 1 Axes>"
            ],
            "image/png": "[encoded data removed]"
          },
          "metadata": {
            "needs_background": "light"
          }
        }
      ]
    },
    {
      "cell_type": "markdown",
      "source": [
        "MODEL VOOR ALLE DRIE DE SIGNALEN"
      ],
      "metadata": {
        "id": "UfCqTpDTYfPK"
      }
    },
    {
      "cell_type": "code",
      "source": [
        "#TENSOR VAN 300X1024\n",
        "samplestotal = tf.concat([samplesASDR, tf.concat([samplesGAUSS, samplesSBOX], axis=0)], axis=0)\n",
        "samplestotaltest = tf.concat([samplesASDRtest, tf.concat([samplesGAUSStest, samplesSBOXtest], axis=0)], axis=0)\n",
        "delaytotal = tf.concat([delayASDR, tf.concat([delayGAUSS, delaySBOX], axis=0)], axis=0)\n"
      ],
      "metadata": {
        "id": "HK64A3McZzLu"
      },
      "execution_count": 39,
      "outputs": []
    },
    {
      "cell_type": "code",
      "source": [
        "#Model aanmaken\n",
        "modeltotal = tf.keras.Sequential()\n",
        "modeltotal.add(layers.Dense(512, activation='relu', input_shape=(1024,)))\n",
        "modeltotal.add(layers.Dense(256, activation='relu'))\n",
        "modeltotal.add(layers.Dense(64, activation='relu'))\n",
        "modeltotal.add(layers.Dense(8, activation='relu'))\n",
        "modeltotal.add(layers.Dense(1))"
      ],
      "metadata": {
        "id": "cf7VfJk-axqc"
      },
      "execution_count": 40,
      "outputs": []
    },
    {
      "cell_type": "code",
      "source": [
        "modeltotal.summary()"
      ],
      "metadata": {
        "colab": {
          "base_uri": "https://localhost:8080/"
        },
        "id": "CX_0LyMdbNDG",
        "outputId": "4ba94032-4849-49f8-b956-d70873bc8175"
      },
      "execution_count": 41,
      "outputs": [
        {
          "output_type": "stream",
          "name": "stdout",
          "text": [
            "Model: \"sequential_3\"\n",
            "_________________________________________________________________\n",
            " Layer (type)                Output Shape              Param #   \n",
            "=================================================================\n",
            " dense_15 (Dense)            (None, 512)               524800    \n",
            "                                                                 \n",
            " dense_16 (Dense)            (None, 256)               131328    \n",
            "                                                                 \n",
            " dense_17 (Dense)            (None, 64)                16448     \n",
            "                                                                 \n",
            " dense_18 (Dense)            (None, 8)                 520       \n",
            "                                                                 \n",
            " dense_19 (Dense)            (None, 1)                 9         \n",
            "                                                                 \n",
            "=================================================================\n",
            "Total params: 673,105\n",
            "Trainable params: 673,105\n",
            "Non-trainable params: 0\n",
            "_________________________________________________________________\n"
          ]
        }
      ]
    },
    {
      "cell_type": "code",
      "source": [
        "#Optimizer, loss function en metrics toevoegen aan model en compileren\n",
        "modeltotal.compile(optimizer='adam', loss='mae', metrics=['mae'])"
      ],
      "metadata": {
        "id": "ZVbGfx-dbSlk"
      },
      "execution_count": 42,
      "outputs": []
    },
    {
      "cell_type": "code",
      "source": [
        "#Model Trainen\n",
        "history4 = modelSBOX.fit(samplestotal,\n",
        "                        delaytotal,\n",
        "                        epochs=50)"
      ],
      "metadata": {
        "colab": {
          "base_uri": "https://localhost:8080/"
        },
        "id": "9wgBPe50bUbi",
        "outputId": "11d9bd8e-92fd-4d44-9aa8-d4964d894db0"
      },
      "execution_count": 43,
      "outputs": [
        {
          "output_type": "stream",
          "name": "stdout",
          "text": [
            "Epoch 1/50\n",
            "10/10 [==============================] - 0s 8ms/step - loss: 400.6962 - mae: 400.6962\n",
            "Epoch 2/50\n",
            "10/10 [==============================] - 0s 10ms/step - loss: 321.7882 - mae: 321.7882\n",
            "Epoch 3/50\n",
            "10/10 [==============================] - 0s 10ms/step - loss: 291.9877 - mae: 291.9877\n",
            "Epoch 4/50\n",
            "10/10 [==============================] - 0s 9ms/step - loss: 283.9713 - mae: 283.9713\n",
            "Epoch 5/50\n",
            "10/10 [==============================] - 0s 10ms/step - loss: 278.3263 - mae: 278.3263\n",
            "Epoch 6/50\n",
            "10/10 [==============================] - 0s 9ms/step - loss: 274.6407 - mae: 274.6407\n",
            "Epoch 7/50\n",
            "10/10 [==============================] - 0s 8ms/step - loss: 266.8085 - mae: 266.8085\n",
            "Epoch 8/50\n",
            "10/10 [==============================] - 0s 9ms/step - loss: 260.2737 - mae: 260.2737\n",
            "Epoch 9/50\n",
            "10/10 [==============================] - 0s 8ms/step - loss: 245.4943 - mae: 245.4943\n",
            "Epoch 10/50\n",
            "10/10 [==============================] - 0s 8ms/step - loss: 238.4851 - mae: 238.4851\n",
            "Epoch 11/50\n",
            "10/10 [==============================] - 0s 9ms/step - loss: 241.9783 - mae: 241.9783\n",
            "Epoch 12/50\n",
            "10/10 [==============================] - 0s 11ms/step - loss: 226.8229 - mae: 226.8229\n",
            "Epoch 13/50\n",
            "10/10 [==============================] - 0s 8ms/step - loss: 216.2824 - mae: 216.2824\n",
            "Epoch 14/50\n",
            "10/10 [==============================] - 0s 9ms/step - loss: 219.4993 - mae: 219.4993\n",
            "Epoch 15/50\n",
            "10/10 [==============================] - 0s 8ms/step - loss: 206.5334 - mae: 206.5334\n",
            "Epoch 16/50\n",
            "10/10 [==============================] - 0s 9ms/step - loss: 208.0501 - mae: 208.0501\n",
            "Epoch 17/50\n",
            "10/10 [==============================] - 0s 10ms/step - loss: 193.2433 - mae: 193.2433\n",
            "Epoch 18/50\n",
            "10/10 [==============================] - 0s 10ms/step - loss: 187.3825 - mae: 187.3825\n",
            "Epoch 19/50\n",
            "10/10 [==============================] - 0s 8ms/step - loss: 185.7947 - mae: 185.7947\n",
            "Epoch 20/50\n",
            "10/10 [==============================] - 0s 8ms/step - loss: 178.8620 - mae: 178.8620\n",
            "Epoch 21/50\n",
            "10/10 [==============================] - 0s 9ms/step - loss: 172.7023 - mae: 172.7023\n",
            "Epoch 22/50\n",
            "10/10 [==============================] - 0s 9ms/step - loss: 168.5000 - mae: 168.5000\n",
            "Epoch 23/50\n",
            "10/10 [==============================] - 0s 9ms/step - loss: 166.1694 - mae: 166.1694\n",
            "Epoch 24/50\n",
            "10/10 [==============================] - 0s 9ms/step - loss: 160.1143 - mae: 160.1143\n",
            "Epoch 25/50\n",
            "10/10 [==============================] - 0s 9ms/step - loss: 152.9884 - mae: 152.9884\n",
            "Epoch 26/50\n",
            "10/10 [==============================] - 0s 8ms/step - loss: 147.8821 - mae: 147.8821\n",
            "Epoch 27/50\n",
            "10/10 [==============================] - 0s 9ms/step - loss: 148.2040 - mae: 148.2040\n",
            "Epoch 28/50\n",
            "10/10 [==============================] - 0s 9ms/step - loss: 143.7659 - mae: 143.7659\n",
            "Epoch 29/50\n",
            "10/10 [==============================] - 0s 9ms/step - loss: 143.6348 - mae: 143.6348\n",
            "Epoch 30/50\n",
            "10/10 [==============================] - 0s 9ms/step - loss: 134.9343 - mae: 134.9343\n",
            "Epoch 31/50\n",
            "10/10 [==============================] - 0s 9ms/step - loss: 128.3581 - mae: 128.3581\n",
            "Epoch 32/50\n",
            "10/10 [==============================] - 0s 8ms/step - loss: 128.7238 - mae: 128.7238\n",
            "Epoch 33/50\n",
            "10/10 [==============================] - 0s 9ms/step - loss: 124.0889 - mae: 124.0889\n",
            "Epoch 34/50\n",
            "10/10 [==============================] - 0s 8ms/step - loss: 124.0076 - mae: 124.0076\n",
            "Epoch 35/50\n",
            "10/10 [==============================] - 0s 8ms/step - loss: 119.0136 - mae: 119.0136\n",
            "Epoch 36/50\n",
            "10/10 [==============================] - 0s 9ms/step - loss: 123.4378 - mae: 123.4378\n",
            "Epoch 37/50\n",
            "10/10 [==============================] - 0s 9ms/step - loss: 112.5126 - mae: 112.5126\n",
            "Epoch 38/50\n",
            "10/10 [==============================] - 0s 8ms/step - loss: 110.8275 - mae: 110.8275\n",
            "Epoch 39/50\n",
            "10/10 [==============================] - 0s 8ms/step - loss: 104.1726 - mae: 104.1726\n",
            "Epoch 40/50\n",
            "10/10 [==============================] - 0s 8ms/step - loss: 107.9718 - mae: 107.9718\n",
            "Epoch 41/50\n",
            "10/10 [==============================] - 0s 8ms/step - loss: 95.8758 - mae: 95.8758\n",
            "Epoch 42/50\n",
            "10/10 [==============================] - 0s 8ms/step - loss: 96.1711 - mae: 96.1711\n",
            "Epoch 43/50\n",
            "10/10 [==============================] - 0s 9ms/step - loss: 91.0542 - mae: 91.0542\n",
            "Epoch 44/50\n",
            "10/10 [==============================] - 0s 10ms/step - loss: 89.6298 - mae: 89.6298\n",
            "Epoch 45/50\n",
            "10/10 [==============================] - 0s 8ms/step - loss: 88.7278 - mae: 88.7278\n",
            "Epoch 46/50\n",
            "10/10 [==============================] - 0s 8ms/step - loss: 90.2231 - mae: 90.2231\n",
            "Epoch 47/50\n",
            "10/10 [==============================] - 0s 8ms/step - loss: 84.2769 - mae: 84.2769\n",
            "Epoch 48/50\n",
            "10/10 [==============================] - 0s 8ms/step - loss: 77.0884 - mae: 77.0884\n",
            "Epoch 49/50\n",
            "10/10 [==============================] - 0s 9ms/step - loss: 72.4398 - mae: 72.4398\n",
            "Epoch 50/50\n",
            "10/10 [==============================] - 0s 8ms/step - loss: 67.4256 - mae: 67.4256\n"
          ]
        }
      ]
    },
    {
      "cell_type": "code",
      "source": [
        "predictionstotal = modeltotal.predict(samplestotaltest)"
      ],
      "metadata": {
        "colab": {
          "base_uri": "https://localhost:8080/"
        },
        "id": "u_GOQH8GbczI",
        "outputId": "90604ae2-297a-47db-c7f7-eb5e9e0c647c"
      },
      "execution_count": 44,
      "outputs": [
        {
          "output_type": "stream",
          "name": "stdout",
          "text": [
            "10/10 [==============================] - 0s 4ms/step\n"
          ]
        }
      ]
    },
    {
      "cell_type": "code",
      "source": [
        "predictionslisttotal = predictionstotal.tolist()\n",
        "predictionslisttotalflat = [item for sublist in predictionslisttotal for item in sublist]\n",
        "\n",
        "delaypiektotaltest = delaypiekASDRtest + delaypiekGAUSStest + delaypiekSBOXtest\n",
        "\n",
        "error_list_total = []   #absolute waarde van de fout van predictie \n",
        "for error1, error2 in zip(predictionslisttotalflat, delaypiektotaltest):\n",
        "  error_list_total.append(round(abs(error1 - error2)))\n",
        "\n",
        "print(error_list_total)\n",
        "print(predictionslisttotalflat)\n",
        "print(delaypiektotaltest)\n",
        "#visualiseren error\n",
        "bar = plt.figure(4)\n",
        "plt.bar(np.arange(0, 300), error_list_total)\n",
        "plt.ylim(0, 1024)\n",
        "plt.show()\n",
        "\n",
        "\n"
      ],
      "metadata": {
        "colab": {
          "base_uri": "https://localhost:8080/",
          "height": 337
        },
        "id": "3P9EX6WRbtKH",
        "outputId": "40c673a3-77e8-461b-faa0-3a042fc7208a"
      },
      "execution_count": 45,
      "outputs": [
        {
          "output_type": "stream",
          "name": "stdout",
          "text": [
            "[597, 606, 552, 599, 559, 560, 563, 543, 560, 542, 611, 568, 571, 574, 557, 542, 607, 547, 587, 576, 589, 599, 608, 598, 548, 547, 612, 565, 549, 549, 546, 580, 545, 580, 552, 612, 571, 554, 581, 611, 601, 557, 556, 609, 583, 590, 598, 553, 555, 599, 559, 599, 577, 570, 586, 587, 563, 575, 597, 544, 568, 582, 542, 558, 552, 583, 567, 596, 547, 593, 592, 608, 560, 548, 562, 608, 559, 593, 562, 569, 608, 556, 564, 551, 583, 569, 553, 589, 604, 568, 558, 593, 559, 588, 599, 606, 574, 588, 564, 600, 552, 589, 551, 605, 553, 556, 596, 553, 613, 587, 579, 573, 588, 605, 608, 589, 586, 548, 555, 609, 604, 604, 563, 559, 558, 546, 601, 606, 605, 552, 544, 566, 604, 558, 583, 609, 599, 609, 608, 576, 590, 573, 595, 601, 599, 603, 558, 560, 544, 602, 542, 560, 603, 573, 614, 590, 596, 580, 550, 577, 598, 590, 569, 571, 564, 604, 589, 607, 596, 597, 591, 547, 570, 556, 579, 547, 566, 605, 598, 605, 605, 567, 550, 595, 589, 559, 606, 542, 543, 578, 542, 556, 612, 571, 585, 605, 547, 576, 594, 570, 583, 545, 586, 547, 559, 548, 573, 556, 558, 583, 585, 587, 558, 567, 590, 596, 541, 574, 557, 548, 608, 551, 552, 543, 568, 546, 595, 580, 610, 563, 543, 546, 552, 595, 570, 582, 601, 542, 581, 548, 567, 581, 596, 553, 587, 581, 603, 597, 581, 588, 560, 578, 581, 560, 586, 558, 551, 576, 542, 608, 577, 562, 607, 583, 575, 608, 593, 557, 563, 589, 583, 543, 607, 579, 575, 561, 587, 597, 568, 587, 593, 591, 587, 545, 566, 558, 551, 577, 592, 594, 589, 610, 551, 598, 566, 589, 558, 559, 572, 605]\n",
            "[0.25342127680778503, 0.27940744161605835, 0.1372092366218567, -0.08163437247276306, -0.07705770432949066, -0.0459117516875267, -0.012394160032272339, 0.49969568848609924, 0.10398216545581818, 0.16545535624027252, -0.20361828804016113, 0.08058945834636688, 0.33333873748779297, -0.08229552209377289, 0.007020667195320129, 0.3246133029460907, 0.249458909034729, 0.015726670622825623, -0.024648919701576233, 0.09293302148580551, 0.20718930661678314, 0.22946697473526, 0.14565256237983704, -0.0935513824224472, 0.40747466683387756, 0.2052917778491974, -0.011749014258384705, 0.3754804730415344, -0.15649689733982086, 0.49880775809288025, 0.0327969491481781, -0.011680707335472107, 0.08639879524707794, 0.0110035240650177, 0.24494104087352753, -0.17322544753551483, -0.02339494228363037, -0.12478475272655487, 0.08274981379508972, -0.13405203819274902, 0.04793979227542877, 0.12920841574668884, -0.11891867220401764, -0.1548808217048645, 0.01468193531036377, -0.1401885747909546, 0.29187485575675964, 0.26965057849884033, 0.1861078143119812, 0.2965230941772461, -0.170913964509964, 0.2398875653743744, -0.16852088272571564, 0.33120274543762207, -0.017823591828346252, 0.1312330663204193, 0.03329889476299286, -0.06974036991596222, -0.02057711035013199, 0.3300771117210388, -0.06997577846050262, 0.31287360191345215, -0.21621805429458618, -0.10095430910587311, 0.06114956736564636, 0.33289971947669983, 0.2875882387161255, 0.3099287748336792, 0.3614826798439026, 0.3158540725708008, 0.3270947337150574, -0.01357199251651764, -0.004905104637145996, -0.07186904549598694, 0.2841528058052063, 0.12710942327976227, 0.3353172540664673, 0.09361830353736877, 0.01632024347782135, 0.12220060080289841, 0.19241571426391602, -0.09069545567035675, -0.05630470812320709, 0.3151678442955017, -0.05811747908592224, -0.03126806020736694, -0.14562317728996277, 0.33027327060699463, 0.3044930696487427, 0.24740956723690033, -0.08435925096273422, 0.2000129222869873, 0.09571956098079681, -0.018556833267211914, 0.04907682538032532, 0.1133570596575737, -0.0428013801574707, -0.007871482521295547, -0.0869915708899498, 0.19837404787540436, -0.045981526374816895, 0.24350804090499878, 1.6742334365844727, -0.7866204977035522, 1.4896934032440186, 0.34300696849823, 1.1458845138549805, 0.507274329662323, -2.2525649070739746, -0.5328514575958252, 0.10988271236419678, 1.5049641132354736, 0.6907392740249634, -0.283186674118042, -2.8135738372802734, -1.3270041942596436, 1.2593357563018799, -0.31812551617622375, 0.48292112350463867, 0.260628342628479, -0.3662167191505432, 0.6429005265235901, 0.16892588138580322, -0.08718264102935791, 0.10825532674789429, 1.3797601461410522, 0.2535797357559204, -0.492351770401001, 2.056734085083008, 2.5494117736816406, 0.58674556016922, -0.14585816860198975, -0.18115007877349854, 0.8929169178009033, 0.33079493045806885, 0.4279930889606476, -1.6843080520629883, 1.9936857223510742, -0.20625293254852295, -0.34773075580596924, 1.0363508462905884, -0.029462337493896484, 0.2994006872177124, -1.0746639966964722, -0.1350090503692627, 0.8072821497917175, -0.573410153388977, 1.3084521293640137, 17.97637939453125, -3.042651414871216, 1.8275490999221802, -0.285386860370636, 1.6422868967056274, 1.3459045886993408, -2.6023874282836914, 0.2503037452697754, 0.016610562801361084, 0.4317876696586609, 0.6161036491394043, 2.178844451904297, 1.2079907655715942, 5.576773166656494, 1.1197974681854248, 0.9169578552246094, 0.6693782210350037, 1.4639337062835693, -0.3218637704849243, -0.7567727565765381, 1.2464499473571777, -0.8801045417785645, 0.5168963670730591, -1.006752848625183, -5.005730628967285, -0.3808930516242981, 1.3313047885894775, 2.3276166915893555, -0.5398155450820923, -0.3872925639152527, -0.8037614822387695, 0.47449344396591187, 2.1869139671325684, 0.37275636196136475, -0.04630935192108154, 1.02464759349823, 1.917294979095459, -0.3881526589393616, 2.509166717529297, 1.0823495388031006, -0.5427423715591431, 0.3706398010253906, 0.02729107439517975, -0.1269972324371338, 0.010636210441589355, 0.03373003005981445, 1.2420711517333984, -0.5681204795837402, 0.786820113658905, 2.0109715461730957, 0.009518325328826904, 0.9231734275817871, 0.22403602302074432, 0.4286937117576599, 0.2297031730413437, 0.5495473146438599, 0.5555130243301392, 0.6558120250701904, 0.4947488009929657, 0.40256762504577637, 0.4025602638721466, 0.18905703723430634, 0.5312730073928833, 0.3256222605705261, 0.3839297592639923, 0.4603084325790405, 0.5378699898719788, 0.019967347383499146, 0.5206044912338257, 0.7046130895614624, 0.6068446636199951, 0.5007908940315247, 0.11859379708766937, 0.58913654088974, 0.4853946566581726, 0.5358140468597412, 0.40332821011543274, 0.5161200761795044, 0.29064518213272095, 0.234596848487854, 0.26529741287231445, 0.6024035811424255, 0.44415727257728577, 0.39132383465766907, 0.4566965103149414, 0.345496267080307, 0.669019341468811, 0.6469374895095825, 0.17291659116744995, 0.4686591327190399, 0.2844078838825226, 0.6218624114990234, 0.5618029832839966, 0.3049406111240387, 0.17884449660778046, 0.45472317934036255, 0.3063250184059143, 0.2224574089050293, 0.2743746042251587, 0.18883511424064636, 0.5752161145210266, 0.3713706135749817, 0.3631075620651245, 0.44859379529953003, 0.6401376724243164, 0.32304009795188904, 0.26063454151153564, 0.5404399037361145, 0.49166372418403625, 0.4332178235054016, 0.5723819732666016, 0.16672030091285706, 0.33450955152511597, 0.4949767589569092, 0.2069018930196762, 0.11484727263450623, 0.6631736159324646, 0.06367626786231995, 0.271071195602417, 0.5924535989761353, 0.5253108739852905, 0.06971317529678345, 0.41165849566459656, 0.5821331739425659, 0.3255012035369873, 0.4793596863746643, 0.4355317950248718, 0.4920969307422638, 0.24069355428218842, 0.08794428408145905, 0.3343140184879303, 0.30150553584098816, 0.16018375754356384, 0.42388683557510376, 0.33581098914146423, 0.531093418598175, 0.5058768391609192, 0.4684476852416992, 0.3692206144332886, 0.3973410427570343, 0.40738552808761597, 0.19469881057739258, 0.533214807510376, -0.021805524826049805, 0.5999543070793152, 0.1422818899154663, 0.5567623972892761, 0.18230277299880981, 0.5240507125854492, 0.3594008684158325, 0.38756462931632996, 0.1546255201101303]\n",
            "[597, 606, 552, 599, 559, 560, 563, 543, 560, 542, 611, 568, 571, 574, 557, 542, 607, 547, 587, 576, 589, 599, 608, 598, 548, 547, 612, 565, 549, 549, 546, 580, 545, 580, 552, 612, 571, 554, 581, 611, 601, 557, 556, 609, 583, 590, 598, 553, 555, 599, 559, 599, 577, 570, 586, 587, 563, 575, 597, 544, 568, 582, 542, 558, 552, 583, 567, 596, 547, 593, 592, 608, 560, 548, 562, 608, 559, 593, 562, 569, 608, 556, 564, 551, 583, 569, 553, 589, 604, 568, 558, 593, 559, 588, 599, 606, 574, 588, 564, 600, 552, 589, 553, 604, 554, 556, 597, 554, 611, 586, 579, 575, 589, 605, 605, 588, 587, 548, 555, 609, 604, 605, 563, 559, 558, 547, 601, 606, 607, 555, 545, 566, 604, 559, 583, 609, 597, 611, 608, 576, 591, 573, 595, 600, 599, 604, 557, 561, 562, 599, 544, 560, 605, 574, 611, 590, 596, 580, 551, 579, 599, 596, 570, 572, 565, 605, 589, 606, 597, 596, 592, 546, 565, 556, 580, 549, 565, 605, 597, 605, 607, 567, 550, 596, 591, 559, 609, 543, 542, 578, 542, 556, 612, 571, 586, 604, 548, 578, 594, 571, 583, 545, 586, 548, 560, 549, 573, 556, 558, 583, 586, 587, 558, 567, 591, 596, 542, 575, 558, 549, 608, 552, 552, 544, 568, 547, 595, 580, 610, 564, 543, 546, 552, 595, 571, 583, 601, 542, 581, 549, 568, 581, 596, 553, 587, 581, 603, 597, 582, 588, 560, 578, 582, 560, 586, 559, 551, 576, 543, 608, 577, 562, 607, 583, 576, 608, 593, 558, 564, 589, 583, 544, 607, 579, 575, 561, 587, 597, 568, 587, 593, 591, 587, 546, 567, 558, 551, 577, 592, 594, 590, 610, 552, 598, 567, 589, 559, 559, 572, 605]\n"
          ]
        },
        {
          "output_type": "display_data",
          "data": {
            "text/plain": [
              "<Figure size 432x288 with 1 Axes>"
            ],
            "image/png": "[encoded data removed]"
          },
          "metadata": {
            "needs_background": "light"
          }
        }
      ]
    },
    {
      "cell_type": "markdown",
      "source": [
        "https://stackoverflow.com/questions/59737875/keras-change-learning-rate "
      ],
      "metadata": {
        "id": "kxSNRQujiHo7"
      }
    }
  ]
}