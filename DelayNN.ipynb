{
  "nbformat": 4,
  "nbformat_minor": 0,
  "metadata": {
    "colab": {
      "provenance": [],
      "collapsed_sections": []
    },
    "kernelspec": {
      "name": "python3",
      "display_name": "Python 3"
    },
    "language_info": {
      "name": "python"
    }
  },
  "cells": [
    {
      "cell_type": "code",
      "execution_count": 211,
      "metadata": {
        "id": "a0_exOypAsUx"
      },
      "outputs": [],
      "source": [
        "#Imports\n",
        "import numpy as np\n",
        "import matplotlib.pyplot as plt\n",
        "import os\n",
        "import pandas as pd\n",
        "import natsort\n",
        "import re\n",
        "#We gebruiken de from ... import voor commando's die we veel gebruiken om repititie te verminderen \n",
        "from tensorflow.keras.models import Sequential\n",
        "from tensorflow.keras.layers import Dense\n",
        "from tensorflow.keras import layers\n",
        "from zipfile import ZipFile\n",
        "import tensorflow as tf"
      ]
    },
    {
      "cell_type": "markdown",
      "source": [
        "UPLOAD EERST DE DATA ZIP in COLAB, ANDERS KAN HET VOLGENDE BLOK CODE DEZE NIET UITPAKKEN"
      ],
      "metadata": {
        "id": "oN1PtXsL6tmU"
      }
    },
    {
      "cell_type": "code",
      "source": [
        "standaarddirectory = os.getcwd()                  #standaarddirectory van google colab opslaan zodat we altijd terug kunnen keren naar deze\n",
        "file_name = \"delay_dataset.zip\"                   \n",
        "if not os.path.exists(\"stud_train\"):              #Als de data nog niet uitgepakt is en deze folder dus nog niet bestaat, gaan we dit doen\n",
        "  with ZipFile(file_name,'r') as zipper:\n",
        "    zipper.extractall()\n",
        "    print(\"extractie data klaar\")\n",
        "\n",
        "if not os.path.exists(\"stud_train_combined_ASDR\"):    #Een folder waarin we de gecombineerde ASDR train signalen van 1024 samples zullen opslaan\n",
        "  os.makedirs(\"stud_train_combined_ASDR\")\n",
        "if not os.path.exists(\"stud_train_combined_GAUSS\"):   #Een folder waarin we de gecombineerde GAUSS train signalen van 1024 samples zullen opslaan\n",
        "  os.makedirs(\"stud_train_combined_GAUSS\")\n",
        "if not os.path.exists(\"stud_train_combined_SBOX\"):    #Een folder waarin we de gecombineerde SBOX train signalen van 1024 samples zullen opslaan\n",
        "  os.makedirs(\"stud_train_combined_SBOX\")\n",
        "\n",
        "if not os.path.exists(\"stud_test_combined_ASDR\"):    #Een folder waarin we de gecombineerde ASDR test signalen van 1024 samples zullen opslaan\n",
        "  os.makedirs(\"stud_test_combined_ASDR\")\n",
        "if not os.path.exists(\"stud_test_combined_GAUSS\"):   #Een folder waarin we de gecombineerde GAUSS test signalen van 1024 samples zullen opslaan\n",
        "  os.makedirs(\"stud_test_combined_GAUSS\")\n",
        "if not os.path.exists(\"stud_test_combined_SBOX\"):    #Een folder waarin we de gecombineerde SBOX test signalen van 1024 samples zullen opslaan\n",
        "  os.makedirs(\"stud_test_combined_SBOX\")"
      ],
      "metadata": {
        "id": "wNoaRK8yCcZ9"
      },
      "execution_count": 212,
      "outputs": []
    },
    {
      "cell_type": "code",
      "source": [
        "# variable declaration\n",
        "train_set = 'stud_train'\n",
        "test_set = 'stud_test'\n",
        "delaypiekASDR = []    #array met actuele delays tussen de pieken (validatiecijfers voor training)\n",
        "delaypiekGAUSS = []\n",
        "delaypiekSBOX = []\n",
        "delaypiekASDRtest = []    #array met actuele delays tussen de pieken (cijfers voor testing)\n",
        "delaypiekGAUSStest = []\n",
        "delaypiekSBOXtest = []"
      ],
      "metadata": {
        "id": "TkRDCfkQA0vF"
      },
      "execution_count": 213,
      "outputs": []
    },
    {
      "cell_type": "code",
      "source": [
        "#Geeft een array met strings weer waarin de namen van de files in die map staan\n",
        "def laadarraymetfilenamenuitmap(map):\n",
        "    filenames = os.listdir(map)  # array met alle filenames van in folder\n",
        "    filenames.sort()\n",
        "    return filenames"
      ],
      "metadata": {
        "id": "HlMfzklhA7La"
      },
      "execution_count": 214,
      "outputs": []
    },
    {
      "cell_type": "code",
      "source": [
        "#plot het signaal van een numpy array aan de hand van een megegeven signaalbestandsnaam\n",
        "#Functie werd enkel gebruikt in het begin, niet meer relevant op het einde\n",
        "def plotsignaal(signaal, evencheck, nummer, x = np.arange(0,512)): #signaal is naam bestand tussen aanhalingstekens\n",
        "    if evencheck % 2 == 0:\n",
        "        kleur = \"red\"         #paar van signalen respectievelijk rood en blauw weergeven zodat het verschil duidelijk is\n",
        "    else:\n",
        "        kleur = \"blue\"\n",
        "    plot = plt.figure(nummer)\n",
        "    plt.xlabel(\"X axis\")\n",
        "    plt.ylabel(\"Y axis\")\n",
        "    plt.plot(x,np.load(signaal), color=kleur)"
      ],
      "metadata": {
        "id": "y-1GWcDqA9eQ"
      },
      "execution_count": 215,
      "outputs": []
    },
    {
      "cell_type": "code",
      "source": [
        "#Geeft de waarde van de positie van die piek terug aan de hand van de bestandsnaam\n",
        "def geefpositiepiek(signaal):\n",
        "  truncatedsignaal = (signaal.split(\"P_\",1)[1]) #alles voor de xxx wegdoen dus BV ASDR_P_ wegdoen\n",
        "  piek = ''.join(x for x in truncatedsignaal[0:3] if x.isdigit()) \n",
        "  return piek"
      ],
      "metadata": {
        "id": "Qky7IDJIEWfr"
      },
      "execution_count": 216,
      "outputs": []
    },
    {
      "cell_type": "code",
      "source": [
        "#voegt de array van twee signalen samen om 1 vector van 1024 samples te bekomen\n",
        "def voegsamen(signaal1, signaal2):\n",
        "  return np.concatenate([np.load(signaal1), np.load(signaal2)])"
      ],
      "metadata": {
        "id": "SDrzjHGyYQYE"
      },
      "execution_count": 217,
      "outputs": []
    },
    {
      "cell_type": "code",
      "source": [
        "#wordt gebruikt om de lijst met de files te sorten op numerische orde ipv alfabetische orde om sortering van 0 1 10 11 ... 19 2 20 21 ... 29 3 30 31 etc te voorkomen maar 0 1 2 3 4 ... 99\n",
        "def atoi(text):\n",
        "    return int(text) if text.isdigit() else text\n",
        "\n",
        "def natural_keys(text):\n",
        "    return [ atoi(c) for c in re.split(r'(\\d+)', text) ]"
      ],
      "metadata": {
        "id": "xRZb5WOyC0UC"
      },
      "execution_count": 218,
      "outputs": []
    },
    {
      "cell_type": "code",
      "source": [
        "def combinedata(folder, dir, delayarray, typesignaal = \"\", testoftrain = \"\", aantalgrafiekenplotten = 0):\n",
        "  i = 0\n",
        "  nummer = 1\n",
        "  evencheck = 0\n",
        "  x = np.arange(0, 1024)\n",
        "  k = 0\n",
        "  for data in folder:\n",
        "    evencheck += 1\n",
        "    if k != 0 and evencheck % 2 == 0:\n",
        "      os.chdir(f\"stud_{testoftrain}\")\n",
        "      masterfile = voegsamen(previous, data)\n",
        "      os.chdir(standaarddirectory)\n",
        "\n",
        "      os.chdir(dir)\n",
        "      savename = f\"{nummer}{typesignaal}.npy\"\n",
        "      np.save(savename,masterfile)\n",
        "      os.chdir(standaarddirectory)\n",
        "      nummer += 1\n",
        "      delayarray.append(512-int(geefpositiepiek(previous))+int(geefpositiepiek(data)))\n",
        "\n",
        "      #plotten voor eerste paar grafieken, mooie visualisatie als controle\n",
        "      if evencheck < ((aantalgrafiekenplotten*2)+1):  #evencheck > aantal grafieken*2, max 41 vanwege memory limiet -> 20 grafieken, zet op 1 indien je geen grafieken wil zien\n",
        "        plot= plt.figure(nummer)\n",
        "        plt.plot(x,masterfile, color=\"red\")\n",
        "\n",
        "    k += 1\n",
        "    previous = data"
      ],
      "metadata": {
        "id": "5oEbfVnL4mUX"
      },
      "execution_count": 219,
      "outputs": []
    },
    {
      "cell_type": "markdown",
      "source": [
        "END OF FUNCTIONS"
      ],
      "metadata": {
        "id": "de6GAjWs9PuT"
      }
    },
    {
      "cell_type": "code",
      "source": [
        "#main\n",
        "#filenames inlezen\n",
        "filenames = laadarraymetfilenamenuitmap(train_set)\n",
        "filenamesASDR = filenames[0:200]\n",
        "filenamesGAUSS = filenames[200:400]\n",
        "filenamesSBOX = filenames[400:600]\n",
        "\n",
        "filenamestest = laadarraymetfilenamenuitmap(test_set)\n",
        "filenamesASDRtest = filenamestest[0:200]\n",
        "filenamesGAUSStest = filenamestest[200:400]\n",
        "filenamesSBOXtest = filenamestest[400:600]\n",
        "\n",
        "#sorteren\n",
        "filenamesASDR.sort(key=natural_keys)\n",
        "filenamesGAUSS.sort(key=natural_keys)\n",
        "filenamesSBOX.sort(key=natural_keys)\n",
        "filenamesASDRtest.sort(key=natural_keys)\n",
        "filenamesGAUSStest.sort(key=natural_keys)\n",
        "filenamesSBOXtest.sort(key=natural_keys)"
      ],
      "metadata": {
        "id": "LN-a76MlCbmP"
      },
      "execution_count": 220,
      "outputs": []
    },
    {
      "cell_type": "code",
      "source": [
        "os.chdir(standaarddirectory)\n",
        "combinedata(filenamesASDR, \"stud_train_combined_ASDR\", delaypiekASDR, \"ASDR\", \"train\")\n",
        "combinedata(filenamesGAUSS, \"stud_train_combined_GAUSS\", delaypiekGAUSS, \"GAUSS\", \"train\")\n",
        "combinedata(filenamesSBOX, \"stud_train_combined_SBOX\", delaypiekSBOX, \"SBOX\", \"train\")\n",
        "\n",
        "combinedata(filenamesASDRtest, \"stud_test_combined_ASDR\", delaypiekASDRtest, \"ASDR\", \"test\")\n",
        "combinedata(filenamesGAUSStest, \"stud_test_combined_GAUSS\", delaypiekGAUSStest, \"GAUSS\", \"test\")\n",
        "combinedata(filenamesSBOXtest, \"stud_test_combined_SBOX\", delaypiekSBOXtest, \"SBOX\", \"test\")"
      ],
      "metadata": {
        "id": "MI2zmrZkA_mK"
      },
      "execution_count": 221,
      "outputs": []
    },
    {
      "cell_type": "code",
      "source": [
        "#TENSOR Object maken voor x waarden NN training\n",
        "os.chdir(standaarddirectory)\n",
        "os.chdir(\"stud_train_combined_ASDR\")\n",
        "\n",
        "samplesASDR = [np.load(f\"{x}ASDR.npy\") for x in range(1, 101)]\n",
        "samplesASDR = tf.convert_to_tensor(samplesASDR)\n",
        "\n",
        "os.chdir(standaarddirectory)"
      ],
      "metadata": {
        "id": "pEB_ObxXCH-T"
      },
      "execution_count": 222,
      "outputs": []
    },
    {
      "cell_type": "code",
      "source": [
        "#TENSOR Object maken voor x waarden NN testing\n",
        "os.chdir(standaarddirectory)\n",
        "os.chdir(\"stud_test_combined_ASDR\")\n",
        "\n",
        "samplesASDRtest = [np.load(f\"{x}ASDR.npy\") for x in range(1, 101)]\n",
        "samplesASDRtest = tf.convert_to_tensor(samplesASDRtest)\n",
        "\n",
        "os.chdir(standaarddirectory)"
      ],
      "metadata": {
        "id": "sNnb4omUOH5I"
      },
      "execution_count": 223,
      "outputs": []
    },
    {
      "cell_type": "code",
      "source": [
        "#TENSOR object maken voor y waarden NN training\n",
        "delayASDR = pd.DataFrame(data = delaypiekASDR)\n",
        "delayASDR = tf.convert_to_tensor(delayASDR)"
      ],
      "metadata": {
        "id": "m_QkwX9CCIIk"
      },
      "execution_count": 224,
      "outputs": []
    },
    {
      "cell_type": "code",
      "source": [
        "#Model aanmaken\n",
        "modelASDR = tf.keras.Sequential()\n",
        "modelASDR.add(layers.Dense(512, activation='relu', input_shape=(1024,)))\n",
        "modelASDR.add(layers.Dense(256, activation='relu'))\n",
        "modelASDR.add(layers.Dense(64, activation='relu'))\n",
        "modelASDR.add(layers.Dense(8, activation='relu'))\n",
        "modelASDR.add(layers.Dense(1))"
      ],
      "metadata": {
        "id": "gkLGd0BvCMCF"
      },
      "execution_count": 225,
      "outputs": []
    },
    {
      "cell_type": "code",
      "source": [
        "modelASDR.summary()"
      ],
      "metadata": {
        "colab": {
          "base_uri": "https://localhost:8080/"
        },
        "id": "P2okS7ukMibe",
        "outputId": "97e74e4d-f458-4d02-d32b-482ca143a6ed"
      },
      "execution_count": 226,
      "outputs": [
        {
          "output_type": "stream",
          "name": "stdout",
          "text": [
            "Model: \"sequential_9\"\n",
            "_________________________________________________________________\n",
            " Layer (type)                Output Shape              Param #   \n",
            "=================================================================\n",
            " dense_45 (Dense)            (None, 512)               524800    \n",
            "                                                                 \n",
            " dense_46 (Dense)            (None, 256)               131328    \n",
            "                                                                 \n",
            " dense_47 (Dense)            (None, 64)                16448     \n",
            "                                                                 \n",
            " dense_48 (Dense)            (None, 8)                 520       \n",
            "                                                                 \n",
            " dense_49 (Dense)            (None, 1)                 9         \n",
            "                                                                 \n",
            "=================================================================\n",
            "Total params: 673,105\n",
            "Trainable params: 673,105\n",
            "Non-trainable params: 0\n",
            "_________________________________________________________________\n"
          ]
        }
      ]
    },
    {
      "cell_type": "code",
      "source": [
        "#Optimizer, loss function en metrics toevoegen aan model en compileren\n",
        "modelASDR.compile(optimizer='adam', loss='mae', metrics=['mae'])"
      ],
      "metadata": {
        "id": "xeUik51hMkFH"
      },
      "execution_count": 227,
      "outputs": []
    },
    {
      "cell_type": "code",
      "source": [
        "#Model Trainen\n",
        "history = modelASDR.fit(samplesASDR,\n",
        "                        delayASDR,\n",
        "                        epochs=20)"
      ],
      "metadata": {
        "colab": {
          "base_uri": "https://localhost:8080/"
        },
        "id": "BhY1P0svMmHa",
        "outputId": "4011389c-3751-47d4-9d1b-e1d7ad94a95e"
      },
      "execution_count": 228,
      "outputs": [
        {
          "output_type": "stream",
          "name": "stdout",
          "text": [
            "Epoch 1/20\n",
            "4/4 [==============================] - 1s 12ms/step - loss: 575.9672 - mae: 575.9672\n",
            "Epoch 2/20\n",
            "4/4 [==============================] - 0s 14ms/step - loss: 574.0468 - mae: 574.0468\n",
            "Epoch 3/20\n",
            "4/4 [==============================] - 0s 12ms/step - loss: 568.9058 - mae: 568.9058\n",
            "Epoch 4/20\n",
            "4/4 [==============================] - 0s 12ms/step - loss: 556.7255 - mae: 556.7255\n",
            "Epoch 5/20\n",
            "4/4 [==============================] - 0s 18ms/step - loss: 530.4521 - mae: 530.4521\n",
            "Epoch 6/20\n",
            "4/4 [==============================] - 0s 13ms/step - loss: 475.9617 - mae: 475.9617\n",
            "Epoch 7/20\n",
            "4/4 [==============================] - 0s 12ms/step - loss: 372.3934 - mae: 372.3934\n",
            "Epoch 8/20\n",
            "4/4 [==============================] - 0s 13ms/step - loss: 193.9824 - mae: 193.9824\n",
            "Epoch 9/20\n",
            "4/4 [==============================] - 0s 13ms/step - loss: 112.9060 - mae: 112.9060\n",
            "Epoch 10/20\n",
            "4/4 [==============================] - 0s 12ms/step - loss: 151.2928 - mae: 151.2928\n",
            "Epoch 11/20\n",
            "4/4 [==============================] - 0s 13ms/step - loss: 69.0302 - mae: 69.0302\n",
            "Epoch 12/20\n",
            "4/4 [==============================] - 0s 13ms/step - loss: 90.9449 - mae: 90.9449\n",
            "Epoch 13/20\n",
            "4/4 [==============================] - 0s 12ms/step - loss: 76.4827 - mae: 76.4827\n",
            "Epoch 14/20\n",
            "4/4 [==============================] - 0s 12ms/step - loss: 63.8785 - mae: 63.8785\n",
            "Epoch 15/20\n",
            "4/4 [==============================] - 0s 13ms/step - loss: 66.6929 - mae: 66.6929\n",
            "Epoch 16/20\n",
            "4/4 [==============================] - 0s 13ms/step - loss: 63.6008 - mae: 63.6008\n",
            "Epoch 17/20\n",
            "4/4 [==============================] - 0s 16ms/step - loss: 61.2131 - mae: 61.2131\n",
            "Epoch 18/20\n",
            "4/4 [==============================] - 0s 14ms/step - loss: 62.7063 - mae: 62.7063\n",
            "Epoch 19/20\n",
            "4/4 [==============================] - 0s 12ms/step - loss: 59.9994 - mae: 59.9994\n",
            "Epoch 20/20\n",
            "4/4 [==============================] - 0s 12ms/step - loss: 60.0682 - mae: 60.0682\n"
          ]
        }
      ]
    },
    {
      "cell_type": "code",
      "source": [
        "predictionsASDR = modelASDR.predict(samplesASDRtest)"
      ],
      "metadata": {
        "colab": {
          "base_uri": "https://localhost:8080/"
        },
        "id": "fyI3LAqlIhhY",
        "outputId": "1c1d77b1-1082-4b7d-dd95-5e79a2c40783"
      },
      "execution_count": 229,
      "outputs": [
        {
          "output_type": "stream",
          "name": "stdout",
          "text": [
            "4/4 [==============================] - 0s 7ms/step\n"
          ]
        }
      ]
    },
    {
      "cell_type": "code",
      "source": [
        "predictionslistASDR = predictionsASDR.tolist()\n",
        "predictionslistASDRflat = [item for sublist in predictionslistASDR for item in sublist]\n",
        "\n",
        "error_list_ASDR = []   #absolute waarde van de fout van predictie \n",
        "for error1, error2 in zip(predictionslistASDRflat, delaypiekASDRtest):\n",
        "  error_list_ASDR.append(round(abs(error1 - error2)))\n",
        "\n",
        "print(error_list_ASDR)\n",
        "print(predictionslistASDRflat)\n",
        "print(delaypiekASDRtest)\n",
        "#visualiseren error\n",
        "bar = plt.figure(1)\n",
        "plt.bar(np.arange(0, 100), error_list_ASDR)\n",
        "plt.ylim(0, 512)\n",
        "plt.show()\n"
      ],
      "metadata": {
        "colab": {
          "base_uri": "https://localhost:8080/",
          "height": 337
        },
        "id": "Rz1F3ox3FIg8",
        "outputId": "5d132fcf-ef34-4909-a881-d75ce28813e4"
      },
      "execution_count": 230,
      "outputs": [
        {
          "output_type": "stream",
          "name": "stdout",
          "text": [
            "[110, 28, 73, 25, 38, 61, 159, 58, 5, 85, 88, 91, 16, 153, 52, 202, 129, 18, 27, 71, 34, 205, 53, 123, 3, 36, 71, 172, 147, 42, 32, 42, 64, 59, 45, 20, 30, 85, 42, 115, 14, 9, 0, 35, 77, 24, 16, 38, 40, 38, 79, 51, 151, 21, 153, 30, 54, 47, 94, 23, 11, 144, 95, 47, 5, 126, 30, 134, 22, 48, 116, 86, 46, 170, 91, 65, 123, 30, 88, 1, 156, 106, 26, 48, 77, 68, 135, 60, 75, 14, 17, 7, 77, 131, 112, 147, 39, 176, 167, 41]\n",
            "[487.1886901855469, 633.9544677734375, 479.2278747558594, 624.2672119140625, 596.7825927734375, 498.67657470703125, 722.4243774414062, 601.31787109375, 565.1651000976562, 457.2361145019531, 523.2810668945312, 659.3826904296875, 554.5609741210938, 420.6766052246094, 609.0721435546875, 744.3640747070312, 478.4376220703125, 528.535888671875, 560.0279541015625, 647.433349609375, 554.6103515625, 393.98028564453125, 660.5733642578125, 474.6591491699219, 551.1536865234375, 511.4915771484375, 540.6839599609375, 736.7825927734375, 695.896240234375, 591.1578979492188, 577.70458984375, 538.3864135742188, 481.2107849121094, 638.8671875, 507.1410827636719, 631.6489868164062, 541.3143310546875, 639.3104248046875, 623.3678588867188, 496.0660705566406, 614.6390380859375, 565.7927856445312, 556.3433837890625, 573.6943969726562, 660.182861328125, 565.5907592773438, 614.3448486328125, 591.120849609375, 594.6889038085938, 560.8475341796875, 637.5651245117188, 547.6485595703125, 727.5267944335938, 591.2283325195312, 738.7594604492188, 557.1233520507812, 508.9617919921875, 527.5020751953125, 502.55670166015625, 566.8977661132812, 556.5949096679688, 725.920654296875, 637.0242919921875, 511.0474853515625, 556.7512817382812, 709.1536254882812, 537.4176025390625, 461.60546875, 569.4904174804688, 545.015380859375, 476.3984069824219, 694.1854248046875, 605.6240234375, 378.28228759765625, 652.7333984375, 673.0601806640625, 682.3450927734375, 622.5511474609375, 650.3367309570312, 567.5850830078125, 452.08074951171875, 662.1856079101562, 590.218505859375, 503.47613525390625, 505.59124755859375, 637.3324584960938, 687.8870849609375, 648.6238403320312, 528.7411499023438, 582.4177856445312, 541.0247802734375, 586.3828125, 482.1528625488281, 456.5005798339844, 487.01483154296875, 752.6949462890625, 612.9456787109375, 764.2032470703125, 396.7138671875, 559.2819213867188]\n",
            "[597, 606, 552, 599, 559, 560, 563, 543, 560, 542, 611, 568, 571, 574, 557, 542, 607, 547, 587, 576, 589, 599, 608, 598, 548, 547, 612, 565, 549, 549, 546, 580, 545, 580, 552, 612, 571, 554, 581, 611, 601, 557, 556, 609, 583, 590, 598, 553, 555, 599, 559, 599, 577, 570, 586, 587, 563, 575, 597, 544, 568, 582, 542, 558, 552, 583, 567, 596, 547, 593, 592, 608, 560, 548, 562, 608, 559, 593, 562, 569, 608, 556, 564, 551, 583, 569, 553, 589, 604, 568, 558, 593, 559, 588, 599, 606, 574, 588, 564, 600]\n"
          ]
        },
        {
          "output_type": "display_data",
          "data": {
            "text/plain": [
              "<Figure size 432x288 with 1 Axes>"
            ],
            "image/png": "[encoded data removed]"
          },
          "metadata": {
            "needs_background": "light"
          }
        }
      ]
    },
    {
      "cell_type": "markdown",
      "source": [
        "GAUSS MODEL"
      ],
      "metadata": {
        "id": "aweABBsuXCkZ"
      }
    },
    {
      "cell_type": "code",
      "source": [
        "#TENSOR Object maken voor x waarden NN training\n",
        "os.chdir(standaarddirectory)\n",
        "os.chdir(\"stud_train_combined_GAUSS\")\n",
        "\n",
        "samplesGAUSS = [np.load(f\"{x}GAUSS.npy\") for x in range(1, 101)]\n",
        "samplesGAUSS = tf.convert_to_tensor(samplesGAUSS)\n",
        "\n",
        "os.chdir(standaarddirectory)"
      ],
      "metadata": {
        "id": "bSgRvikiXBCK"
      },
      "execution_count": 231,
      "outputs": []
    },
    {
      "cell_type": "code",
      "source": [
        "#TENSOR Object maken voor x waarden NN testing\n",
        "os.chdir(standaarddirectory)\n",
        "os.chdir(\"stud_test_combined_GAUSS\")\n",
        "\n",
        "samplesGAUSStest = [np.load(f\"{x}GAUSS.npy\") for x in range(1, 101)]\n",
        "samplesGAUSStest = tf.convert_to_tensor(samplesGAUSStest)\n",
        "\n",
        "os.chdir(standaarddirectory)"
      ],
      "metadata": {
        "id": "j4Mn8oCaXBCL"
      },
      "execution_count": 232,
      "outputs": []
    },
    {
      "cell_type": "code",
      "source": [
        "#TENSOR object maken voor y waarden NN training\n",
        "delayGAUSS = pd.DataFrame(data = delaypiekGAUSS)\n",
        "delayGAUSS = tf.convert_to_tensor(delayGAUSS)"
      ],
      "metadata": {
        "id": "sUJsKroGXBCL"
      },
      "execution_count": 233,
      "outputs": []
    },
    {
      "cell_type": "code",
      "source": [
        "#Model aanmaken\n",
        "modelGAUSS = tf.keras.Sequential()\n",
        "modelGAUSS.add(layers.Dense(512, activation='relu', input_shape=(1024,)))\n",
        "modelGAUSS.add(layers.Dense(256, activation='relu'))\n",
        "modelGAUSS.add(layers.Dense(64, activation='relu'))\n",
        "modelGAUSS.add(layers.Dense(8, activation='relu'))\n",
        "modelGAUSS.add(layers.Dense(1))"
      ],
      "metadata": {
        "id": "tMfE6GGyXBCM"
      },
      "execution_count": 234,
      "outputs": []
    },
    {
      "cell_type": "code",
      "source": [
        "modelGAUSS.summary()"
      ],
      "metadata": {
        "colab": {
          "base_uri": "https://localhost:8080/"
        },
        "outputId": "b3c44275-82a4-47b5-a3a9-9077e7dca7f8",
        "id": "9HR1Ze7LXBCM"
      },
      "execution_count": 235,
      "outputs": [
        {
          "output_type": "stream",
          "name": "stdout",
          "text": [
            "Model: \"sequential_10\"\n",
            "_________________________________________________________________\n",
            " Layer (type)                Output Shape              Param #   \n",
            "=================================================================\n",
            " dense_50 (Dense)            (None, 512)               524800    \n",
            "                                                                 \n",
            " dense_51 (Dense)            (None, 256)               131328    \n",
            "                                                                 \n",
            " dense_52 (Dense)            (None, 64)                16448     \n",
            "                                                                 \n",
            " dense_53 (Dense)            (None, 8)                 520       \n",
            "                                                                 \n",
            " dense_54 (Dense)            (None, 1)                 9         \n",
            "                                                                 \n",
            "=================================================================\n",
            "Total params: 673,105\n",
            "Trainable params: 673,105\n",
            "Non-trainable params: 0\n",
            "_________________________________________________________________\n"
          ]
        }
      ]
    },
    {
      "cell_type": "code",
      "source": [
        "#Optimizer, loss function en metrics toevoegen aan model en compileren\n",
        "modelGAUSS.compile(optimizer='adam', loss='mae', metrics=['mae'])"
      ],
      "metadata": {
        "id": "AXDMVnMyXBCN"
      },
      "execution_count": 236,
      "outputs": []
    },
    {
      "cell_type": "code",
      "source": [
        "#Model Trainen\n",
        "history = modelGAUSS.fit(samplesGAUSS,\n",
        "                        delayGAUSS,\n",
        "                        epochs=20)"
      ],
      "metadata": {
        "colab": {
          "base_uri": "https://localhost:8080/"
        },
        "outputId": "999b44dc-9d1e-461f-e0be-8f2ae4d634e1",
        "id": "ubewVuKnXBCN"
      },
      "execution_count": 237,
      "outputs": [
        {
          "output_type": "stream",
          "name": "stdout",
          "text": [
            "Epoch 1/20\n",
            "4/4 [==============================] - 1s 10ms/step - loss: 562.4729 - mae: 562.4729\n",
            "Epoch 2/20\n",
            "4/4 [==============================] - 0s 10ms/step - loss: 467.7227 - mae: 467.7227\n",
            "Epoch 3/20\n",
            "4/4 [==============================] - 0s 9ms/step - loss: 219.6691 - mae: 219.6691\n",
            "Epoch 4/20\n",
            "4/4 [==============================] - 0s 9ms/step - loss: 145.6384 - mae: 145.6384\n",
            "Epoch 5/20\n",
            "4/4 [==============================] - 0s 8ms/step - loss: 48.3933 - mae: 48.3933\n",
            "Epoch 6/20\n",
            "4/4 [==============================] - 0s 9ms/step - loss: 87.0739 - mae: 87.0739\n",
            "Epoch 7/20\n",
            "4/4 [==============================] - 0s 9ms/step - loss: 45.0571 - mae: 45.0571\n",
            "Epoch 8/20\n",
            "4/4 [==============================] - 0s 9ms/step - loss: 32.2127 - mae: 32.2127\n",
            "Epoch 9/20\n",
            "4/4 [==============================] - 0s 8ms/step - loss: 44.4025 - mae: 44.4025\n",
            "Epoch 10/20\n",
            "4/4 [==============================] - 0s 14ms/step - loss: 34.7698 - mae: 34.7698\n",
            "Epoch 11/20\n",
            "4/4 [==============================] - 0s 8ms/step - loss: 25.7480 - mae: 25.7480\n",
            "Epoch 12/20\n",
            "4/4 [==============================] - 0s 9ms/step - loss: 21.9786 - mae: 21.9786\n",
            "Epoch 13/20\n",
            "4/4 [==============================] - 0s 9ms/step - loss: 15.6104 - mae: 15.6104\n",
            "Epoch 14/20\n",
            "4/4 [==============================] - 0s 8ms/step - loss: 17.3589 - mae: 17.3589\n",
            "Epoch 15/20\n",
            "4/4 [==============================] - 0s 12ms/step - loss: 16.7144 - mae: 16.7144\n",
            "Epoch 16/20\n",
            "4/4 [==============================] - 0s 8ms/step - loss: 17.4644 - mae: 17.4644\n",
            "Epoch 17/20\n",
            "4/4 [==============================] - 0s 10ms/step - loss: 12.4550 - mae: 12.4550\n",
            "Epoch 18/20\n",
            "4/4 [==============================] - 0s 8ms/step - loss: 13.6564 - mae: 13.6564\n",
            "Epoch 19/20\n",
            "4/4 [==============================] - 0s 10ms/step - loss: 17.7398 - mae: 17.7398\n",
            "Epoch 20/20\n",
            "4/4 [==============================] - 0s 10ms/step - loss: 14.3163 - mae: 14.3163\n"
          ]
        }
      ]
    },
    {
      "cell_type": "code",
      "source": [
        "predictionsGAUSS = modelGAUSS.predict(samplesGAUSStest)"
      ],
      "metadata": {
        "colab": {
          "base_uri": "https://localhost:8080/"
        },
        "outputId": "3cc646a8-735b-4d8c-bbeb-5b563061bc59",
        "id": "VzPdwjAsXBCO"
      },
      "execution_count": 238,
      "outputs": [
        {
          "output_type": "stream",
          "name": "stdout",
          "text": [
            "4/4 [==============================] - 0s 4ms/step\n"
          ]
        }
      ]
    },
    {
      "cell_type": "code",
      "source": [
        "predictionslistGAUSS = predictionsGAUSS.tolist()\n",
        "predictionslistGAUSSflat = [item for sublist in predictionslistGAUSS for item in sublist]\n",
        "\n",
        "error_list_GAUSS = []   #absolute waarde van de fout van predictie \n",
        "for error1, error2 in zip(predictionslistGAUSSflat, delaypiekGAUSStest):\n",
        "  error_list_GAUSS.append(round(abs(error1 - error2)))\n",
        "\n",
        "print(error_list_GAUSS)\n",
        "print(predictionslistGAUSSflat)\n",
        "print(delaypiekGAUSStest)\n",
        "#visualiseren error\n",
        "bar = plt.figure(2)\n",
        "plt.bar(np.arange(0, 100), error_list_GAUSS)\n",
        "plt.ylim(0, 512)\n",
        "plt.show()\n"
      ],
      "metadata": {
        "colab": {
          "base_uri": "https://localhost:8080/",
          "height": 337
        },
        "outputId": "e9cc7371-205f-4683-de5a-74b1dfb129ba",
        "id": "txemQjxRXBCO"
      },
      "execution_count": 239,
      "outputs": [
        {
          "output_type": "stream",
          "name": "stdout",
          "text": [
            "[2, 1, 10, 1, 18, 2, 9, 3, 8, 15, 5, 41, 7, 1, 6, 8, 17, 32, 5, 0, 0, 10, 6, 2, 26, 12, 5, 21, 20, 9, 46, 3, 2, 14, 0, 2, 4, 38, 2, 2, 17, 2, 1, 8, 3, 23, 15, 118, 695, 18, 7, 5, 15, 11, 214, 2, 0, 2, 11, 13, 12, 66, 16, 16, 5, 21, 13, 46, 9, 34, 3, 3, 21, 4, 6, 9, 2, 1, 5, 13, 21, 24, 14, 10, 9, 13, 22, 14, 7, 1, 31, 4, 9, 2, 21, 49, 4, 22, 2, 19]\n",
            "[554.1075439453125, 590.3285522460938, 562.6302490234375, 602.6194458007812, 572.0950927734375, 558.4306030273438, 605.9019775390625, 556.7297973632812, 619.4215698242188, 570.839599609375, 574.1253051757812, 615.9678955078125, 582.26513671875, 605.6973266601562, 599.3956298828125, 580.1568603515625, 604.19775390625, 580.1697998046875, 560.2581787109375, 609.259765625, 604.2094116210938, 614.882568359375, 569.3184814453125, 560.82568359375, 584.445068359375, 559.33837890625, 595.7899169921875, 585.1990966796875, 627.226318359375, 563.9940795898438, 590.69775390625, 563.0178833007812, 601.8990478515625, 572.8333740234375, 583.3443603515625, 607.0927124023438, 592.5955200195312, 572.95947265625, 605.5474243164062, 578.3778076171875, 607.6672973632812, 575.0278930664062, 593.78125, 592.3863525390625, 602.0416259765625, 581.1840209960938, 572.4317626953125, 679.1968994140625, 1257.41064453125, 580.951171875, 551.24462890625, 554.5050659179688, 619.9708251953125, 584.8648071289062, 825.0953979492188, 588.4332275390625, 596.1533203125, 581.681396484375, 561.6688232421875, 592.2891235351562, 611.0386962890625, 662.2383422851562, 586.1982421875, 587.781982421875, 570.267822265625, 625.9015502929688, 576.0211181640625, 560.4278564453125, 606.3875122070312, 629.625, 594.527587890625, 549.2809448242188, 586.171630859375, 552.2952270507812, 586.0184326171875, 557.7372436523438, 562.9349365234375, 603.931640625, 591.6515502929688, 592.2169189453125, 628.0187377929688, 591.0750732421875, 564.0239868164062, 606.4046630859375, 600.2298583984375, 546.2692260742188, 631.2174072265625, 556.8556518554688, 535.183837890625, 577.2006225585938, 572.9633178710938, 560.2650146484375, 602.7584228515625, 573.27294921875, 606.5924682617188, 653.1282958984375, 552.107421875, 599.6370849609375, 592.4168090820312, 590.32421875]\n",
            "[552, 589, 553, 604, 554, 556, 597, 554, 611, 586, 579, 575, 589, 605, 605, 588, 587, 548, 555, 609, 604, 605, 563, 559, 558, 547, 601, 606, 607, 555, 545, 566, 604, 559, 583, 609, 597, 611, 608, 576, 591, 573, 595, 600, 599, 604, 557, 561, 562, 599, 544, 560, 605, 574, 611, 590, 596, 580, 551, 579, 599, 596, 570, 572, 565, 605, 589, 606, 597, 596, 592, 546, 565, 556, 580, 549, 565, 605, 597, 605, 607, 567, 550, 596, 591, 559, 609, 543, 542, 578, 542, 556, 612, 571, 586, 604, 548, 578, 594, 571]\n"
          ]
        },
        {
          "output_type": "display_data",
          "data": {
            "text/plain": [
              "<Figure size 432x288 with 1 Axes>"
            ],
            "image/png": "[encoded data removed]"
          },
          "metadata": {
            "needs_background": "light"
          }
        }
      ]
    },
    {
      "cell_type": "markdown",
      "source": [
        "SBOX MODEL"
      ],
      "metadata": {
        "id": "ZdlwXJpsX4M1"
      }
    },
    {
      "cell_type": "code",
      "source": [
        "#TENSOR Object maken voor x waarden NN training\n",
        "os.chdir(standaarddirectory)\n",
        "os.chdir(\"stud_train_combined_SBOX\")\n",
        "\n",
        "samplesSBOX = [np.load(f\"{x}SBOX.npy\") for x in range(1, 101)]\n",
        "samplesSBOX = tf.convert_to_tensor(samplesSBOX)\n",
        "\n",
        "os.chdir(standaarddirectory)"
      ],
      "metadata": {
        "id": "WRxsIlpLX2r5"
      },
      "execution_count": 240,
      "outputs": []
    },
    {
      "cell_type": "code",
      "source": [
        "#TENSOR Object maken voor x waarden NN testing\n",
        "os.chdir(standaarddirectory)\n",
        "os.chdir(\"stud_test_combined_SBOX\")\n",
        "\n",
        "samplesSBOXtest = [np.load(f\"{x}SBOX.npy\") for x in range(1, 101)]\n",
        "samplesSBOXtest = tf.convert_to_tensor(samplesSBOXtest)\n",
        "\n",
        "os.chdir(standaarddirectory)"
      ],
      "metadata": {
        "id": "WoiOowg-X2r6"
      },
      "execution_count": 241,
      "outputs": []
    },
    {
      "cell_type": "code",
      "source": [
        "#TENSOR object maken voor y waarden NN training\n",
        "delaySBOX = pd.DataFrame(data = delaypiekSBOX)\n",
        "delaySBOX = tf.convert_to_tensor(delaySBOX)"
      ],
      "metadata": {
        "id": "hEbSrizMX2r6"
      },
      "execution_count": 242,
      "outputs": []
    },
    {
      "cell_type": "code",
      "source": [
        "#Model aanmaken\n",
        "modelSBOX = tf.keras.Sequential()\n",
        "modelSBOX.add(layers.Dense(512, activation='relu', input_shape=(1024,)))\n",
        "modelSBOX.add(layers.Dense(256, activation='relu'))\n",
        "modelSBOX.add(layers.Dense(64, activation='relu'))\n",
        "modelSBOX.add(layers.Dense(8, activation='relu'))\n",
        "modelSBOX.add(layers.Dense(1))"
      ],
      "metadata": {
        "id": "WyM-lYyiX2r7"
      },
      "execution_count": 243,
      "outputs": []
    },
    {
      "cell_type": "code",
      "source": [
        "modelSBOX.summary()"
      ],
      "metadata": {
        "colab": {
          "base_uri": "https://localhost:8080/"
        },
        "outputId": "960789d8-44d6-4507-de37-8d1c8fee17d1",
        "id": "5kFzPUSVX2r7"
      },
      "execution_count": 244,
      "outputs": [
        {
          "output_type": "stream",
          "name": "stdout",
          "text": [
            "Model: \"sequential_11\"\n",
            "_________________________________________________________________\n",
            " Layer (type)                Output Shape              Param #   \n",
            "=================================================================\n",
            " dense_55 (Dense)            (None, 512)               524800    \n",
            "                                                                 \n",
            " dense_56 (Dense)            (None, 256)               131328    \n",
            "                                                                 \n",
            " dense_57 (Dense)            (None, 64)                16448     \n",
            "                                                                 \n",
            " dense_58 (Dense)            (None, 8)                 520       \n",
            "                                                                 \n",
            " dense_59 (Dense)            (None, 1)                 9         \n",
            "                                                                 \n",
            "=================================================================\n",
            "Total params: 673,105\n",
            "Trainable params: 673,105\n",
            "Non-trainable params: 0\n",
            "_________________________________________________________________\n"
          ]
        }
      ]
    },
    {
      "cell_type": "code",
      "source": [
        "#Optimizer, loss function en metrics toevoegen aan model en compileren\n",
        "modelSBOX.compile(optimizer='adam', loss='mae', metrics=['mae'])"
      ],
      "metadata": {
        "id": "bXw5hevoX2r8"
      },
      "execution_count": 245,
      "outputs": []
    },
    {
      "cell_type": "code",
      "source": [
        "#Model Trainen\n",
        "history = modelSBOX.fit(samplesSBOX,\n",
        "                        delaySBOX,\n",
        "                        epochs=20)"
      ],
      "metadata": {
        "colab": {
          "base_uri": "https://localhost:8080/"
        },
        "outputId": "84ae6968-4743-4793-9b67-b94b62b67da9",
        "id": "WB1QgES9X2r8"
      },
      "execution_count": 246,
      "outputs": [
        {
          "output_type": "stream",
          "name": "stdout",
          "text": [
            "Epoch 1/20\n",
            "4/4 [==============================] - 1s 9ms/step - loss: 577.7251 - mae: 577.7251\n",
            "Epoch 2/20\n",
            "4/4 [==============================] - 0s 10ms/step - loss: 558.8918 - mae: 558.8918\n",
            "Epoch 3/20\n",
            "4/4 [==============================] - 0s 8ms/step - loss: 514.6859 - mae: 514.6859\n",
            "Epoch 4/20\n",
            "4/4 [==============================] - 0s 8ms/step - loss: 426.1385 - mae: 426.1385\n",
            "Epoch 5/20\n",
            "4/4 [==============================] - 0s 8ms/step - loss: 265.7321 - mae: 265.7321\n",
            "Epoch 6/20\n",
            "4/4 [==============================] - 0s 8ms/step - loss: 90.8355 - mae: 90.8355\n",
            "Epoch 7/20\n",
            "4/4 [==============================] - 0s 10ms/step - loss: 146.8036 - mae: 146.8036\n",
            "Epoch 8/20\n",
            "4/4 [==============================] - 0s 8ms/step - loss: 75.9005 - mae: 75.9005\n",
            "Epoch 9/20\n",
            "4/4 [==============================] - 0s 8ms/step - loss: 91.4087 - mae: 91.4087\n",
            "Epoch 10/20\n",
            "4/4 [==============================] - 0s 9ms/step - loss: 77.6669 - mae: 77.6669\n",
            "Epoch 11/20\n",
            "4/4 [==============================] - 0s 8ms/step - loss: 68.4885 - mae: 68.4885\n",
            "Epoch 12/20\n",
            "4/4 [==============================] - 0s 30ms/step - loss: 65.2768 - mae: 65.2768\n",
            "Epoch 13/20\n",
            "4/4 [==============================] - 0s 15ms/step - loss: 63.3513 - mae: 63.3513\n",
            "Epoch 14/20\n",
            "4/4 [==============================] - 0s 14ms/step - loss: 55.6988 - mae: 55.6988\n",
            "Epoch 15/20\n",
            "4/4 [==============================] - 0s 15ms/step - loss: 58.4624 - mae: 58.4624\n",
            "Epoch 16/20\n",
            "4/4 [==============================] - 0s 13ms/step - loss: 46.3054 - mae: 46.3054\n",
            "Epoch 17/20\n",
            "4/4 [==============================] - 0s 16ms/step - loss: 47.6605 - mae: 47.6605\n",
            "Epoch 18/20\n",
            "4/4 [==============================] - 0s 13ms/step - loss: 39.0840 - mae: 39.0840\n",
            "Epoch 19/20\n",
            "4/4 [==============================] - 0s 14ms/step - loss: 42.7606 - mae: 42.7606\n",
            "Epoch 20/20\n",
            "4/4 [==============================] - 0s 15ms/step - loss: 34.7975 - mae: 34.7975\n"
          ]
        }
      ]
    },
    {
      "cell_type": "code",
      "source": [
        "predictionsSBOX = modelSBOX.predict(samplesSBOXtest)"
      ],
      "metadata": {
        "colab": {
          "base_uri": "https://localhost:8080/"
        },
        "outputId": "d7e9d5e6-299b-4d36-ae34-d417c9c810d6",
        "id": "eHYnazX3X2r8"
      },
      "execution_count": 247,
      "outputs": [
        {
          "output_type": "stream",
          "name": "stdout",
          "text": [
            "4/4 [==============================] - 0s 4ms/step\n"
          ]
        }
      ]
    },
    {
      "cell_type": "code",
      "source": [
        "predictionslistSBOX = predictionsSBOX.tolist()\n",
        "predictionslistSBOXflat = [item for sublist in predictionslistSBOX for item in sublist]\n",
        "\n",
        "error_list_SBOX = []   #absolute waarde van de fout van predictie \n",
        "for error1, error2 in zip(predictionslistSBOXflat, delaypiekSBOXtest):\n",
        "  error_list_SBOX.append(round(abs(error1 - error2)))\n",
        "\n",
        "print(error_list_SBOX)\n",
        "print(predictionslistSBOXflat)\n",
        "print(delaypiekSBOXtest)\n",
        "#visualiseren error\n",
        "bar = plt.figure(3)\n",
        "plt.bar(np.arange(0, 100), error_list_SBOX)\n",
        "plt.ylim(0, 512)\n",
        "plt.show()\n"
      ],
      "metadata": {
        "colab": {
          "base_uri": "https://localhost:8080/",
          "height": 337
        },
        "outputId": "77469174-c773-4b26-fefd-23da7e0dde60",
        "id": "DJNqCyBjX2r8"
      },
      "execution_count": 248,
      "outputs": [
        {
          "output_type": "stream",
          "name": "stdout",
          "text": [
            "[51, 97, 19, 24, 75, 104, 75, 10, 58, 11, 78, 2, 21, 30, 31, 36, 54, 42, 45, 5, 71, 53, 22, 15, 48, 72, 8, 38, 42, 38, 14, 51, 17, 51, 35, 45, 64, 51, 13, 18, 62, 49, 33, 71, 20, 34, 4, 61, 25, 31, 38, 4, 56, 2, 26, 83, 97, 3, 65, 47, 11, 33, 4, 33, 57, 30, 11, 20, 34, 43, 20, 13, 16, 35, 26, 27, 44, 63, 4, 29, 14, 24, 8, 22, 41, 0, 46, 74, 71, 35, 52, 95, 8, 39, 45, 32, 24, 47, 52, 15]\n",
            "[633.6643676757812, 641.5709228515625, 566.6416625976562, 523.7359619140625, 635.4112548828125, 653.0670776367188, 648.404296875, 545.6724853515625, 615.6251831054688, 571.772216796875, 664.4613037109375, 588.5238647460938, 579.116943359375, 596.9129638671875, 559.7393798828125, 559.9835815429688, 596.1345825195312, 533.24853515625, 603.1232299804688, 553.8152465820312, 536.6949462890625, 605.3286743164062, 573.5184936523438, 558.8019409179688, 616.2359008789062, 619.035400390625, 586.7467651367188, 541.5968017578125, 567.780517578125, 525.8615112304688, 557.3394775390625, 495.02227783203125, 569.346435546875, 543.9657592773438, 536.258056640625, 628.3865966796875, 537.2178344726562, 593.29736328125, 567.9429321289062, 566.938720703125, 630.13232421875, 629.7142333984375, 563.0576782226562, 624.3331909179688, 566.9088134765625, 547.4866943359375, 607.3236083984375, 536.080078125, 607.0913696289062, 618.6494140625, 522.4432983398438, 582.2052612304688, 526.3341064453125, 561.84375, 559.6688842773438, 476.02716064453125, 647.791015625, 579.4028930664062, 477.8868103027344, 655.2153930664062, 588.2592163085938, 595.0302734375, 603.2005004882812, 550.2681274414062, 519.2831420898438, 578.0321655273438, 603.9561767578125, 578.2816162109375, 598.2026977539062, 545.8440551757812, 562.5300903320312, 557.4266357421875, 623.0780029296875, 613.84716796875, 600.8374633789062, 587.5134887695312, 542.5719604492188, 533.500732421875, 563.795166015625, 616.0091552734375, 606.8335571289062, 567.3894653320312, 594.5737915039062, 523.9432373046875, 608.2013549804688, 558.155029296875, 505.4295654296875, 650.7653198242188, 663.0253295898438, 629.4268188476562, 642.3729858398438, 515.3827514648438, 544.0144653320312, 558.8161010742188, 521.7261352539062, 557.2048950195312, 534.8788452148438, 511.7059020996094, 624.3812255859375, 619.5477294921875]\n",
            "[583, 545, 586, 548, 560, 549, 573, 556, 558, 583, 586, 587, 558, 567, 591, 596, 542, 575, 558, 549, 608, 552, 552, 544, 568, 547, 595, 580, 610, 564, 543, 546, 552, 595, 571, 583, 601, 542, 581, 549, 568, 581, 596, 553, 587, 581, 603, 597, 582, 588, 560, 578, 582, 560, 586, 559, 551, 576, 543, 608, 577, 562, 607, 583, 576, 608, 593, 558, 564, 589, 583, 544, 607, 579, 575, 561, 587, 597, 568, 587, 593, 591, 587, 546, 567, 558, 551, 577, 592, 594, 590, 610, 552, 598, 567, 589, 559, 559, 572, 605]\n"
          ]
        },
        {
          "output_type": "display_data",
          "data": {
            "text/plain": [
              "<Figure size 432x288 with 1 Axes>"
            ],
            "image/png": "[encoded data removed]"
          },
          "metadata": {
            "needs_background": "light"
          }
        }
      ]
    },
    {
      "cell_type": "markdown",
      "source": [
        "MODEL VOOR ALLE DRIE DE SIGNALEN"
      ],
      "metadata": {
        "id": "UfCqTpDTYfPK"
      }
    }
  ]
}