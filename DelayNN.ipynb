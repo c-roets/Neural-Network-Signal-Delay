{
  "nbformat": 4,
  "nbformat_minor": 0,
  "metadata": {
    "colab": {
      "provenance": [],
      "collapsed_sections": []
    },
    "kernelspec": {
      "name": "python3",
      "display_name": "Python 3"
    },
    "language_info": {
      "name": "python"
    }
  },
  "cells": [
    {
      "cell_type": "code",
      "execution_count": 360,
      "metadata": {
        "id": "a0_exOypAsUx"
      },
      "outputs": [],
      "source": [
        "#Imports\n",
        "import numpy as np\n",
        "import matplotlib.pyplot as plt\n",
        "import os\n",
        "import pandas as pd\n",
        "import natsort\n",
        "import re\n",
        "#We gebruiken de from ... import voor commando's die we veel gebruiken om repititie te verminderen \n",
        "from tensorflow.keras.models import Sequential\n",
        "from tensorflow.keras.layers import Dense\n",
        "from tensorflow.keras import layers\n",
        "from zipfile import ZipFile\n",
        "import tensorflow as tf"
      ]
    },
    {
      "cell_type": "markdown",
      "source": [
        "UPLOAD EERST DE DATA ZIP in COLAB, ANDERS KAN HET VOLGENDE BLOK CODE DEZE NIET UITPAKKEN"
      ],
      "metadata": {
        "id": "oN1PtXsL6tmU"
      }
    },
    {
      "cell_type": "code",
      "source": [
        "standaarddirectory = os.getcwd()                  #standaarddirectory van google colab opslaan zodat we altijd terug kunnen keren naar deze\n",
        "file_name = \"delay_dataset.zip\"                   \n",
        "if not os.path.exists(\"stud_train\"):              #Als de data nog niet uitgepakt is en deze folder dus nog niet bestaat, gaan we dit doen\n",
        "  with ZipFile(file_name,'r') as zipper:\n",
        "    zipper.extractall()\n",
        "    print(\"extractie data klaar\")\n",
        "\n",
        "if not os.path.exists(\"stud_train_combined_ASDR\"):    #Een folder waarin we de gecombineerde ASDR train signalen van 1024 samples zullen opslaan\n",
        "  os.makedirs(\"stud_train_combined_ASDR\")\n",
        "if not os.path.exists(\"stud_train_combined_GAUSS\"):   #Een folder waarin we de gecombineerde GAUSS train signalen van 1024 samples zullen opslaan\n",
        "  os.makedirs(\"stud_train_combined_GAUSS\")\n",
        "if not os.path.exists(\"stud_train_combined_SBOX\"):    #Een folder waarin we de gecombineerde SBOX train signalen van 1024 samples zullen opslaan\n",
        "  os.makedirs(\"stud_train_combined_SBOX\")\n",
        "\n",
        "if not os.path.exists(\"stud_test_combined_ASDR\"):    #Een folder waarin we de gecombineerde ASDR test signalen van 1024 samples zullen opslaan\n",
        "  os.makedirs(\"stud_test_combined_ASDR\")\n",
        "if not os.path.exists(\"stud_test_combined_GAUSS\"):   #Een folder waarin we de gecombineerde GAUSS test signalen van 1024 samples zullen opslaan\n",
        "  os.makedirs(\"stud_test_combined_GAUSS\")\n",
        "if not os.path.exists(\"stud_test_combined_SBOX\"):    #Een folder waarin we de gecombineerde SBOX test signalen van 1024 samples zullen opslaan\n",
        "  os.makedirs(\"stud_test_combined_SBOX\")"
      ],
      "metadata": {
        "id": "wNoaRK8yCcZ9"
      },
      "execution_count": 361,
      "outputs": []
    },
    {
      "cell_type": "code",
      "source": [
        "# variable declaration\n",
        "train_set = 'stud_train'\n",
        "test_set = 'stud_test'\n",
        "delaypiekASDR = []    #array met actuele delays tussen de pieken (validatiecijfers voor training)\n",
        "delaypiekGAUSS = []\n",
        "delaypiekSBOX = []\n",
        "delaypiekASDRtest = []    #array met actuele delays tussen de pieken (cijfers voor testing)\n",
        "delaypiekGAUSStest = []\n",
        "delaypiekSBOXtest = []"
      ],
      "metadata": {
        "id": "TkRDCfkQA0vF"
      },
      "execution_count": 362,
      "outputs": []
    },
    {
      "cell_type": "code",
      "source": [
        "#Geeft een array met strings weer waarin de namen van de files in die map staan\n",
        "def laadarraymetfilenamenuitmap(map):\n",
        "    filenames = os.listdir(map)  # array met alle filenames van in folder\n",
        "    filenames.sort()\n",
        "    return filenames"
      ],
      "metadata": {
        "id": "HlMfzklhA7La"
      },
      "execution_count": 363,
      "outputs": []
    },
    {
      "cell_type": "code",
      "source": [
        "#plot het signaal van een numpy array aan de hand van een megegeven signaalbestandsnaam\n",
        "#Functie werd enkel gebruikt in het begin, niet meer relevant op het einde\n",
        "def plotsignaal(signaal, evencheck, nummer, x = np.arange(0,512)): #signaal is naam bestand tussen aanhalingstekens\n",
        "    if evencheck % 2 == 0:\n",
        "        kleur = \"red\"         #paar van signalen respectievelijk rood en blauw weergeven zodat het verschil duidelijk is\n",
        "    else:\n",
        "        kleur = \"blue\"\n",
        "    plot = plt.figure(nummer)\n",
        "    plt.xlabel(\"X axis\")\n",
        "    plt.ylabel(\"Y axis\")\n",
        "    plt.plot(x,np.load(signaal), color=kleur)"
      ],
      "metadata": {
        "id": "y-1GWcDqA9eQ"
      },
      "execution_count": 364,
      "outputs": []
    },
    {
      "cell_type": "code",
      "source": [
        "#Geeft de waarde van de positie van die piek terug aan de hand van de bestandsnaam\n",
        "def geefpositiepiek(signaal):\n",
        "  truncatedsignaal = (signaal.split(\"P_\",1)[1]) #alles voor de xxx wegdoen dus BV ASDR_P_ wegdoen\n",
        "  piek = ''.join(x for x in truncatedsignaal[0:3] if x.isdigit()) \n",
        "  return piek"
      ],
      "metadata": {
        "id": "Qky7IDJIEWfr"
      },
      "execution_count": 365,
      "outputs": []
    },
    {
      "cell_type": "code",
      "source": [
        "#voegt de array van twee signalen samen om 1 vector van 1024 samples te bekomen\n",
        "def voegsamen(signaal1, signaal2):\n",
        "  return np.concatenate([np.load(signaal1), np.load(signaal2)])"
      ],
      "metadata": {
        "id": "SDrzjHGyYQYE"
      },
      "execution_count": 366,
      "outputs": []
    },
    {
      "cell_type": "code",
      "source": [
        "#wordt gebruikt om de lijst met de files te sorten op numerische orde ipv alfabetische orde om sortering van 0 1 10 11 ... 19 2 20 21 ... 29 3 30 31 etc te voorkomen maar 0 1 2 3 4 ... 99\n",
        "def atoi(text):\n",
        "    return int(text) if text.isdigit() else text\n",
        "\n",
        "def natural_keys(text):\n",
        "    return [ atoi(c) for c in re.split(r'(\\d+)', text) ]"
      ],
      "metadata": {
        "id": "xRZb5WOyC0UC"
      },
      "execution_count": 367,
      "outputs": []
    },
    {
      "cell_type": "code",
      "source": [
        "def combinedata(folder, dir, delayarray, typesignaal = \"\", testoftrain = \"\", aantalgrafiekenplotten = 0):\n",
        "  i = 0\n",
        "  nummer = 1\n",
        "  evencheck = 0\n",
        "  x = np.arange(0, 1024)\n",
        "  k = 0\n",
        "  for data in folder:\n",
        "    evencheck += 1\n",
        "    if k != 0 and evencheck % 2 == 0:\n",
        "      os.chdir(f\"stud_{testoftrain}\")\n",
        "      masterfile = voegsamen(previous, data)\n",
        "      os.chdir(standaarddirectory)\n",
        "\n",
        "      os.chdir(dir)\n",
        "      savename = f\"{nummer}{typesignaal}.npy\"\n",
        "      np.save(savename,masterfile)\n",
        "      os.chdir(standaarddirectory)\n",
        "      nummer += 1\n",
        "      delayarray.append(512-int(geefpositiepiek(previous))+int(geefpositiepiek(data)))\n",
        "\n",
        "      #plotten voor eerste paar grafieken, mooie visualisatie als controle\n",
        "      if evencheck < ((aantalgrafiekenplotten*2)+1):  #evencheck > aantal grafieken*2, max 41 vanwege memory limiet -> 20 grafieken, zet op 1 indien je geen grafieken wil zien\n",
        "        plot= plt.figure(nummer)\n",
        "        plt.plot(x,masterfile, color=\"red\")\n",
        "\n",
        "    k += 1\n",
        "    previous = data"
      ],
      "metadata": {
        "id": "5oEbfVnL4mUX"
      },
      "execution_count": 368,
      "outputs": []
    },
    {
      "cell_type": "markdown",
      "source": [
        "END OF FUNCTIONS"
      ],
      "metadata": {
        "id": "de6GAjWs9PuT"
      }
    },
    {
      "cell_type": "code",
      "source": [
        "#main\n",
        "#filenames inlezen\n",
        "filenames = laadarraymetfilenamenuitmap(train_set)\n",
        "filenamesASDR = filenames[0:200]\n",
        "filenamesGAUSS = filenames[200:400]\n",
        "filenamesSBOX = filenames[400:600]\n",
        "\n",
        "filenamestest = laadarraymetfilenamenuitmap(test_set)\n",
        "filenamesASDRtest = filenamestest[0:200]\n",
        "filenamesGAUSStest = filenamestest[200:400]\n",
        "filenamesSBOXtest = filenamestest[400:600]\n",
        "\n",
        "#sorteren\n",
        "filenamesASDR.sort(key=natural_keys)\n",
        "filenamesGAUSS.sort(key=natural_keys)\n",
        "filenamesSBOX.sort(key=natural_keys)\n",
        "filenamesASDRtest.sort(key=natural_keys)\n",
        "filenamesGAUSStest.sort(key=natural_keys)\n",
        "filenamesSBOXtest.sort(key=natural_keys)"
      ],
      "metadata": {
        "id": "LN-a76MlCbmP"
      },
      "execution_count": 369,
      "outputs": []
    },
    {
      "cell_type": "code",
      "source": [
        "os.chdir(standaarddirectory)\n",
        "combinedata(filenamesASDR, \"stud_train_combined_ASDR\", delaypiekASDR, \"ASDR\", \"train\")\n",
        "combinedata(filenamesGAUSS, \"stud_train_combined_GAUSS\", delaypiekGAUSS, \"GAUSS\", \"train\")\n",
        "combinedata(filenamesSBOX, \"stud_train_combined_SBOX\", delaypiekSBOX, \"SBOX\", \"train\")\n",
        "\n",
        "combinedata(filenamesASDRtest, \"stud_test_combined_ASDR\", delaypiekASDRtest, \"ASDR\", \"test\")\n",
        "combinedata(filenamesGAUSStest, \"stud_test_combined_GAUSS\", delaypiekGAUSStest, \"GAUSS\", \"test\")\n",
        "combinedata(filenamesSBOXtest, \"stud_test_combined_SBOX\", delaypiekSBOXtest, \"SBOX\", \"test\")"
      ],
      "metadata": {
        "id": "MI2zmrZkA_mK"
      },
      "execution_count": 370,
      "outputs": []
    },
    {
      "cell_type": "code",
      "source": [
        "#TENSOR Object maken voor x waarden NN training\n",
        "os.chdir(standaarddirectory)\n",
        "os.chdir(\"stud_train_combined_ASDR\")\n",
        "\n",
        "samplesASDR = [np.load(f\"{x}ASDR.npy\") for x in range(1, 101)]\n",
        "samplesASDR = tf.convert_to_tensor(samplesASDR)\n",
        "\n",
        "os.chdir(standaarddirectory)"
      ],
      "metadata": {
        "id": "pEB_ObxXCH-T"
      },
      "execution_count": 371,
      "outputs": []
    },
    {
      "cell_type": "code",
      "source": [
        "#TENSOR Object maken voor x waarden NN testing\n",
        "os.chdir(standaarddirectory)\n",
        "os.chdir(\"stud_test_combined_ASDR\")\n",
        "\n",
        "samplesASDRtest = [np.load(f\"{x}ASDR.npy\") for x in range(1, 101)]\n",
        "samplesASDRtest = tf.convert_to_tensor(samplesASDRtest)\n",
        "\n",
        "os.chdir(standaarddirectory)"
      ],
      "metadata": {
        "id": "sNnb4omUOH5I"
      },
      "execution_count": 372,
      "outputs": []
    },
    {
      "cell_type": "code",
      "source": [
        "#TENSOR object maken voor y waarden NN training\n",
        "delayASDR = pd.DataFrame(data = delaypiekASDR)\n",
        "delayASDR = tf.convert_to_tensor(delayASDR)"
      ],
      "metadata": {
        "id": "m_QkwX9CCIIk"
      },
      "execution_count": 373,
      "outputs": []
    },
    {
      "cell_type": "code",
      "source": [
        "#Model aanmaken\n",
        "modelASDR = tf.keras.Sequential()\n",
        "modelASDR.add(layers.Dense(512, activation='relu', input_shape=(1024,)))\n",
        "modelASDR.add(layers.Dense(256, activation='relu'))\n",
        "modelASDR.add(layers.Dense(64, activation='relu'))\n",
        "modelASDR.add(layers.Dense(8, activation='relu'))\n",
        "modelASDR.add(layers.Dense(1))"
      ],
      "metadata": {
        "id": "gkLGd0BvCMCF"
      },
      "execution_count": 374,
      "outputs": []
    },
    {
      "cell_type": "code",
      "source": [
        "modelASDR.summary()"
      ],
      "metadata": {
        "colab": {
          "base_uri": "https://localhost:8080/"
        },
        "id": "P2okS7ukMibe",
        "outputId": "ccf4cbf3-d809-4d63-f528-b489973dbdec"
      },
      "execution_count": 375,
      "outputs": [
        {
          "output_type": "stream",
          "name": "stdout",
          "text": [
            "Model: \"sequential_21\"\n",
            "_________________________________________________________________\n",
            " Layer (type)                Output Shape              Param #   \n",
            "=================================================================\n",
            " dense_105 (Dense)           (None, 512)               524800    \n",
            "                                                                 \n",
            " dense_106 (Dense)           (None, 256)               131328    \n",
            "                                                                 \n",
            " dense_107 (Dense)           (None, 64)                16448     \n",
            "                                                                 \n",
            " dense_108 (Dense)           (None, 8)                 520       \n",
            "                                                                 \n",
            " dense_109 (Dense)           (None, 1)                 9         \n",
            "                                                                 \n",
            "=================================================================\n",
            "Total params: 673,105\n",
            "Trainable params: 673,105\n",
            "Non-trainable params: 0\n",
            "_________________________________________________________________\n"
          ]
        }
      ]
    },
    {
      "cell_type": "code",
      "source": [
        "#Optimizer, loss function en metrics toevoegen aan model en compileren\n",
        "modelASDR.compile(optimizer='adam', loss='mae', metrics=['mae'])"
      ],
      "metadata": {
        "id": "xeUik51hMkFH"
      },
      "execution_count": 376,
      "outputs": []
    },
    {
      "cell_type": "code",
      "source": [
        "#Model Trainen\n",
        "history = modelASDR.fit(samplesASDR,\n",
        "                        delayASDR,\n",
        "                        epochs=20)"
      ],
      "metadata": {
        "colab": {
          "base_uri": "https://localhost:8080/"
        },
        "id": "BhY1P0svMmHa",
        "outputId": "843d4c93-bb6f-483c-a3d1-0f7b056fa893"
      },
      "execution_count": 377,
      "outputs": [
        {
          "output_type": "stream",
          "name": "stdout",
          "text": [
            "Epoch 1/20\n",
            "4/4 [==============================] - 1s 9ms/step - loss: 574.9371 - mae: 574.9371\n",
            "Epoch 2/20\n",
            "4/4 [==============================] - 0s 9ms/step - loss: 565.7422 - mae: 565.7422\n",
            "Epoch 3/20\n",
            "4/4 [==============================] - 0s 12ms/step - loss: 540.0396 - mae: 540.0396\n",
            "Epoch 4/20\n",
            "4/4 [==============================] - 0s 10ms/step - loss: 481.6812 - mae: 481.6812\n",
            "Epoch 5/20\n",
            "4/4 [==============================] - 0s 11ms/step - loss: 366.3318 - mae: 366.3318\n",
            "Epoch 6/20\n",
            "4/4 [==============================] - 0s 10ms/step - loss: 161.3068 - mae: 161.3068\n",
            "Epoch 7/20\n",
            "4/4 [==============================] - 0s 14ms/step - loss: 128.1584 - mae: 128.1584\n",
            "Epoch 8/20\n",
            "4/4 [==============================] - 0s 10ms/step - loss: 116.2189 - mae: 116.2189\n",
            "Epoch 9/20\n",
            "4/4 [==============================] - 0s 9ms/step - loss: 81.5922 - mae: 81.5922\n",
            "Epoch 10/20\n",
            "4/4 [==============================] - 0s 9ms/step - loss: 89.6994 - mae: 89.6994\n",
            "Epoch 11/20\n",
            "4/4 [==============================] - 0s 10ms/step - loss: 65.9590 - mae: 65.9590\n",
            "Epoch 12/20\n",
            "4/4 [==============================] - 0s 9ms/step - loss: 76.2012 - mae: 76.2012\n",
            "Epoch 13/20\n",
            "4/4 [==============================] - 0s 9ms/step - loss: 64.9936 - mae: 64.9936\n",
            "Epoch 14/20\n",
            "4/4 [==============================] - 0s 10ms/step - loss: 63.1146 - mae: 63.1146\n",
            "Epoch 15/20\n",
            "4/4 [==============================] - 0s 9ms/step - loss: 60.3354 - mae: 60.3354\n",
            "Epoch 16/20\n",
            "4/4 [==============================] - 0s 11ms/step - loss: 64.6720 - mae: 64.6720\n",
            "Epoch 17/20\n",
            "4/4 [==============================] - 0s 10ms/step - loss: 57.9867 - mae: 57.9867\n",
            "Epoch 18/20\n",
            "4/4 [==============================] - 0s 9ms/step - loss: 55.8006 - mae: 55.8006\n",
            "Epoch 19/20\n",
            "4/4 [==============================] - 0s 9ms/step - loss: 56.0214 - mae: 56.0214\n",
            "Epoch 20/20\n",
            "4/4 [==============================] - 0s 8ms/step - loss: 54.1328 - mae: 54.1328\n"
          ]
        }
      ]
    },
    {
      "cell_type": "code",
      "source": [
        "predictionsASDR = modelASDR.predict(samplesASDRtest)"
      ],
      "metadata": {
        "colab": {
          "base_uri": "https://localhost:8080/"
        },
        "id": "fyI3LAqlIhhY",
        "outputId": "6cc16bfe-4e7f-4405-9cf4-fdc2a8e314cb"
      },
      "execution_count": 378,
      "outputs": [
        {
          "output_type": "stream",
          "name": "stdout",
          "text": [
            "4/4 [==============================] - 0s 5ms/step\n"
          ]
        }
      ]
    },
    {
      "cell_type": "code",
      "source": [
        "predictionslistASDR = predictionsASDR.tolist()\n",
        "predictionslistASDRflat = [item for sublist in predictionslistASDR for item in sublist]\n",
        "\n",
        "error_list_ASDR = []   #absolute waarde van de fout van predictie \n",
        "for error1, error2 in zip(predictionslistASDRflat, delaypiekASDRtest):\n",
        "  error_list_ASDR.append(round(abs(error1 - error2)))\n",
        "\n",
        "print(error_list_ASDR)\n",
        "print(predictionslistASDRflat)\n",
        "print(delaypiekASDRtest)\n",
        "#visualiseren error\n",
        "bar = plt.figure(1)\n",
        "plt.bar(np.arange(0, 100), error_list_ASDR)\n",
        "plt.ylim(0, 512)\n",
        "plt.show()\n"
      ],
      "metadata": {
        "colab": {
          "base_uri": "https://localhost:8080/",
          "height": 337
        },
        "id": "Rz1F3ox3FIg8",
        "outputId": "b3cd87da-528c-47fa-e8a5-21954f2f799b"
      },
      "execution_count": 379,
      "outputs": [
        {
          "output_type": "stream",
          "name": "stdout",
          "text": [
            "[87, 19, 98, 46, 27, 82, 117, 48, 8, 84, 73, 83, 25, 144, 17, 192, 143, 20, 42, 81, 31, 223, 59, 129, 7, 46, 105, 147, 143, 31, 1, 20, 64, 48, 65, 38, 65, 73, 60, 168, 4, 33, 1, 27, 85, 43, 3, 20, 51, 64, 57, 76, 127, 14, 164, 25, 41, 20, 139, 9, 22, 122, 88, 59, 26, 103, 57, 140, 11, 64, 142, 93, 65, 185, 77, 53, 101, 45, 82, 3, 166, 114, 15, 54, 72, 74, 140, 41, 91, 11, 13, 0, 141, 200, 171, 132, 43, 172, 166, 61]\n",
            "[509.5400695800781, 624.7196655273438, 454.00128173828125, 644.86181640625, 585.6664428710938, 477.5569763183594, 680.4172973632812, 591.3922119140625, 551.7420043945312, 457.62109375, 538.4945068359375, 651.305419921875, 546.2371826171875, 430.09747314453125, 573.5986328125, 734.0704956054688, 464.16961669921875, 526.7826538085938, 545.0625610351562, 656.81787109375, 558.1192626953125, 375.7589111328125, 666.551513671875, 468.9176940917969, 540.8992309570312, 500.6028137207031, 506.7199401855469, 712.3071899414062, 691.9216918945312, 579.6793823242188, 547.0984497070312, 560.0494384765625, 480.94366455078125, 627.5392456054688, 486.5521240234375, 650.4185180664062, 505.98614501953125, 626.8125, 640.7352905273438, 442.5826721191406, 604.8095703125, 590.4116821289062, 554.8372192382812, 581.9421997070312, 668.1235961914062, 547.0894775390625, 601.2470092773438, 572.5930786132812, 605.8538208007812, 535.3440551757812, 615.9796752929688, 522.66748046875, 704.4148559570312, 584.0764770507812, 749.7364501953125, 561.7527465820312, 521.5642700195312, 555.4566650390625, 458.16070556640625, 552.5823364257812, 545.835205078125, 703.951171875, 630.4533081054688, 499.4501953125, 578.0763549804688, 685.9222412109375, 510.23052978515625, 455.54302978515625, 557.5381469726562, 529.0453491210938, 450.28167724609375, 701.2626953125, 625.280517578125, 362.63543701171875, 638.91552734375, 660.8086547851562, 659.5143432617188, 638.2460327148438, 643.5185546875, 565.5888671875, 442.2447509765625, 670.2476196289062, 579.1895141601562, 497.02532958984375, 511.3789367675781, 642.8097534179688, 693.2053833007812, 630.4779663085938, 513.0855712890625, 578.9000854492188, 570.7383422851562, 592.6160278320312, 418.40106201171875, 388.14654541015625, 427.97027587890625, 737.9009399414062, 617.4219970703125, 760.1691284179688, 397.84283447265625, 538.5139770507812]\n",
            "[597, 606, 552, 599, 559, 560, 563, 543, 560, 542, 611, 568, 571, 574, 557, 542, 607, 547, 587, 576, 589, 599, 608, 598, 548, 547, 612, 565, 549, 549, 546, 580, 545, 580, 552, 612, 571, 554, 581, 611, 601, 557, 556, 609, 583, 590, 598, 553, 555, 599, 559, 599, 577, 570, 586, 587, 563, 575, 597, 544, 568, 582, 542, 558, 552, 583, 567, 596, 547, 593, 592, 608, 560, 548, 562, 608, 559, 593, 562, 569, 608, 556, 564, 551, 583, 569, 553, 589, 604, 568, 558, 593, 559, 588, 599, 606, 574, 588, 564, 600]\n"
          ]
        },
        {
          "output_type": "display_data",
          "data": {
            "text/plain": [
              "<Figure size 432x288 with 1 Axes>"
            ],
            "image/png": "[encoded data removed]"
          },
          "metadata": {
            "needs_background": "light"
          }
        }
      ]
    },
    {
      "cell_type": "markdown",
      "source": [
        "GAUSS MODEL"
      ],
      "metadata": {
        "id": "aweABBsuXCkZ"
      }
    },
    {
      "cell_type": "code",
      "source": [
        "#TENSOR Object maken voor x waarden NN training\n",
        "os.chdir(standaarddirectory)\n",
        "os.chdir(\"stud_train_combined_GAUSS\")\n",
        "\n",
        "samplesGAUSS = [np.load(f\"{x}GAUSS.npy\") for x in range(1, 101)]\n",
        "samplesGAUSS = tf.convert_to_tensor(samplesGAUSS)\n",
        "\n",
        "os.chdir(standaarddirectory)"
      ],
      "metadata": {
        "id": "bSgRvikiXBCK"
      },
      "execution_count": 380,
      "outputs": []
    },
    {
      "cell_type": "code",
      "source": [
        "#TENSOR Object maken voor x waarden NN testing\n",
        "os.chdir(standaarddirectory)\n",
        "os.chdir(\"stud_test_combined_GAUSS\")\n",
        "\n",
        "samplesGAUSStest = [np.load(f\"{x}GAUSS.npy\") for x in range(1, 101)]\n",
        "samplesGAUSStest = tf.convert_to_tensor(samplesGAUSStest)\n",
        "\n",
        "os.chdir(standaarddirectory)"
      ],
      "metadata": {
        "id": "j4Mn8oCaXBCL"
      },
      "execution_count": 381,
      "outputs": []
    },
    {
      "cell_type": "code",
      "source": [
        "#TENSOR object maken voor y waarden NN training\n",
        "delayGAUSS = pd.DataFrame(data = delaypiekGAUSS)\n",
        "delayGAUSS = tf.convert_to_tensor(delayGAUSS)"
      ],
      "metadata": {
        "id": "sUJsKroGXBCL"
      },
      "execution_count": 382,
      "outputs": []
    },
    {
      "cell_type": "code",
      "source": [
        "#Model aanmaken\n",
        "modelGAUSS = tf.keras.Sequential()\n",
        "modelGAUSS.add(layers.Dense(512, activation='relu', input_shape=(1024,)))\n",
        "modelGAUSS.add(layers.Dense(256, activation='relu'))\n",
        "modelGAUSS.add(layers.Dense(64, activation='relu'))\n",
        "modelGAUSS.add(layers.Dense(8, activation='relu'))\n",
        "modelGAUSS.add(layers.Dense(1))"
      ],
      "metadata": {
        "id": "tMfE6GGyXBCM"
      },
      "execution_count": 383,
      "outputs": []
    },
    {
      "cell_type": "code",
      "source": [
        "modelGAUSS.summary()"
      ],
      "metadata": {
        "colab": {
          "base_uri": "https://localhost:8080/"
        },
        "outputId": "a6daeeee-2ebc-4bb9-87bd-7c0bacb5928d",
        "id": "9HR1Ze7LXBCM"
      },
      "execution_count": 384,
      "outputs": [
        {
          "output_type": "stream",
          "name": "stdout",
          "text": [
            "Model: \"sequential_22\"\n",
            "_________________________________________________________________\n",
            " Layer (type)                Output Shape              Param #   \n",
            "=================================================================\n",
            " dense_110 (Dense)           (None, 512)               524800    \n",
            "                                                                 \n",
            " dense_111 (Dense)           (None, 256)               131328    \n",
            "                                                                 \n",
            " dense_112 (Dense)           (None, 64)                16448     \n",
            "                                                                 \n",
            " dense_113 (Dense)           (None, 8)                 520       \n",
            "                                                                 \n",
            " dense_114 (Dense)           (None, 1)                 9         \n",
            "                                                                 \n",
            "=================================================================\n",
            "Total params: 673,105\n",
            "Trainable params: 673,105\n",
            "Non-trainable params: 0\n",
            "_________________________________________________________________\n"
          ]
        }
      ]
    },
    {
      "cell_type": "code",
      "source": [
        "#Optimizer, loss function en metrics toevoegen aan model en compileren\n",
        "modelGAUSS.compile(optimizer='adam', loss='mae', metrics=['mae'])"
      ],
      "metadata": {
        "id": "AXDMVnMyXBCN"
      },
      "execution_count": 385,
      "outputs": []
    },
    {
      "cell_type": "code",
      "source": [
        "#Model Trainen\n",
        "history = modelGAUSS.fit(samplesGAUSS,\n",
        "                        delayGAUSS,\n",
        "                        epochs=20)"
      ],
      "metadata": {
        "colab": {
          "base_uri": "https://localhost:8080/"
        },
        "outputId": "cde6aabe-eb54-4341-f843-830a5db363e8",
        "id": "ubewVuKnXBCN"
      },
      "execution_count": 386,
      "outputs": [
        {
          "output_type": "stream",
          "name": "stdout",
          "text": [
            "Epoch 1/20\n",
            "4/4 [==============================] - 1s 10ms/step - loss: 565.4249 - mae: 565.4249\n",
            "Epoch 2/20\n",
            "4/4 [==============================] - 0s 8ms/step - loss: 480.3312 - mae: 480.3312\n",
            "Epoch 3/20\n",
            "4/4 [==============================] - 0s 11ms/step - loss: 271.4009 - mae: 271.4009\n",
            "Epoch 4/20\n",
            "4/4 [==============================] - 0s 9ms/step - loss: 104.0809 - mae: 104.0809\n",
            "Epoch 5/20\n",
            "4/4 [==============================] - 0s 8ms/step - loss: 63.4489 - mae: 63.4489\n",
            "Epoch 6/20\n",
            "4/4 [==============================] - 0s 10ms/step - loss: 89.6031 - mae: 89.6031\n",
            "Epoch 7/20\n",
            "4/4 [==============================] - 0s 9ms/step - loss: 36.3302 - mae: 36.3302\n",
            "Epoch 8/20\n",
            "4/4 [==============================] - 0s 9ms/step - loss: 38.0989 - mae: 38.0989\n",
            "Epoch 9/20\n",
            "4/4 [==============================] - 0s 9ms/step - loss: 39.1388 - mae: 39.1388\n",
            "Epoch 10/20\n",
            "4/4 [==============================] - 0s 9ms/step - loss: 22.0433 - mae: 22.0433\n",
            "Epoch 11/20\n",
            "4/4 [==============================] - 0s 12ms/step - loss: 22.2307 - mae: 22.2307\n",
            "Epoch 12/20\n",
            "4/4 [==============================] - 0s 8ms/step - loss: 18.2392 - mae: 18.2392\n",
            "Epoch 13/20\n",
            "4/4 [==============================] - 0s 9ms/step - loss: 15.0172 - mae: 15.0172\n",
            "Epoch 14/20\n",
            "4/4 [==============================] - 0s 9ms/step - loss: 16.2832 - mae: 16.2832\n",
            "Epoch 15/20\n",
            "4/4 [==============================] - 0s 10ms/step - loss: 13.1762 - mae: 13.1762\n",
            "Epoch 16/20\n",
            "4/4 [==============================] - 0s 9ms/step - loss: 22.7042 - mae: 22.7042\n",
            "Epoch 17/20\n",
            "4/4 [==============================] - 0s 8ms/step - loss: 18.1543 - mae: 18.1543\n",
            "Epoch 18/20\n",
            "4/4 [==============================] - 0s 10ms/step - loss: 33.2447 - mae: 33.2447\n",
            "Epoch 19/20\n",
            "4/4 [==============================] - 0s 8ms/step - loss: 36.3765 - mae: 36.3765\n",
            "Epoch 20/20\n",
            "4/4 [==============================] - 0s 8ms/step - loss: 37.8125 - mae: 37.8125\n"
          ]
        }
      ]
    },
    {
      "cell_type": "code",
      "source": [
        "predictionsGAUSS = modelGAUSS.predict(samplesGAUSStest)"
      ],
      "metadata": {
        "colab": {
          "base_uri": "https://localhost:8080/"
        },
        "outputId": "33924318-1455-42da-8589-3c9552451eb9",
        "id": "VzPdwjAsXBCO"
      },
      "execution_count": 387,
      "outputs": [
        {
          "output_type": "stream",
          "name": "stdout",
          "text": [
            "4/4 [==============================] - 0s 7ms/step\n"
          ]
        }
      ]
    },
    {
      "cell_type": "code",
      "source": [
        "predictionslistGAUSS = predictionsGAUSS.tolist()\n",
        "predictionslistGAUSSflat = [item for sublist in predictionslistGAUSS for item in sublist]\n",
        "\n",
        "error_list_GAUSS = []   #absolute waarde van de fout van predictie \n",
        "for error1, error2 in zip(predictionslistGAUSSflat, delaypiekGAUSStest):\n",
        "  error_list_GAUSS.append(round(abs(error1 - error2)))\n",
        "\n",
        "print(error_list_GAUSS)\n",
        "print(predictionslistGAUSSflat)\n",
        "print(delaypiekGAUSStest)\n",
        "#visualiseren error\n",
        "bar = plt.figure(2)\n",
        "plt.bar(np.arange(0, 100), error_list_GAUSS)\n",
        "plt.ylim(0, 512)\n",
        "plt.show()\n"
      ],
      "metadata": {
        "colab": {
          "base_uri": "https://localhost:8080/",
          "height": 337
        },
        "outputId": "c27f9ac2-e954-4988-f332-bb695944fa72",
        "id": "txemQjxRXBCO"
      },
      "execution_count": 388,
      "outputs": [
        {
          "output_type": "stream",
          "name": "stdout",
          "text": [
            "[16, 18, 6, 6, 27, 7, 10, 5, 5, 10, 11, 9, 37, 25, 3, 24, 30, 13, 15, 18, 23, 11, 20, 15, 9, 7, 18, 19, 7, 9, 2, 9, 25, 15, 1, 19, 1, 48, 24, 7, 14, 8, 7, 7, 21, 44, 19, 120, 664, 3, 11, 6, 0, 14, 196, 18, 23, 5, 11, 2, 8, 42, 20, 7, 21, 1, 7, 39, 18, 21, 11, 2, 11, 6, 14, 5, 14, 26, 4, 33, 4, 23, 17, 19, 14, 0, 12, 20, 6, 4, 24, 18, 24, 12, 18, 26, 12, 23, 27, 29]\n",
            "[568.1083374023438, 570.8570556640625, 559.0695190429688, 598.0624389648438, 581.0650024414062, 548.7289428710938, 586.8784790039062, 548.7272338867188, 606.2266845703125, 575.6484985351562, 567.924072265625, 583.7679443359375, 552.1736450195312, 579.8160400390625, 601.6441040039062, 563.714599609375, 617.2263793945312, 535.0584106445312, 539.7271118164062, 591.4986572265625, 580.5487670898438, 594.2007446289062, 542.53515625, 573.8104858398438, 549.2227172851562, 553.9972534179688, 582.631591796875, 587.28564453125, 613.714599609375, 546.3976440429688, 543.0530395507812, 574.7383422851562, 578.8165283203125, 573.6434936523438, 582.4217529296875, 589.9286499023438, 595.6887817382812, 563.0475463867188, 583.817138671875, 583.1221313476562, 576.935791015625, 581.4257202148438, 588.3570556640625, 593.343017578125, 578.3638916015625, 559.650634765625, 538.3807983398438, 681.4575805664062, 1226.2518310546875, 601.802978515625, 533.1080322265625, 565.9620971679688, 604.646484375, 587.8576049804688, 807.0335083007812, 571.6591186523438, 572.8001098632812, 574.6130981445312, 562.2550659179688, 577.0175170898438, 590.9227905273438, 637.7005615234375, 590.1896362304688, 579.3477783203125, 544.1371459960938, 605.6082153320312, 581.7026977539062, 566.8748779296875, 579.32666015625, 616.9703369140625, 580.6219482421875, 544.2354125976562, 553.8618774414062, 562.2509155273438, 594.0516357421875, 543.9798583984375, 579.0557250976562, 579.1650390625, 592.7048950195312, 572.2681274414062, 611.3770141601562, 544.0567626953125, 567.1533203125, 577.4523315429688, 577.2973022460938, 559.1834716796875, 621.3801879882812, 562.7847290039062, 548.3278198242188, 582.3893432617188, 566.2770385742188, 574.049560546875, 588.2518920898438, 583.3695678710938, 604.025390625, 629.5661010742188, 536.3146362304688, 555.226318359375, 567.0053100585938, 599.561279296875]\n",
            "[552, 589, 553, 604, 554, 556, 597, 554, 611, 586, 579, 575, 589, 605, 605, 588, 587, 548, 555, 609, 604, 605, 563, 559, 558, 547, 601, 606, 607, 555, 545, 566, 604, 559, 583, 609, 597, 611, 608, 576, 591, 573, 595, 600, 599, 604, 557, 561, 562, 599, 544, 560, 605, 574, 611, 590, 596, 580, 551, 579, 599, 596, 570, 572, 565, 605, 589, 606, 597, 596, 592, 546, 565, 556, 580, 549, 565, 605, 597, 605, 607, 567, 550, 596, 591, 559, 609, 543, 542, 578, 542, 556, 612, 571, 586, 604, 548, 578, 594, 571]\n"
          ]
        },
        {
          "output_type": "display_data",
          "data": {
            "text/plain": [
              "<Figure size 432x288 with 1 Axes>"
            ],
            "image/png": "[encoded data removed]"
          },
          "metadata": {
            "needs_background": "light"
          }
        }
      ]
    },
    {
      "cell_type": "markdown",
      "source": [
        "SBOX MODEL"
      ],
      "metadata": {
        "id": "ZdlwXJpsX4M1"
      }
    },
    {
      "cell_type": "code",
      "source": [
        "#TENSOR Object maken voor x waarden NN training\n",
        "os.chdir(standaarddirectory)\n",
        "os.chdir(\"stud_train_combined_SBOX\")\n",
        "\n",
        "samplesSBOX = [np.load(f\"{x}SBOX.npy\") for x in range(1, 101)]\n",
        "samplesSBOX = tf.convert_to_tensor(samplesSBOX)\n",
        "\n",
        "os.chdir(standaarddirectory)"
      ],
      "metadata": {
        "id": "WRxsIlpLX2r5"
      },
      "execution_count": 389,
      "outputs": []
    },
    {
      "cell_type": "code",
      "source": [
        "#TENSOR Object maken voor x waarden NN testing\n",
        "os.chdir(standaarddirectory)\n",
        "os.chdir(\"stud_test_combined_SBOX\")\n",
        "\n",
        "samplesSBOXtest = [np.load(f\"{x}SBOX.npy\") for x in range(1, 101)]\n",
        "samplesSBOXtest = tf.convert_to_tensor(samplesSBOXtest)\n",
        "\n",
        "os.chdir(standaarddirectory)"
      ],
      "metadata": {
        "id": "WoiOowg-X2r6"
      },
      "execution_count": 390,
      "outputs": []
    },
    {
      "cell_type": "code",
      "source": [
        "#TENSOR object maken voor y waarden NN training\n",
        "delaySBOX = pd.DataFrame(data = delaypiekSBOX)\n",
        "delaySBOX = tf.convert_to_tensor(delaySBOX)"
      ],
      "metadata": {
        "id": "hEbSrizMX2r6"
      },
      "execution_count": 391,
      "outputs": []
    },
    {
      "cell_type": "code",
      "source": [
        "#Model aanmaken\n",
        "modelSBOX = tf.keras.Sequential()\n",
        "modelSBOX.add(layers.Dense(512, activation='relu', input_shape=(1024,)))\n",
        "modelSBOX.add(layers.Dense(256, activation='relu'))\n",
        "modelSBOX.add(layers.Dense(64, activation='relu'))\n",
        "modelSBOX.add(layers.Dense(8, activation='relu'))\n",
        "modelSBOX.add(layers.Dense(1))"
      ],
      "metadata": {
        "id": "WyM-lYyiX2r7"
      },
      "execution_count": 392,
      "outputs": []
    },
    {
      "cell_type": "code",
      "source": [
        "modelSBOX.summary()"
      ],
      "metadata": {
        "colab": {
          "base_uri": "https://localhost:8080/"
        },
        "outputId": "13fdffe8-6488-468c-9b1c-b844421bfc91",
        "id": "5kFzPUSVX2r7"
      },
      "execution_count": 393,
      "outputs": [
        {
          "output_type": "stream",
          "name": "stdout",
          "text": [
            "Model: \"sequential_23\"\n",
            "_________________________________________________________________\n",
            " Layer (type)                Output Shape              Param #   \n",
            "=================================================================\n",
            " dense_115 (Dense)           (None, 512)               524800    \n",
            "                                                                 \n",
            " dense_116 (Dense)           (None, 256)               131328    \n",
            "                                                                 \n",
            " dense_117 (Dense)           (None, 64)                16448     \n",
            "                                                                 \n",
            " dense_118 (Dense)           (None, 8)                 520       \n",
            "                                                                 \n",
            " dense_119 (Dense)           (None, 1)                 9         \n",
            "                                                                 \n",
            "=================================================================\n",
            "Total params: 673,105\n",
            "Trainable params: 673,105\n",
            "Non-trainable params: 0\n",
            "_________________________________________________________________\n"
          ]
        }
      ]
    },
    {
      "cell_type": "code",
      "source": [
        "#Optimizer, loss function en metrics toevoegen aan model en compileren\n",
        "modelSBOX.compile(optimizer='adam', loss='mae', metrics=['mae'])"
      ],
      "metadata": {
        "id": "bXw5hevoX2r8"
      },
      "execution_count": 394,
      "outputs": []
    },
    {
      "cell_type": "code",
      "source": [
        "#Model Trainen\n",
        "history = modelSBOX.fit(samplesSBOX,\n",
        "                        delaySBOX,\n",
        "                        epochs=20)"
      ],
      "metadata": {
        "colab": {
          "base_uri": "https://localhost:8080/"
        },
        "outputId": "ddbf4d63-8cae-4299-efed-d34e5c13a80a",
        "id": "WB1QgES9X2r8"
      },
      "execution_count": 395,
      "outputs": [
        {
          "output_type": "stream",
          "name": "stdout",
          "text": [
            "Epoch 1/20\n",
            "4/4 [==============================] - 1s 10ms/step - loss: 578.0696 - mae: 578.0696\n",
            "Epoch 2/20\n",
            "4/4 [==============================] - 0s 9ms/step - loss: 557.6661 - mae: 557.6661\n",
            "Epoch 3/20\n",
            "4/4 [==============================] - 0s 9ms/step - loss: 512.0267 - mae: 512.0267\n",
            "Epoch 4/20\n",
            "4/4 [==============================] - 0s 9ms/step - loss: 421.5537 - mae: 421.5537\n",
            "Epoch 5/20\n",
            "4/4 [==============================] - 0s 10ms/step - loss: 258.9716 - mae: 258.9716\n",
            "Epoch 6/20\n",
            "4/4 [==============================] - 0s 9ms/step - loss: 93.0896 - mae: 93.0896\n",
            "Epoch 7/20\n",
            "4/4 [==============================] - 0s 10ms/step - loss: 154.2305 - mae: 154.2305\n",
            "Epoch 8/20\n",
            "4/4 [==============================] - 0s 10ms/step - loss: 76.2035 - mae: 76.2035\n",
            "Epoch 9/20\n",
            "4/4 [==============================] - 0s 12ms/step - loss: 99.5789 - mae: 99.5789\n",
            "Epoch 10/20\n",
            "4/4 [==============================] - 0s 10ms/step - loss: 79.9101 - mae: 79.9101\n",
            "Epoch 11/20\n",
            "4/4 [==============================] - 0s 9ms/step - loss: 72.2179 - mae: 72.2179\n",
            "Epoch 12/20\n",
            "4/4 [==============================] - 0s 10ms/step - loss: 75.1498 - mae: 75.1498\n",
            "Epoch 13/20\n",
            "4/4 [==============================] - 0s 9ms/step - loss: 64.4315 - mae: 64.4315\n",
            "Epoch 14/20\n",
            "4/4 [==============================] - 0s 9ms/step - loss: 66.9562 - mae: 66.9562\n",
            "Epoch 15/20\n",
            "4/4 [==============================] - 0s 10ms/step - loss: 51.5069 - mae: 51.5069\n",
            "Epoch 16/20\n",
            "4/4 [==============================] - 0s 9ms/step - loss: 48.1023 - mae: 48.1023\n",
            "Epoch 17/20\n",
            "4/4 [==============================] - 0s 10ms/step - loss: 44.9184 - mae: 44.9184\n",
            "Epoch 18/20\n",
            "4/4 [==============================] - 0s 10ms/step - loss: 45.8214 - mae: 45.8214\n",
            "Epoch 19/20\n",
            "4/4 [==============================] - 0s 11ms/step - loss: 41.1112 - mae: 41.1112\n",
            "Epoch 20/20\n",
            "4/4 [==============================] - 0s 10ms/step - loss: 42.0751 - mae: 42.0751\n"
          ]
        }
      ]
    },
    {
      "cell_type": "code",
      "source": [
        "predictionsSBOX = modelSBOX.predict(samplesSBOXtest)"
      ],
      "metadata": {
        "colab": {
          "base_uri": "https://localhost:8080/"
        },
        "outputId": "16cc83e3-9af0-4c74-b047-82badd7042e3",
        "id": "eHYnazX3X2r8"
      },
      "execution_count": 396,
      "outputs": [
        {
          "output_type": "stream",
          "name": "stdout",
          "text": [
            "4/4 [==============================] - 0s 6ms/step\n"
          ]
        }
      ]
    },
    {
      "cell_type": "code",
      "source": [
        "predictionslistSBOX = predictionsSBOX.tolist()\n",
        "predictionslistSBOXflat = [item for sublist in predictionslistSBOX for item in sublist]\n",
        "\n",
        "error_list_SBOX = []   #absolute waarde van de fout van predictie \n",
        "for error1, error2 in zip(predictionslistSBOXflat, delaypiekSBOXtest):\n",
        "  error_list_SBOX.append(round(abs(error1 - error2)))\n",
        "\n",
        "print(error_list_SBOX)\n",
        "print(predictionslistSBOXflat)\n",
        "print(delaypiekSBOXtest)\n",
        "#visualiseren error\n",
        "bar = plt.figure(3)\n",
        "plt.bar(np.arange(0, 100), error_list_SBOX)\n",
        "plt.ylim(0, 512)\n",
        "plt.show()\n"
      ],
      "metadata": {
        "colab": {
          "base_uri": "https://localhost:8080/",
          "height": 337
        },
        "outputId": "b5a50493-63e5-401a-a1bd-ca4f03cf0d0a",
        "id": "DJNqCyBjX2r8"
      },
      "execution_count": 397,
      "outputs": [
        {
          "output_type": "stream",
          "name": "stdout",
          "text": [
            "[60, 115, 9, 19, 96, 123, 88, 11, 69, 4, 90, 12, 40, 48, 31, 31, 71, 39, 62, 21, 63, 76, 27, 25, 59, 96, 2, 24, 45, 36, 22, 46, 40, 53, 36, 60, 51, 66, 0, 32, 77, 57, 23, 82, 8, 20, 11, 51, 39, 37, 36, 18, 56, 19, 14, 80, 117, 19, 62, 54, 23, 43, 1, 19, 59, 21, 23, 34, 51, 29, 12, 31, 22, 49, 31, 40, 33, 58, 9, 38, 19, 23, 14, 16, 48, 6, 40, 82, 81, 40, 62, 81, 4, 29, 44, 19, 18, 42, 63, 22]\n",
            "[643.2989501953125, 660.284423828125, 576.9232177734375, 528.6259155273438, 655.787353515625, 672.052001953125, 661.2498168945312, 567.1636962890625, 627.2059326171875, 578.700927734375, 675.8505859375, 599.4248657226562, 597.9109497070312, 614.7896728515625, 560.3397216796875, 565.2444458007812, 613.0521850585938, 535.8675537109375, 620.4473876953125, 570.09228515625, 544.6740112304688, 627.8284301757812, 579.3487548828125, 569.3568115234375, 626.8822021484375, 643.368408203125, 596.8932495117188, 556.1529541015625, 564.8482055664062, 528.34375, 565.3228759765625, 500.35797119140625, 591.8361206054688, 542.4613647460938, 535.199462890625, 642.6201171875, 550.3350219726562, 608.4738159179688, 581.0933837890625, 581.38916015625, 644.7807006835938, 638.1572265625, 572.97412109375, 635.4835815429688, 578.729736328125, 561.474365234375, 614.4727172851562, 545.975341796875, 621.1268920898438, 625.3228759765625, 523.831298828125, 595.8717651367188, 525.953369140625, 578.8766479492188, 572.0737915039062, 479.394287109375, 668.167236328125, 595.1149291992188, 480.839599609375, 661.794189453125, 600.2545166015625, 605.4622802734375, 607.8668212890625, 564.0399780273438, 517.462158203125, 587.0288696289062, 616.1549682617188, 592.4058227539062, 615.0208129882812, 560.2688598632812, 570.6627197265625, 574.723388671875, 629.4913330078125, 627.9205322265625, 605.6419677734375, 601.1401977539062, 553.9257202148438, 538.9883422851562, 577.1207885742188, 625.485595703125, 611.6598510742188, 567.7726440429688, 601.240966796875, 530.2936401367188, 615.2127685546875, 563.91357421875, 511.0825500488281, 659.4141845703125, 672.6502685546875, 634.2279663085938, 652.2699584960938, 528.8690795898438, 548.2090454101562, 568.6187744140625, 522.6592407226562, 569.7445678710938, 541.2019653320312, 517.4926147460938, 635.449951171875, 626.7018432617188]\n",
            "[583, 545, 586, 548, 560, 549, 573, 556, 558, 583, 586, 587, 558, 567, 591, 596, 542, 575, 558, 549, 608, 552, 552, 544, 568, 547, 595, 580, 610, 564, 543, 546, 552, 595, 571, 583, 601, 542, 581, 549, 568, 581, 596, 553, 587, 581, 603, 597, 582, 588, 560, 578, 582, 560, 586, 559, 551, 576, 543, 608, 577, 562, 607, 583, 576, 608, 593, 558, 564, 589, 583, 544, 607, 579, 575, 561, 587, 597, 568, 587, 593, 591, 587, 546, 567, 558, 551, 577, 592, 594, 590, 610, 552, 598, 567, 589, 559, 559, 572, 605]\n"
          ]
        },
        {
          "output_type": "display_data",
          "data": {
            "text/plain": [
              "<Figure size 432x288 with 1 Axes>"
            ],
            "image/png": "[encoded data removed]"
          },
          "metadata": {
            "needs_background": "light"
          }
        }
      ]
    },
    {
      "cell_type": "markdown",
      "source": [
        "MODEL VOOR ALLE DRIE DE SIGNALEN"
      ],
      "metadata": {
        "id": "UfCqTpDTYfPK"
      }
    },
    {
      "cell_type": "code",
      "source": [
        "#TENSOR VAN 300X1024\n",
        "samplestotal = tf.concat([samplesASDR, tf.concat([samplesGAUSS, samplesSBOX], axis=0)], axis=0)\n",
        "samplestotaltest = tf.concat([samplesASDRtest, tf.concat([samplesGAUSStest, samplesSBOXtest], axis=0)], axis=0)\n",
        "delaytotal = tf.concat([delayASDR, tf.concat([delayGAUSS, delaySBOX], axis=0)], axis=0)\n"
      ],
      "metadata": {
        "id": "HK64A3McZzLu"
      },
      "execution_count": 398,
      "outputs": []
    },
    {
      "cell_type": "code",
      "source": [
        "#Model aanmaken\n",
        "modeltotal = tf.keras.Sequential()\n",
        "modeltotal.add(layers.Dense(512, activation='relu', input_shape=(1024,)))\n",
        "modeltotal.add(layers.Dense(256, activation='relu'))\n",
        "modeltotal.add(layers.Dense(64, activation='relu'))\n",
        "modeltotal.add(layers.Dense(8, activation='relu'))\n",
        "modeltotal.add(layers.Dense(1))"
      ],
      "metadata": {
        "id": "cf7VfJk-axqc"
      },
      "execution_count": 399,
      "outputs": []
    },
    {
      "cell_type": "code",
      "source": [
        "modeltotal.summary()"
      ],
      "metadata": {
        "colab": {
          "base_uri": "https://localhost:8080/"
        },
        "id": "CX_0LyMdbNDG",
        "outputId": "4600bb68-16da-4b02-d159-1f7ab9ef3f8a"
      },
      "execution_count": 400,
      "outputs": [
        {
          "output_type": "stream",
          "name": "stdout",
          "text": [
            "Model: \"sequential_24\"\n",
            "_________________________________________________________________\n",
            " Layer (type)                Output Shape              Param #   \n",
            "=================================================================\n",
            " dense_120 (Dense)           (None, 512)               524800    \n",
            "                                                                 \n",
            " dense_121 (Dense)           (None, 256)               131328    \n",
            "                                                                 \n",
            " dense_122 (Dense)           (None, 64)                16448     \n",
            "                                                                 \n",
            " dense_123 (Dense)           (None, 8)                 520       \n",
            "                                                                 \n",
            " dense_124 (Dense)           (None, 1)                 9         \n",
            "                                                                 \n",
            "=================================================================\n",
            "Total params: 673,105\n",
            "Trainable params: 673,105\n",
            "Non-trainable params: 0\n",
            "_________________________________________________________________\n"
          ]
        }
      ]
    },
    {
      "cell_type": "code",
      "source": [
        "#Optimizer, loss function en metrics toevoegen aan model en compileren\n",
        "modeltotal.compile(optimizer='adam', loss='mae', metrics=['mae'])"
      ],
      "metadata": {
        "id": "ZVbGfx-dbSlk"
      },
      "execution_count": 401,
      "outputs": []
    },
    {
      "cell_type": "code",
      "source": [
        "#Model Trainen\n",
        "history = modelSBOX.fit(samplestotal,\n",
        "                        delaytotal,\n",
        "                        epochs=50)"
      ],
      "metadata": {
        "colab": {
          "base_uri": "https://localhost:8080/"
        },
        "id": "9wgBPe50bUbi",
        "outputId": "7a09090c-f7c9-4986-a8a0-673fac045e32"
      },
      "execution_count": 402,
      "outputs": [
        {
          "output_type": "stream",
          "name": "stdout",
          "text": [
            "Epoch 1/50\n",
            "10/10 [==============================] - 0s 9ms/step - loss: 404.5321 - mae: 404.5321\n",
            "Epoch 2/50\n",
            "10/10 [==============================] - 0s 9ms/step - loss: 318.8999 - mae: 318.8999\n",
            "Epoch 3/50\n",
            "10/10 [==============================] - 0s 12ms/step - loss: 296.3754 - mae: 296.3754\n",
            "Epoch 4/50\n",
            "10/10 [==============================] - 0s 10ms/step - loss: 284.9212 - mae: 284.9212\n",
            "Epoch 5/50\n",
            "10/10 [==============================] - 0s 9ms/step - loss: 289.4141 - mae: 289.4141\n",
            "Epoch 6/50\n",
            "10/10 [==============================] - 0s 9ms/step - loss: 275.8939 - mae: 275.8939\n",
            "Epoch 7/50\n",
            "10/10 [==============================] - 0s 11ms/step - loss: 273.7841 - mae: 273.7841\n",
            "Epoch 8/50\n",
            "10/10 [==============================] - 0s 9ms/step - loss: 262.7238 - mae: 262.7238\n",
            "Epoch 9/50\n",
            "10/10 [==============================] - 0s 10ms/step - loss: 255.5040 - mae: 255.5040\n",
            "Epoch 10/50\n",
            "10/10 [==============================] - 0s 9ms/step - loss: 239.8831 - mae: 239.8831\n",
            "Epoch 11/50\n",
            "10/10 [==============================] - 0s 9ms/step - loss: 227.7030 - mae: 227.7030\n",
            "Epoch 12/50\n",
            "10/10 [==============================] - 0s 9ms/step - loss: 218.7137 - mae: 218.7137\n",
            "Epoch 13/50\n",
            "10/10 [==============================] - 0s 9ms/step - loss: 218.3740 - mae: 218.3740\n",
            "Epoch 14/50\n",
            "10/10 [==============================] - 0s 9ms/step - loss: 219.0835 - mae: 219.0835\n",
            "Epoch 15/50\n",
            "10/10 [==============================] - 0s 10ms/step - loss: 203.6259 - mae: 203.6259\n",
            "Epoch 16/50\n",
            "10/10 [==============================] - 0s 9ms/step - loss: 193.5143 - mae: 193.5143\n",
            "Epoch 17/50\n",
            "10/10 [==============================] - 0s 10ms/step - loss: 194.7486 - mae: 194.7486\n",
            "Epoch 18/50\n",
            "10/10 [==============================] - 0s 9ms/step - loss: 181.1222 - mae: 181.1222\n",
            "Epoch 19/50\n",
            "10/10 [==============================] - 0s 10ms/step - loss: 177.8027 - mae: 177.8027\n",
            "Epoch 20/50\n",
            "10/10 [==============================] - 0s 9ms/step - loss: 173.0243 - mae: 173.0243\n",
            "Epoch 21/50\n",
            "10/10 [==============================] - 0s 9ms/step - loss: 171.2247 - mae: 171.2247\n",
            "Epoch 22/50\n",
            "10/10 [==============================] - 0s 9ms/step - loss: 159.2835 - mae: 159.2835\n",
            "Epoch 23/50\n",
            "10/10 [==============================] - 0s 9ms/step - loss: 156.0777 - mae: 156.0777\n",
            "Epoch 24/50\n",
            "10/10 [==============================] - 0s 9ms/step - loss: 147.8993 - mae: 147.8993\n",
            "Epoch 25/50\n",
            "10/10 [==============================] - 0s 10ms/step - loss: 142.4232 - mae: 142.4232\n",
            "Epoch 26/50\n",
            "10/10 [==============================] - 0s 9ms/step - loss: 136.2917 - mae: 136.2917\n",
            "Epoch 27/50\n",
            "10/10 [==============================] - 0s 11ms/step - loss: 136.1005 - mae: 136.1005\n",
            "Epoch 28/50\n",
            "10/10 [==============================] - 0s 10ms/step - loss: 129.8235 - mae: 129.8235\n",
            "Epoch 29/50\n",
            "10/10 [==============================] - 0s 9ms/step - loss: 135.7492 - mae: 135.7492\n",
            "Epoch 30/50\n",
            "10/10 [==============================] - 0s 9ms/step - loss: 129.4363 - mae: 129.4363\n",
            "Epoch 31/50\n",
            "10/10 [==============================] - 0s 10ms/step - loss: 125.2777 - mae: 125.2777\n",
            "Epoch 32/50\n",
            "10/10 [==============================] - 0s 9ms/step - loss: 122.0152 - mae: 122.0152\n",
            "Epoch 33/50\n",
            "10/10 [==============================] - 0s 9ms/step - loss: 114.3612 - mae: 114.3612\n",
            "Epoch 34/50\n",
            "10/10 [==============================] - 0s 9ms/step - loss: 119.3164 - mae: 119.3164\n",
            "Epoch 35/50\n",
            "10/10 [==============================] - 0s 9ms/step - loss: 115.6358 - mae: 115.6358\n",
            "Epoch 36/50\n",
            "10/10 [==============================] - 0s 9ms/step - loss: 103.7190 - mae: 103.7190\n",
            "Epoch 37/50\n",
            "10/10 [==============================] - 0s 10ms/step - loss: 103.7143 - mae: 103.7143\n",
            "Epoch 38/50\n",
            "10/10 [==============================] - 0s 10ms/step - loss: 99.6873 - mae: 99.6873\n",
            "Epoch 39/50\n",
            "10/10 [==============================] - 0s 10ms/step - loss: 93.2871 - mae: 93.2871\n",
            "Epoch 40/50\n",
            "10/10 [==============================] - 0s 9ms/step - loss: 90.8039 - mae: 90.8039\n",
            "Epoch 41/50\n",
            "10/10 [==============================] - 0s 9ms/step - loss: 86.8474 - mae: 86.8474\n",
            "Epoch 42/50\n",
            "10/10 [==============================] - 0s 9ms/step - loss: 83.0550 - mae: 83.0550\n",
            "Epoch 43/50\n",
            "10/10 [==============================] - 0s 9ms/step - loss: 80.5891 - mae: 80.5891\n",
            "Epoch 44/50\n",
            "10/10 [==============================] - 0s 9ms/step - loss: 79.0577 - mae: 79.0577\n",
            "Epoch 45/50\n",
            "10/10 [==============================] - 0s 9ms/step - loss: 76.0110 - mae: 76.0110\n",
            "Epoch 46/50\n",
            "10/10 [==============================] - 0s 9ms/step - loss: 81.2122 - mae: 81.2122\n",
            "Epoch 47/50\n",
            "10/10 [==============================] - 0s 10ms/step - loss: 76.3280 - mae: 76.3280\n",
            "Epoch 48/50\n",
            "10/10 [==============================] - 0s 9ms/step - loss: 75.8526 - mae: 75.8526\n",
            "Epoch 49/50\n",
            "10/10 [==============================] - 0s 9ms/step - loss: 74.0059 - mae: 74.0059\n",
            "Epoch 50/50\n",
            "10/10 [==============================] - 0s 10ms/step - loss: 76.0461 - mae: 76.0461\n"
          ]
        }
      ]
    },
    {
      "cell_type": "code",
      "source": [
        "predictionstotal = modeltotal.predict(samplestotaltest)"
      ],
      "metadata": {
        "colab": {
          "base_uri": "https://localhost:8080/"
        },
        "id": "u_GOQH8GbczI",
        "outputId": "bb820cd9-3de9-4da3-ed9b-953cf8fc3425"
      },
      "execution_count": 403,
      "outputs": [
        {
          "output_type": "stream",
          "name": "stdout",
          "text": [
            "10/10 [==============================] - 0s 4ms/step\n"
          ]
        }
      ]
    },
    {
      "cell_type": "code",
      "source": [
        "predictionslisttotal = predictionstotal.tolist()\n",
        "predictionslisttotalflat = [item for sublist in predictionslisttotal for item in sublist]\n",
        "\n",
        "delaypiektotaltest = delaypiekASDRtest + delaypiekGAUSStest + delaypiekSBOXtest\n",
        "\n",
        "error_list_total = []   #absolute waarde van de fout van predictie \n",
        "for error1, error2 in zip(predictionslisttotalflat, delaypiektotaltest):\n",
        "  error_list_total.append(round(abs(error1 - error2)))\n",
        "\n",
        "print(error_list_total)\n",
        "print(predictionslisttotalflat)\n",
        "print(delaypiektotaltest)\n",
        "#visualiseren error\n",
        "bar = plt.figure(4)\n",
        "plt.bar(np.arange(0, 300), error_list_total)\n",
        "plt.ylim(0, 1024)\n",
        "plt.show()\n",
        "\n",
        "\n"
      ],
      "metadata": {
        "colab": {
          "base_uri": "https://localhost:8080/",
          "height": 337
        },
        "id": "3P9EX6WRbtKH",
        "outputId": "9193506d-943b-4f4f-8f1b-4a8a500ef194"
      },
      "execution_count": 404,
      "outputs": [
        {
          "output_type": "stream",
          "name": "stdout",
          "text": [
            "[597, 606, 552, 599, 559, 560, 563, 543, 560, 542, 611, 568, 571, 574, 557, 542, 607, 547, 587, 576, 589, 599, 608, 598, 548, 547, 612, 565, 549, 549, 546, 580, 545, 580, 552, 612, 571, 554, 581, 611, 601, 557, 556, 609, 583, 590, 598, 553, 555, 599, 559, 599, 577, 570, 586, 587, 563, 575, 597, 544, 568, 582, 542, 558, 552, 583, 567, 596, 547, 593, 592, 608, 560, 548, 562, 608, 559, 593, 562, 569, 608, 556, 564, 551, 583, 569, 553, 589, 604, 568, 558, 593, 559, 588, 599, 606, 574, 588, 564, 600, 550, 588, 552, 602, 554, 555, 596, 553, 609, 585, 577, 573, 588, 604, 603, 586, 585, 546, 554, 608, 603, 604, 562, 557, 557, 545, 600, 604, 606, 553, 543, 564, 603, 556, 581, 608, 595, 609, 607, 574, 590, 571, 593, 598, 598, 603, 556, 559, 547, 596, 543, 558, 604, 572, 601, 589, 595, 579, 549, 578, 598, 594, 569, 570, 564, 603, 587, 605, 595, 589, 591, 544, 558, 554, 579, 548, 563, 604, 595, 604, 605, 565, 548, 594, 589, 557, 608, 543, 540, 576, 542, 554, 610, 569, 585, 603, 547, 578, 593, 570, 583, 545, 586, 548, 560, 549, 573, 555, 558, 583, 586, 586, 557, 566, 591, 596, 542, 575, 558, 549, 607, 552, 552, 544, 568, 547, 594, 579, 610, 564, 543, 546, 551, 595, 571, 582, 600, 542, 580, 549, 568, 581, 595, 553, 587, 580, 602, 596, 582, 588, 560, 578, 582, 559, 585, 559, 551, 575, 543, 607, 577, 562, 606, 582, 576, 607, 593, 558, 564, 588, 583, 544, 606, 579, 575, 561, 587, 597, 568, 587, 593, 591, 587, 546, 567, 558, 551, 577, 591, 594, 589, 609, 552, 597, 567, 589, 559, 559, 572, 604]\n",
            "[0.19773921370506287, 0.2317461222410202, 0.09716744720935822, 0.1584244668483734, 0.2573765516281128, 0.2061491161584854, 0.2637850046157837, 0.08985581994056702, 0.29607540369033813, 0.16637438535690308, 0.18215778470039368, 0.2675883173942566, 0.06430639326572418, 0.10101333260536194, 0.26618465781211853, 0.18140234053134918, 0.23868784308433533, 0.10291967540979385, 0.2312040477991104, 0.19965898990631104, 0.19557759165763855, 0.1795850694179535, 0.23488309979438782, 0.23680643737316132, 0.11743281781673431, 0.23690477013587952, 0.28407570719718933, 0.14949382841587067, 0.3948514759540558, 0.07496050745248795, 0.22436991333961487, 0.20349596440792084, 0.1256774365901947, 0.1355467140674591, 0.08234460651874542, 0.28163641691207886, 0.28283020853996277, 0.20271772146224976, 0.17569831013679504, 0.04792751744389534, 0.251888245344162, 0.20769616961479187, 0.19908279180526733, 0.21946029365062714, 0.12957829236984253, 0.24355149269104004, 0.19604192674160004, 0.13533532619476318, 0.14742571115493774, 0.15479552745819092, 0.19972389936447144, 0.06997250020503998, 0.28042495250701904, 0.11900512874126434, 0.21126505732536316, 0.17715907096862793, 0.2004186362028122, 0.2542182505130768, 0.2247740626335144, 0.24047543108463287, 0.23408658802509308, 0.21499286592006683, 0.27193859219551086, 0.17911949753761292, 0.17690519988536835, 0.10193035006523132, 0.13384100794792175, 0.16262346506118774, 0.04723768308758736, 0.09074898064136505, 0.2049608826637268, 0.18879146873950958, 0.3163585066795349, 0.03668208420276642, 0.1852254718542099, 0.19298747181892395, 0.03780604153871536, 0.257421612739563, 0.34741610288619995, 0.13909174501895905, 0.1850978583097458, 0.3342052400112152, 0.2664864957332611, 0.07116454094648361, 0.08342274278402328, 0.17548799514770508, 0.31416791677474976, 0.18618877232074738, 0.23764215409755707, 0.1435524821281433, 0.22921065986156464, 0.19936655461788177, 0.14383791387081146, 0.08301348984241486, 0.007573910057544708, 0.35113683342933655, 0.19553309679031372, 0.25003859400749207, 0.08567026257514954, 0.10515693575143814, 1.9035722017288208, 0.8689154982566833, 1.4986848831176758, 1.8078444004058838, 0.17486047744750977, 1.3164321184158325, 0.9301997423171997, 1.26984441280365, 1.9084841012954712, 1.455263614654541, 1.7201424837112427, 2.239257335662842, 0.6270945072174072, 0.9467747211456299, 1.908225417137146, 2.075639486312866, 1.9098542928695679, 1.5685213804244995, 0.8344341516494751, 1.3267148733139038, 0.8661623001098633, 0.9084630608558655, 0.8112202882766724, 1.875298023223877, 1.1462002992630005, 1.85403311252594, 1.4265516996383667, 1.8813462257385254, 1.4878274202346802, 1.5068023204803467, 2.282254695892334, 1.7035255432128906, 0.863856852054596, 2.604689836502075, 1.8158262968063354, 1.1841723918914795, 2.2313523292541504, 2.1522486209869385, 1.0498318672180176, 2.138216972351074, 1.4635668992996216, 1.9195270538330078, 1.7981570959091187, 1.7872425317764282, 0.8059614896774292, 0.7635254263877869, 1.1212230920791626, 1.7373511791229248, 15.208951950073242, 2.679568290710449, 1.2254163026809692, 1.7701618671417236, 0.9025254249572754, 2.3829846382141113, 10.267413139343262, 1.227231502532959, 0.8251563310623169, 1.4280753135681152, 2.3683300018310547, 1.2497236728668213, 0.8442419767379761, 1.599292278289795, 1.0094940662384033, 2.4524855613708496, 1.0245009660720825, 2.0513370037078857, 1.6281213760375977, 1.4212419986724854, 1.7678698301315308, 7.055071830749512, 1.0393033027648926, 1.5182843208312988, 7.180421352386475, 1.86375093460083, 1.209689736366272, 1.2607133388519287, 2.413663148880005, 0.9853504300117493, 2.0852954387664795, 0.8501118421554565, 1.7822932004928589, 1.8960754871368408, 1.9098161458969116, 1.8445392847061157, 1.877605676651001, 1.5667234659194946, 1.3112108707427979, 0.10828770697116852, 1.6826927661895752, 2.004122495651245, 0.4827274680137634, 1.897143840789795, 1.6107887029647827, 1.7703224420547485, 1.2339760065078735, 1.0453822612762451, 0.9437198638916016, 0.3941901922225952, 0.6538370251655579, 0.8367071151733398, 0.2998737394809723, 0.26949357986450195, 0.46115294098854065, 0.17002008855342865, 0.39440855383872986, 0.30886542797088623, 0.32491809129714966, 0.5237046480178833, 0.231979101896286, 0.2269977629184723, 0.43543076515197754, 0.6234238147735596, 0.547162652015686, 0.5413985252380371, 0.23238757252693176, 0.3123074471950531, 0.25890809297561646, 0.14925816655158997, 0.3734121024608612, 0.32806381583213806, 0.571499228477478, 0.3980801999568939, 0.16478878259658813, 0.21923696994781494, 0.30468350648880005, 0.3017025291919708, 0.6264750361442566, 0.5825753211975098, 0.3341040015220642, 0.23933009803295135, 0.1561061292886734, 0.33526411652565, 0.5393014550209045, 0.2460351437330246, 0.16803322732448578, 0.6031425595283508, 0.5994271039962769, 0.23705117404460907, 0.5206984877586365, 0.3243163526058197, 0.3947894275188446, 0.3454397916793823, 0.6118252873420715, 0.19415628910064697, 0.485587477684021, 0.5300422310829163, 0.6071703433990479, 0.5575636029243469, 0.4040307402610779, 0.4283643364906311, 0.23539334535598755, 0.40078437328338623, 0.23216132819652557, 0.6516233086585999, 0.5705984830856323, 0.22167664766311646, 0.3631671667098999, 0.566260039806366, 0.1982315182685852, 0.5118268728256226, 0.36835700273513794, 0.28983184695243835, 0.5727151036262512, 0.6208182573318481, 0.19470147788524628, 0.6180521249771118, 0.4554765820503235, 0.39789432287216187, 0.4164174795150757, 0.6527080535888672, 0.32405850291252136, 0.2913534939289093, 0.656802237033844, 0.49630188941955566, 0.24716877937316895, 0.3208203613758087, 0.4991079568862915, 0.4913071393966675, 0.4147037863731384, 0.40544000267982483, 0.31100741028785706, 0.2629440128803253, 0.36266058683395386, 0.21738724410533905, 0.21634869277477264, 0.2077266424894333, 0.2708395719528198, 0.332128643989563, 0.5464997291564941, 0.3726654052734375, 0.5011320114135742, 0.6299948692321777, 0.16102217137813568, 0.5100517272949219, 0.20210179686546326, 0.4209371507167816, 0.27583423256874084, 0.2751179337501526, 0.28681254386901855, 0.500716507434845]\n",
            "[597, 606, 552, 599, 559, 560, 563, 543, 560, 542, 611, 568, 571, 574, 557, 542, 607, 547, 587, 576, 589, 599, 608, 598, 548, 547, 612, 565, 549, 549, 546, 580, 545, 580, 552, 612, 571, 554, 581, 611, 601, 557, 556, 609, 583, 590, 598, 553, 555, 599, 559, 599, 577, 570, 586, 587, 563, 575, 597, 544, 568, 582, 542, 558, 552, 583, 567, 596, 547, 593, 592, 608, 560, 548, 562, 608, 559, 593, 562, 569, 608, 556, 564, 551, 583, 569, 553, 589, 604, 568, 558, 593, 559, 588, 599, 606, 574, 588, 564, 600, 552, 589, 553, 604, 554, 556, 597, 554, 611, 586, 579, 575, 589, 605, 605, 588, 587, 548, 555, 609, 604, 605, 563, 559, 558, 547, 601, 606, 607, 555, 545, 566, 604, 559, 583, 609, 597, 611, 608, 576, 591, 573, 595, 600, 599, 604, 557, 561, 562, 599, 544, 560, 605, 574, 611, 590, 596, 580, 551, 579, 599, 596, 570, 572, 565, 605, 589, 606, 597, 596, 592, 546, 565, 556, 580, 549, 565, 605, 597, 605, 607, 567, 550, 596, 591, 559, 609, 543, 542, 578, 542, 556, 612, 571, 586, 604, 548, 578, 594, 571, 583, 545, 586, 548, 560, 549, 573, 556, 558, 583, 586, 587, 558, 567, 591, 596, 542, 575, 558, 549, 608, 552, 552, 544, 568, 547, 595, 580, 610, 564, 543, 546, 552, 595, 571, 583, 601, 542, 581, 549, 568, 581, 596, 553, 587, 581, 603, 597, 582, 588, 560, 578, 582, 560, 586, 559, 551, 576, 543, 608, 577, 562, 607, 583, 576, 608, 593, 558, 564, 589, 583, 544, 607, 579, 575, 561, 587, 597, 568, 587, 593, 591, 587, 546, 567, 558, 551, 577, 592, 594, 590, 610, 552, 598, 567, 589, 559, 559, 572, 605]\n"
          ]
        },
        {
          "output_type": "display_data",
          "data": {
            "text/plain": [
              "<Figure size 432x288 with 1 Axes>"
            ],
            "image/png": "[encoded data removed]"
          },
          "metadata": {
            "needs_background": "light"
          }
        }
      ]
    },
    {
      "cell_type": "markdown",
      "source": [
        "https://stackoverflow.com/questions/59737875/keras-change-learning-rate "
      ],
      "metadata": {
        "id": "kxSNRQujiHo7"
      }
    }
  ]
}